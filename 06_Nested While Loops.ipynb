{
 "cells": [
  {
   "cell_type": "markdown",
   "id": "a656fa7f",
   "metadata": {},
   "source": [
    "# Nested While Loop"
   ]
  },
  {
   "cell_type": "code",
   "execution_count": null,
   "id": "ec39442d",
   "metadata": {},
   "outputs": [],
   "source": [
    "11  12  13\n",
    "21  22  23\n",
    "31  32  33"
   ]
  },
  {
   "cell_type": "code",
   "execution_count": 1,
   "id": "8f5f2b94",
   "metadata": {},
   "outputs": [
    {
     "name": "stdout",
     "output_type": "stream",
     "text": [
      "1 1  1 2  1 3  "
     ]
    }
   ],
   "source": [
    "i = 1\n",
    "j = 1\n",
    "\n",
    "while i <= 3 :\n",
    "    while j <= 3 :\n",
    "        print(i,j, end = '  ')\n",
    "        j += 1\n",
    "    i += 1"
   ]
  },
  {
   "cell_type": "code",
   "execution_count": 4,
   "id": "fa8bdcdf",
   "metadata": {},
   "outputs": [
    {
     "name": "stdout",
     "output_type": "stream",
     "text": [
      "1 1  1 2  1 3  \n",
      "2 1  2 2  2 3  \n",
      "3 1  3 2  3 3  \n"
     ]
    }
   ],
   "source": [
    "i = 1\n",
    "\n",
    "while i <= 3 :\n",
    "    j = 1\n",
    "    while j <= 3 :\n",
    "        print(i,j, end = '  ')\n",
    "        j += 1\n",
    "    print()\n",
    "    i += 1"
   ]
  },
  {
   "cell_type": "code",
   "execution_count": 5,
   "id": "740f506f",
   "metadata": {},
   "outputs": [
    {
     "name": "stdout",
     "output_type": "stream",
     "text": [
      "11  12  13  \n",
      "21  22  23  \n",
      "31  32  33  \n"
     ]
    }
   ],
   "source": [
    "i = 1\n",
    "\n",
    "while i <= 3 :\n",
    "    j = 1\n",
    "    while j <= 3 :\n",
    "        print(i, end='')\n",
    "        print(j, end='  ')\n",
    "        j += 1\n",
    "    print()\n",
    "    i += 1"
   ]
  },
  {
   "cell_type": "code",
   "execution_count": null,
   "id": "778dedef",
   "metadata": {},
   "outputs": [],
   "source": [
    "*\n",
    "**\n",
    "***\n",
    "****\n",
    "*****"
   ]
  },
  {
   "cell_type": "code",
   "execution_count": 8,
   "id": "9e46f0e8",
   "metadata": {},
   "outputs": [
    {
     "name": "stdout",
     "output_type": "stream",
     "text": [
      "*\n",
      "**\n",
      "***\n",
      "****\n",
      "*****\n"
     ]
    }
   ],
   "source": [
    "i = 1\n",
    "\n",
    "while i <= 5:\n",
    "    j = 1\n",
    "    while j <= i:\n",
    "        print(\"*\", end='')\n",
    "        j += 1\n",
    "    print()\n",
    "    i += 1"
   ]
  },
  {
   "cell_type": "code",
   "execution_count": null,
   "id": "8ee87c3c",
   "metadata": {},
   "outputs": [],
   "source": [
    "1\n",
    "12\n",
    "123\n",
    "1234\n",
    "12345"
   ]
  },
  {
   "cell_type": "code",
   "execution_count": 9,
   "id": "d208969a",
   "metadata": {},
   "outputs": [
    {
     "name": "stdout",
     "output_type": "stream",
     "text": [
      "1\n",
      "12\n",
      "123\n",
      "1234\n",
      "12345\n"
     ]
    }
   ],
   "source": [
    "i = 1\n",
    "\n",
    "while i <= 5:\n",
    "    j = 1\n",
    "    while j <= i:\n",
    "        print(j, end='')\n",
    "        j += 1\n",
    "    print()\n",
    "    i += 1"
   ]
  },
  {
   "cell_type": "code",
   "execution_count": null,
   "id": "f92fc6ba",
   "metadata": {},
   "outputs": [],
   "source": [
    "1\n",
    "22\n",
    "333\n",
    "4444\n",
    "55555"
   ]
  },
  {
   "cell_type": "code",
   "execution_count": 10,
   "id": "488a9050",
   "metadata": {},
   "outputs": [
    {
     "name": "stdout",
     "output_type": "stream",
     "text": [
      "1\n",
      "22\n",
      "333\n",
      "4444\n",
      "55555\n"
     ]
    }
   ],
   "source": [
    "i = 1\n",
    "\n",
    "while i <= 5:\n",
    "    j = 1\n",
    "    while j <= i:\n",
    "        print(i, end='')\n",
    "        j += 1\n",
    "    print()\n",
    "    i += 1"
   ]
  },
  {
   "cell_type": "code",
   "execution_count": null,
   "id": "c8e7a8d1",
   "metadata": {},
   "outputs": [],
   "source": [
    "5\n",
    "44\n",
    "333\n",
    "2222\n",
    "11111"
   ]
  },
  {
   "cell_type": "code",
   "execution_count": null,
   "id": "c340efd5",
   "metadata": {},
   "outputs": [],
   "source": [
    "5\n",
    "54\n",
    "543\n",
    "5432\n",
    "54321"
   ]
  },
  {
   "cell_type": "code",
   "execution_count": null,
   "id": "5eec59fc",
   "metadata": {},
   "outputs": [],
   "source": [
    "55555\n",
    "4444\n",
    "333\n",
    "22\n",
    "1"
   ]
  },
  {
   "cell_type": "code",
   "execution_count": null,
   "id": "231d3116",
   "metadata": {},
   "outputs": [],
   "source": [
    "54321\n",
    "5432\n",
    "543\n",
    "54\n",
    "5"
   ]
  },
  {
   "cell_type": "code",
   "execution_count": null,
   "id": "0d320133",
   "metadata": {},
   "outputs": [],
   "source": [
    "12345\n",
    "1234\n",
    "123\n",
    "12\n",
    "1"
   ]
  },
  {
   "cell_type": "code",
   "execution_count": null,
   "id": "ecd5161e",
   "metadata": {},
   "outputs": [],
   "source": [
    "1\n",
    "23\n",
    "456\n",
    "78910"
   ]
  },
  {
   "cell_type": "code",
   "execution_count": null,
   "id": "a2c2b8db",
   "metadata": {},
   "outputs": [],
   "source": [
    "    *\n",
    "   **\n",
    "  ***\n",
    " ****\n",
    "*****"
   ]
  },
  {
   "cell_type": "code",
   "execution_count": null,
   "id": "2c681018",
   "metadata": {},
   "outputs": [],
   "source": [
    "    *\n",
    "   ***\n",
    "  *****\n",
    " *******\n",
    "*********"
   ]
  },
  {
   "cell_type": "code",
   "execution_count": null,
   "id": "7c5674fa",
   "metadata": {},
   "outputs": [],
   "source": [
    "    *\n",
    "   ***\n",
    "  *****\n",
    " *******\n",
    "*********\n",
    " *******\n",
    "  *****\n",
    "   ***\n",
    "    *"
   ]
  },
  {
   "cell_type": "markdown",
   "id": "e98aa52a",
   "metadata": {},
   "source": [
    "# pass\n",
    "\n",
    "placeholder"
   ]
  },
  {
   "cell_type": "code",
   "execution_count": null,
   "id": "a3ad8d0e",
   "metadata": {},
   "outputs": [],
   "source": [
    "i = 1\n",
    "while i < 5:\n",
    "    pass"
   ]
  },
  {
   "cell_type": "markdown",
   "id": "cd878f24",
   "metadata": {},
   "source": [
    "# loop else"
   ]
  },
  {
   "cell_type": "code",
   "execution_count": 12,
   "id": "27666848",
   "metadata": {},
   "outputs": [
    {
     "name": "stdout",
     "output_type": "stream",
     "text": [
      "5\n"
     ]
    }
   ],
   "source": [
    "i = 1\n",
    "\n",
    "while i <= 10:\n",
    "    if i == 5:\n",
    "        print(i)\n",
    "        break\n",
    "    i += 1\n",
    "else:\n",
    "    print(\"Finish\")"
   ]
  },
  {
   "cell_type": "code",
   "execution_count": 13,
   "id": "c3bfac84",
   "metadata": {},
   "outputs": [
    {
     "name": "stdout",
     "output_type": "stream",
     "text": [
      "1\n",
      "2\n",
      "3\n",
      "4\n",
      "Finish\n"
     ]
    }
   ],
   "source": [
    "i = 1\n",
    "\n",
    "while i <= 4:\n",
    "    if i == 5:\n",
    "        print(i)\n",
    "        break\n",
    "    else:\n",
    "        print(i)\n",
    "    i += 1\n",
    "else:\n",
    "    print(\"Finish\")"
   ]
  },
  {
   "cell_type": "code",
   "execution_count": 14,
   "id": "b32a67af",
   "metadata": {},
   "outputs": [
    {
     "name": "stdout",
     "output_type": "stream",
     "text": [
      "1\n",
      "2\n",
      "3\n",
      "4\n",
      "5\n"
     ]
    }
   ],
   "source": [
    "i = 1\n",
    "\n",
    "while i <= 10:\n",
    "    if i == 5:\n",
    "        print(i)\n",
    "        break\n",
    "    else:\n",
    "        print(i)\n",
    "    i += 1\n",
    "else:\n",
    "    print(\"Finish\")"
   ]
  },
  {
   "cell_type": "code",
   "execution_count": null,
   "id": "689186c6",
   "metadata": {},
   "outputs": [],
   "source": []
  }
 ],
 "metadata": {
  "kernelspec": {
   "display_name": "Python 3 (ipykernel)",
   "language": "python",
   "name": "python3"
  },
  "language_info": {
   "codemirror_mode": {
    "name": "ipython",
    "version": 3
   },
   "file_extension": ".py",
   "mimetype": "text/x-python",
   "name": "python",
   "nbconvert_exporter": "python",
   "pygments_lexer": "ipython3",
   "version": "3.9.12"
  }
 },
 "nbformat": 4,
 "nbformat_minor": 5
}
