{
 "cells": [
  {
   "cell_type": "markdown",
   "id": "e68fe028",
   "metadata": {},
   "source": [
    "# Regular Expression\n",
    "\n",
    "regex"
   ]
  },
  {
   "cell_type": "code",
   "execution_count": null,
   "id": "14936898",
   "metadata": {},
   "outputs": [],
   "source": [
    "x + y + 2z = 0"
   ]
  },
  {
   "cell_type": "markdown",
   "id": "aa4a2f76",
   "metadata": {},
   "source": [
    "# re\n",
    "\n"
   ]
  },
  {
   "cell_type": "code",
   "execution_count": 1,
   "id": "1268637d",
   "metadata": {},
   "outputs": [],
   "source": [
    "import re"
   ]
  },
  {
   "cell_type": "markdown",
   "id": "e025203e",
   "metadata": {},
   "source": [
    "## match"
   ]
  },
  {
   "cell_type": "code",
   "execution_count": 2,
   "id": "0d5135f8",
   "metadata": {},
   "outputs": [
    {
     "name": "stdout",
     "output_type": "stream",
     "text": [
      "Match\n"
     ]
    }
   ],
   "source": [
    "p = \"Indore\"\n",
    "\n",
    "if re.match(p, \"Indore is Best\"):\n",
    "    print(\"Match\")\n",
    "else:\n",
    "    print(\"Not Match\")"
   ]
  },
  {
   "cell_type": "code",
   "execution_count": 3,
   "id": "79457a2c",
   "metadata": {},
   "outputs": [
    {
     "name": "stdout",
     "output_type": "stream",
     "text": [
      "Help on function match in module re:\n",
      "\n",
      "match(pattern, string, flags=0)\n",
      "    Try to apply the pattern at the start of the string, returning\n",
      "    a Match object, or None if no match was found.\n",
      "\n"
     ]
    }
   ],
   "source": [
    "help(re.match)"
   ]
  },
  {
   "cell_type": "code",
   "execution_count": 4,
   "id": "75a989a9",
   "metadata": {},
   "outputs": [
    {
     "name": "stdout",
     "output_type": "stream",
     "text": [
      "Not Match\n"
     ]
    }
   ],
   "source": [
    "p = \"Indore\"\n",
    "\n",
    "if re.match(p, \"indore is Best\"):\n",
    "    print(\"Match\")\n",
    "else:\n",
    "    print(\"Not Match\")"
   ]
  },
  {
   "cell_type": "code",
   "execution_count": 5,
   "id": "a67671d5",
   "metadata": {},
   "outputs": [
    {
     "name": "stdout",
     "output_type": "stream",
     "text": [
      "Not Match\n"
     ]
    }
   ],
   "source": [
    "p = \"Indore\"\n",
    "\n",
    "if re.match(p, \"The Indore is Best\"):\n",
    "    print(\"Match\")\n",
    "else:\n",
    "    print(\"Not Match\")"
   ]
  },
  {
   "cell_type": "markdown",
   "id": "4ed8a444",
   "metadata": {},
   "source": [
    "## search"
   ]
  },
  {
   "cell_type": "code",
   "execution_count": 6,
   "id": "5975d05d",
   "metadata": {},
   "outputs": [
    {
     "name": "stdout",
     "output_type": "stream",
     "text": [
      "Help on function search in module re:\n",
      "\n",
      "search(pattern, string, flags=0)\n",
      "    Scan through string looking for a match to the pattern, returning\n",
      "    a Match object, or None if no match was found.\n",
      "\n"
     ]
    }
   ],
   "source": [
    "help(re.search)"
   ]
  },
  {
   "cell_type": "code",
   "execution_count": 7,
   "id": "b096db96",
   "metadata": {},
   "outputs": [
    {
     "name": "stdout",
     "output_type": "stream",
     "text": [
      "No Match\n",
      "Search Success\n"
     ]
    }
   ],
   "source": [
    "import re\n",
    "\n",
    "pattern = \"india\"\n",
    "\n",
    "if re.match(pattern, \"The india is the best.\"):\n",
    "    print(\"Match\")\n",
    "else:\n",
    "    print(\"No Match\")\n",
    "\n",
    "if re.search(pattern, \"The india is the best.\"):\n",
    "    print(\"Search Success\")\n",
    "else:\n",
    "    print(\"No Match\")"
   ]
  },
  {
   "cell_type": "code",
   "execution_count": 8,
   "id": "21111f4e",
   "metadata": {},
   "outputs": [
    {
     "name": "stdout",
     "output_type": "stream",
     "text": [
      "No Match\n"
     ]
    }
   ],
   "source": [
    "if re.search(pattern, \"The India is the best.\"):\n",
    "    print(\"Search Success\")\n",
    "else:\n",
    "    print(\"No Match\")"
   ]
  },
  {
   "cell_type": "markdown",
   "id": "6ba9ba3d",
   "metadata": {},
   "source": [
    "## findall"
   ]
  },
  {
   "cell_type": "code",
   "execution_count": 9,
   "id": "85eb919e",
   "metadata": {},
   "outputs": [
    {
     "name": "stdout",
     "output_type": "stream",
     "text": [
      "Help on function findall in module re:\n",
      "\n",
      "findall(pattern, string, flags=0)\n",
      "    Return a list of all non-overlapping matches in the string.\n",
      "    \n",
      "    If one or more capturing groups are present in the pattern, return\n",
      "    a list of groups; this will be a list of tuples if the pattern\n",
      "    has more than one group.\n",
      "    \n",
      "    Empty matches are included in the result.\n",
      "\n"
     ]
    }
   ],
   "source": [
    "help(re.findall)"
   ]
  },
  {
   "cell_type": "code",
   "execution_count": 10,
   "id": "83457570",
   "metadata": {},
   "outputs": [
    {
     "name": "stdout",
     "output_type": "stream",
     "text": [
      "['india']\n"
     ]
    }
   ],
   "source": [
    "print(re.findall(pattern, \"The india is the best\"))"
   ]
  },
  {
   "cell_type": "code",
   "execution_count": 11,
   "id": "ed9f7b1a",
   "metadata": {},
   "outputs": [
    {
     "name": "stdout",
     "output_type": "stream",
     "text": [
      "['india', 'india']\n"
     ]
    }
   ],
   "source": [
    "print(re.findall(pattern, \"The india is the best. india have orange\"))"
   ]
  },
  {
   "cell_type": "markdown",
   "id": "eb69766e",
   "metadata": {},
   "source": [
    "## group"
   ]
  },
  {
   "cell_type": "code",
   "execution_count": 43,
   "id": "3a0ea62e",
   "metadata": {},
   "outputs": [
    {
     "name": "stdout",
     "output_type": "stream",
     "text": [
      "<re.Match object; span=(4, 7), match='goa'>\n",
      "goa\n"
     ]
    }
   ],
   "source": [
    "p = \"goa\"\n",
    "\n",
    "match = re.search(p, \"The goa is the smallest. goa\")\n",
    "\n",
    "print(match)\n",
    "\n",
    "if match:\n",
    "    print(match.group())"
   ]
  },
  {
   "cell_type": "code",
   "execution_count": 44,
   "id": "3fddba09",
   "metadata": {},
   "outputs": [
    {
     "name": "stdout",
     "output_type": "stream",
     "text": [
      "Help on built-in function group:\n",
      "\n",
      "group(...) method of re.Match instance\n",
      "    group([group1, ...]) -> str or tuple.\n",
      "    Return subgroup(s) of the match by indices or names.\n",
      "    For 0 returns the entire match.\n",
      "\n"
     ]
    }
   ],
   "source": [
    "help(match.group)"
   ]
  },
  {
   "cell_type": "markdown",
   "id": "d7f5531f",
   "metadata": {},
   "source": [
    "### start"
   ]
  },
  {
   "cell_type": "code",
   "execution_count": 13,
   "id": "1bc6c43b",
   "metadata": {},
   "outputs": [
    {
     "data": {
      "text/plain": [
       "4"
      ]
     },
     "execution_count": 13,
     "metadata": {},
     "output_type": "execute_result"
    }
   ],
   "source": [
    "match.start()"
   ]
  },
  {
   "cell_type": "markdown",
   "id": "c244b66a",
   "metadata": {},
   "source": [
    "### end"
   ]
  },
  {
   "cell_type": "code",
   "execution_count": 14,
   "id": "8ce53aa8",
   "metadata": {},
   "outputs": [
    {
     "name": "stdout",
     "output_type": "stream",
     "text": [
      "7\n"
     ]
    }
   ],
   "source": [
    "print(match.end())"
   ]
  },
  {
   "cell_type": "markdown",
   "id": "33714dc5",
   "metadata": {},
   "source": [
    "### span"
   ]
  },
  {
   "cell_type": "code",
   "execution_count": 15,
   "id": "b8c863e2",
   "metadata": {},
   "outputs": [
    {
     "name": "stdout",
     "output_type": "stream",
     "text": [
      "(4, 7)\n"
     ]
    }
   ],
   "source": [
    "print(match.span())"
   ]
  },
  {
   "cell_type": "code",
   "execution_count": 46,
   "id": "3d1b289f",
   "metadata": {
    "scrolled": false
   },
   "outputs": [],
   "source": [
    "# help(re)"
   ]
  },
  {
   "cell_type": "markdown",
   "id": "278b42b0",
   "metadata": {},
   "source": [
    "## sub\n",
    "\n",
    "for substitution"
   ]
  },
  {
   "cell_type": "code",
   "execution_count": 16,
   "id": "d3806a62",
   "metadata": {},
   "outputs": [
    {
     "name": "stdout",
     "output_type": "stream",
     "text": [
      "His name is Rohit, Hello Rohit!!\n"
     ]
    }
   ],
   "source": [
    "import re\n",
    "\n",
    "s = \"His name is Virat, Hello Virat!!\"\n",
    "\n",
    "p = \"Virat\"\n",
    "\n",
    "newstring = re.sub(p, \"Rohit\", s)\n",
    "\n",
    "print(newstring)"
   ]
  },
  {
   "cell_type": "code",
   "execution_count": 17,
   "id": "b8a7d18e",
   "metadata": {},
   "outputs": [
    {
     "name": "stdout",
     "output_type": "stream",
     "text": [
      "His name is Virat, Hello Virat!!\n"
     ]
    }
   ],
   "source": [
    "import re\n",
    "\n",
    "s = \"His name is Virat, Hello Virat!!\"\n",
    "\n",
    "p = \"virat\"\n",
    "\n",
    "newstring = re.sub(p, \"Rohit\", s)\n",
    "\n",
    "print(newstring)"
   ]
  },
  {
   "cell_type": "markdown",
   "id": "f319df2d",
   "metadata": {},
   "source": [
    "# Meta Characters\n",
    "\n",
    "#### dot(.)"
   ]
  },
  {
   "cell_type": "code",
   "execution_count": 21,
   "id": "086c5f67",
   "metadata": {},
   "outputs": [
    {
     "name": "stdout",
     "output_type": "stream",
     "text": [
      "1\n",
      "2\n"
     ]
    }
   ],
   "source": [
    "import re\n",
    "\n",
    "p = \"gr.y\"\n",
    "\n",
    "if re.match(p, \"gray\"):\n",
    "    print(1)\n",
    "\n",
    "if re.match(p, \"grey\"):\n",
    "    print(2)\n",
    "\n",
    "if re.match(p, \"blue\"):\n",
    "    print(3)\n"
   ]
  },
  {
   "cell_type": "code",
   "execution_count": 23,
   "id": "8ec3d7c5",
   "metadata": {},
   "outputs": [
    {
     "name": "stdout",
     "output_type": "stream",
     "text": [
      "4\n"
     ]
    }
   ],
   "source": [
    "if re.match(p, \"grayy\"):\n",
    "    print(4)\n",
    "\n",
    "if re.match(p, \"ggray\"):\n",
    "    print(5)"
   ]
  },
  {
   "cell_type": "markdown",
   "id": "6590b8b3",
   "metadata": {},
   "source": [
    "#### start(^)"
   ]
  },
  {
   "cell_type": "code",
   "execution_count": 24,
   "id": "f299dc5f",
   "metadata": {},
   "outputs": [
    {
     "name": "stdout",
     "output_type": "stream",
     "text": [
      "2\n",
      "3\n"
     ]
    }
   ],
   "source": [
    "import re\n",
    "\n",
    "p = \"^gr.y\"\n",
    "\n",
    "if re.match(p, \"gluy\"):\n",
    "    print(1)\n",
    "\n",
    "if re.match(p, \"gruy\"):\n",
    "    print(2)\n",
    "\n",
    "if re.match(p, \"grayt\"):\n",
    "    print(3)\n",
    "\n",
    "if re.match(p, \"agluy\"):\n",
    "    print(4)\n",
    "\n"
   ]
  },
  {
   "cell_type": "markdown",
   "id": "54ab3111",
   "metadata": {},
   "source": [
    "#### end($)"
   ]
  },
  {
   "cell_type": "code",
   "execution_count": 25,
   "id": "e2c7267c",
   "metadata": {},
   "outputs": [
    {
     "name": "stdout",
     "output_type": "stream",
     "text": [
      "1\n",
      "2\n"
     ]
    }
   ],
   "source": [
    "import re\n",
    "\n",
    "p = \"^gr.y$\"\n",
    "\n",
    "if re.match(p, \"gray\"):\n",
    "    print(1)\n",
    "\n",
    "if re.match(p, \"grey\"):\n",
    "    print(2)\n",
    "\n",
    "if re.match(p, \"grayt\"):\n",
    "    print(3)\n",
    "\n",
    "if re.match(p, \"gluy\"):\n",
    "    print(4)\n"
   ]
  },
  {
   "cell_type": "code",
   "execution_count": 28,
   "id": "e8672aa7",
   "metadata": {},
   "outputs": [
    {
     "name": "stdout",
     "output_type": "stream",
     "text": [
      "1\n",
      "2\n",
      "4\n",
      "5\n"
     ]
    }
   ],
   "source": [
    "import re\n",
    "\n",
    "p = \"....$\"\n",
    "\n",
    "if re.match(p, \"gluy\"):\n",
    "    print(1)\n",
    "\n",
    "if re.match(p, \"grey\"):\n",
    "    print(2)\n",
    "\n",
    "if re.match(p, \"grayt\"):\n",
    "    print(3)\n",
    "\n",
    "if re.match(p, \"blue\"):\n",
    "    print(4)\n",
    "\n",
    "if re.match(p, \"hi@!\"):\n",
    "    print(5)\n",
    "\n"
   ]
  },
  {
   "cell_type": "code",
   "execution_count": 31,
   "id": "862e93d4",
   "metadata": {},
   "outputs": [
    {
     "name": "stdout",
     "output_type": "stream",
     "text": [
      "4\n"
     ]
    }
   ],
   "source": [
    "import re\n",
    "\n",
    "p = \"uy$\"\n",
    "\n",
    "if re.match(p, \"gluy\"):\n",
    "    print(1)\n",
    "\n",
    "if re.match(p, \"grey\"):\n",
    "    print(2)\n",
    "\n",
    "if re.match(p, \"grayt\"):\n",
    "    print(3)\n",
    "\n",
    "if re.match(p, \"uy\"):\n",
    "    print(4)\n",
    "\n"
   ]
  },
  {
   "cell_type": "markdown",
   "id": "b82d1e21",
   "metadata": {},
   "source": [
    "# Character Classes"
   ]
  },
  {
   "cell_type": "code",
   "execution_count": 32,
   "id": "f86bc6c3",
   "metadata": {},
   "outputs": [
    {
     "name": "stdout",
     "output_type": "stream",
     "text": [
      "1\n",
      "2\n"
     ]
    }
   ],
   "source": [
    "import re\n",
    "\n",
    "p = '[aeiou]'\n",
    "\n",
    "if re.search(p, 'grey'):\n",
    "    print(1)\n",
    "\n",
    "if re.search(p, 'qwertyuiop'):\n",
    "    print(2)\n",
    "\n",
    "if re.search(p, 'rhythms'):\n",
    "    print(3)\n"
   ]
  },
  {
   "cell_type": "code",
   "execution_count": 33,
   "id": "d223243d",
   "metadata": {},
   "outputs": [
    {
     "name": "stdout",
     "output_type": "stream",
     "text": [
      "1\n",
      "2\n"
     ]
    }
   ],
   "source": [
    "import re\n",
    "\n",
    "p = '[a-k]'\n",
    "\n",
    "if re.search(p, 'grey'):\n",
    "    print(1)\n",
    "\n",
    "if re.search(p, 'qwertyuiop'):\n",
    "    print(2)\n",
    "\n",
    "if re.search(p, 'rytms'):\n",
    "    print(3)\n"
   ]
  },
  {
   "cell_type": "code",
   "execution_count": 38,
   "id": "702d8ff3",
   "metadata": {},
   "outputs": [
    {
     "name": "stdout",
     "output_type": "stream",
     "text": [
      "1\n",
      "2\n"
     ]
    }
   ],
   "source": [
    "import re\n",
    "\n",
    "p = '[aeiou]'\n",
    "\n",
    "if re.search(p, 'grey'):\n",
    "    print(1)\n",
    "\n",
    "if re.search(p, 'qwertyuiop'):\n",
    "    print(2)\n",
    "\n",
    "if re.search(p, 'rhythms'):\n",
    "    print(3)\n"
   ]
  },
  {
   "cell_type": "code",
   "execution_count": 34,
   "id": "5fbe7ef9",
   "metadata": {},
   "outputs": [
    {
     "name": "stdout",
     "output_type": "stream",
     "text": [
      "1\n",
      "2\n",
      "3\n"
     ]
    }
   ],
   "source": [
    "import re\n",
    "\n",
    "p = '[A-Za-z]'\n",
    "\n",
    "if re.search(p, 'grey'):\n",
    "    print(1)\n",
    "\n",
    "if re.search(p, 'qwertyuiop'):\n",
    "    print(2)\n",
    "\n",
    "if re.search(p, 'RYTHM'):\n",
    "    print(3)\n",
    "\n",
    "if re.search(p, '1234'):\n",
    "    print(4)\n"
   ]
  },
  {
   "cell_type": "code",
   "execution_count": 35,
   "id": "e92b1556",
   "metadata": {},
   "outputs": [
    {
     "name": "stdout",
     "output_type": "stream",
     "text": [
      "1\n",
      "2\n"
     ]
    }
   ],
   "source": [
    "import re\n",
    "\n",
    "p = '[0-9]'\n",
    "\n",
    "if re.search(p, 'gr4ey'):\n",
    "    print(1)\n",
    "\n",
    "if re.search(p, 'qw2ertyuiop'):\n",
    "    print(2)\n",
    "\n",
    "if re.search(p, 'rhythms'):\n",
    "    print(3)\n"
   ]
  },
  {
   "cell_type": "code",
   "execution_count": 36,
   "id": "5a2c81e2",
   "metadata": {},
   "outputs": [
    {
     "name": "stdout",
     "output_type": "stream",
     "text": [
      "1\n",
      "2\n"
     ]
    }
   ],
   "source": [
    "import re\n",
    "\n",
    "p = '[A-Z][A-Z][0-9]'\n",
    "\n",
    "if re.search(p, 'GR3ey'):\n",
    "    print(1)\n",
    "\n",
    "if re.search(p, 'QEE2rtyuiop'):\n",
    "    print(2)\n",
    "\n",
    "if re.search(p, 'rhythms'):\n",
    "    print(3)\n"
   ]
  },
  {
   "cell_type": "code",
   "execution_count": 39,
   "id": "ac42ea99",
   "metadata": {},
   "outputs": [
    {
     "name": "stdout",
     "output_type": "stream",
     "text": [
      "1\n"
     ]
    }
   ],
   "source": [
    "import re\n",
    "\n",
    "p = '[ace]'\n",
    "\n",
    "if re.search(p, 'GA3ey'):\n",
    "    print(1)\n",
    "\n",
    "if re.search(p, 'QEE2wrtyuiop'):\n",
    "    print(2)\n",
    "\n",
    "if re.search(p, 'rhythms'):\n",
    "    print(3)\n"
   ]
  },
  {
   "cell_type": "code",
   "execution_count": 40,
   "id": "bad39dcb",
   "metadata": {},
   "outputs": [
    {
     "name": "stdout",
     "output_type": "stream",
     "text": [
      "1\n"
     ]
    }
   ],
   "source": [
    "import re\n",
    "\n",
    "p = '^[A-Z][A-Z][0-9]'\n",
    "\n",
    "if re.search(p, 'GA3ey'):\n",
    "    print(1)\n",
    "\n",
    "if re.search(p, 'QEE2wertyuiop'):\n",
    "    print(2)\n",
    "\n",
    "if re.search(p, 'rhythms'):\n",
    "    print(3)\n"
   ]
  },
  {
   "cell_type": "code",
   "execution_count": 41,
   "id": "0d4ae2c2",
   "metadata": {},
   "outputs": [
    {
     "name": "stdout",
     "output_type": "stream",
     "text": [
      "1\n",
      "3\n"
     ]
    }
   ],
   "source": [
    "import re\n",
    "\n",
    "p = '[$][A-Z][0-9]$'\n",
    "\n",
    "if re.search(p, '$G3'):\n",
    "    print(1)\n",
    "\n",
    "if re.search(p, 'QEE2wertyuiop$Y'):\n",
    "    print(2)\n",
    "\n",
    "if re.search(p, 'rhythms$Y4'):\n",
    "    print(3)\n"
   ]
  },
  {
   "cell_type": "code",
   "execution_count": 42,
   "id": "3a19f8fa",
   "metadata": {},
   "outputs": [
    {
     "name": "stdout",
     "output_type": "stream",
     "text": [
      "1\n"
     ]
    }
   ],
   "source": [
    "p = '[!@#$%^&*()]'\n",
    "\n",
    "\n",
    "if re.search(p, 'hello@123'):\n",
    "    print(1)\n",
    "\n",
    "if re.search(p, 'password'):\n",
    "    print(2)\n",
    "\n",
    "if re.search(p, 'hi12345'):\n",
    "    print(3)\n"
   ]
  },
  {
   "cell_type": "code",
   "execution_count": null,
   "id": "8b34c198",
   "metadata": {},
   "outputs": [],
   "source": []
  }
 ],
 "metadata": {
  "kernelspec": {
   "display_name": "Python 3 (ipykernel)",
   "language": "python",
   "name": "python3"
  },
  "language_info": {
   "codemirror_mode": {
    "name": "ipython",
    "version": 3
   },
   "file_extension": ".py",
   "mimetype": "text/x-python",
   "name": "python",
   "nbconvert_exporter": "python",
   "pygments_lexer": "ipython3",
   "version": "3.9.12"
  }
 },
 "nbformat": 4,
 "nbformat_minor": 5
}
