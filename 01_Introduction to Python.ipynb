{
 "cells": [
  {
   "cell_type": "code",
   "execution_count": null,
   "id": "342ed49a",
   "metadata": {},
   "outputs": [],
   "source": [
    "session structure\n",
    "- work on topics/sub-topics\n",
    "- practice questions\n",
    "    - concept based questions\n",
    "    - basic sheets/warmup questions\n",
    "    - algorithm based questions\n",
    "- discussions/enritchment"
   ]
  },
  {
   "cell_type": "markdown",
   "id": "99f9e3c7",
   "metadata": {},
   "source": [
    "# Python Basics"
   ]
  },
  {
   "cell_type": "code",
   "execution_count": 1,
   "id": "3c22fc1e",
   "metadata": {},
   "outputs": [
    {
     "name": "stdout",
     "output_type": "stream",
     "text": [
      "Hello World\n"
     ]
    }
   ],
   "source": [
    "print(\"Hello World\")"
   ]
  },
  {
   "cell_type": "code",
   "execution_count": 2,
   "id": "6420f06a",
   "metadata": {},
   "outputs": [
    {
     "name": "stdout",
     "output_type": "stream",
     "text": [
      "Hello\n",
      "World\n"
     ]
    }
   ],
   "source": [
    "print(\"Hello\")\n",
    "print(\"World\")"
   ]
  },
  {
   "cell_type": "code",
   "execution_count": 3,
   "id": "8f129319",
   "metadata": {},
   "outputs": [
    {
     "name": "stdout",
     "output_type": "stream",
     "text": [
      "Hello\n",
      "World\n"
     ]
    }
   ],
   "source": [
    "# new line character - \\n\n",
    "\n",
    "print(\"Hello\\nWorld\")"
   ]
  },
  {
   "cell_type": "code",
   "execution_count": 4,
   "id": "2df0a3b8",
   "metadata": {},
   "outputs": [
    {
     "name": "stdout",
     "output_type": "stream",
     "text": [
      "Hello\tWorld\n"
     ]
    }
   ],
   "source": [
    "# horizontal tab - \\t\n",
    "\n",
    "print(\"Hello\\tWorld\")"
   ]
  },
  {
   "cell_type": "markdown",
   "id": "f0b654c0",
   "metadata": {},
   "source": [
    "# Questions\n",
    "\n",
    "**WAP to print following output**"
   ]
  },
  {
   "cell_type": "code",
   "execution_count": null,
   "id": "d0a0059b",
   "metadata": {},
   "outputs": [],
   "source": [
    "name\n",
    "    company name\n",
    "                country"
   ]
  },
  {
   "cell_type": "code",
   "execution_count": 5,
   "id": "059c7200",
   "metadata": {},
   "outputs": [
    {
     "name": "stdout",
     "output_type": "stream",
     "text": [
      "Himanshu\n",
      "\tGoogle\n",
      "\t\tIndia\n"
     ]
    }
   ],
   "source": [
    "print(\"Himanshu\\n\\tGoogle\\n\\t\\tIndia\")"
   ]
  },
  {
   "cell_type": "code",
   "execution_count": null,
   "id": "ff71d4f1",
   "metadata": {},
   "outputs": [],
   "source": [
    "*\n",
    "**\n",
    "***"
   ]
  },
  {
   "cell_type": "code",
   "execution_count": 6,
   "id": "386a8630",
   "metadata": {},
   "outputs": [
    {
     "name": "stdout",
     "output_type": "stream",
     "text": [
      "*\n",
      "**\n",
      "***\n"
     ]
    }
   ],
   "source": [
    "print(\"*\\n**\\n***\")"
   ]
  },
  {
   "cell_type": "code",
   "execution_count": null,
   "id": "f91c414d",
   "metadata": {},
   "outputs": [],
   "source": [
    "--4--*\n",
    "*----8----*\n",
    "--4--*"
   ]
  },
  {
   "cell_type": "code",
   "execution_count": 7,
   "id": "f6085606",
   "metadata": {},
   "outputs": [
    {
     "name": "stdout",
     "output_type": "stream",
     "text": [
      "\t/2\n"
     ]
    }
   ],
   "source": [
    "print(\"\\t/2\")"
   ]
  },
  {
   "cell_type": "code",
   "execution_count": 8,
   "id": "2f951eb8",
   "metadata": {},
   "outputs": [
    {
     "name": "stdout",
     "output_type": "stream",
     "text": [
      "    *\n",
      "*\t*\n",
      "    *\n"
     ]
    }
   ],
   "source": [
    "print(\"    *\\n*\\t*\\n    *\")"
   ]
  },
  {
   "cell_type": "markdown",
   "id": "12b3f21c",
   "metadata": {},
   "source": [
    "# Variables and Data Types"
   ]
  },
  {
   "cell_type": "code",
   "execution_count": 10,
   "id": "8d871cc4",
   "metadata": {},
   "outputs": [
    {
     "name": "stdout",
     "output_type": "stream",
     "text": [
      "10\n"
     ]
    }
   ],
   "source": [
    "a = 10\n",
    "\n",
    "print(a)"
   ]
  },
  {
   "cell_type": "code",
   "execution_count": 11,
   "id": "abdcd94d",
   "metadata": {},
   "outputs": [],
   "source": [
    "# int a = 10;"
   ]
  },
  {
   "cell_type": "code",
   "execution_count": 12,
   "id": "8eac48d5",
   "metadata": {},
   "outputs": [
    {
     "name": "stdout",
     "output_type": "stream",
     "text": [
      "15\n",
      "10\n"
     ]
    }
   ],
   "source": [
    "a = 10\n",
    "\n",
    "print(a + 5)\n",
    "\n",
    "print(a)"
   ]
  },
  {
   "cell_type": "code",
   "execution_count": 13,
   "id": "ac40a7f4",
   "metadata": {},
   "outputs": [
    {
     "name": "stdout",
     "output_type": "stream",
     "text": [
      "20\n"
     ]
    }
   ],
   "source": [
    "a = 10\n",
    "\n",
    "a = 20\n",
    "\n",
    "print(a)"
   ]
  },
  {
   "cell_type": "code",
   "execution_count": 14,
   "id": "bcdaa876",
   "metadata": {},
   "outputs": [
    {
     "name": "stdout",
     "output_type": "stream",
     "text": [
      "10\n",
      "<class 'int'>\n"
     ]
    }
   ],
   "source": [
    "a = 10\n",
    "\n",
    "print(a)\n",
    "\n",
    "print(type(a))"
   ]
  },
  {
   "cell_type": "code",
   "execution_count": 15,
   "id": "8dd0b006",
   "metadata": {},
   "outputs": [
    {
     "name": "stdout",
     "output_type": "stream",
     "text": [
      "10.65\n",
      "<class 'float'>\n"
     ]
    }
   ],
   "source": [
    "b = 10.65\n",
    "\n",
    "print(b)\n",
    "\n",
    "print(type(b))"
   ]
  },
  {
   "cell_type": "code",
   "execution_count": 16,
   "id": "f8f09310",
   "metadata": {},
   "outputs": [
    {
     "name": "stdout",
     "output_type": "stream",
     "text": [
      "India\n",
      "<class 'str'>\n"
     ]
    }
   ],
   "source": [
    "c = \"India\"\n",
    "\n",
    "print(c)\n",
    "\n",
    "print(type(c))"
   ]
  },
  {
   "cell_type": "code",
   "execution_count": 17,
   "id": "03807c45",
   "metadata": {},
   "outputs": [
    {
     "name": "stdout",
     "output_type": "stream",
     "text": [
      "<class 'str'>\n"
     ]
    }
   ],
   "source": [
    "d = \"A\"\n",
    "\n",
    "print(type(d))"
   ]
  },
  {
   "cell_type": "markdown",
   "id": "7f1e077f",
   "metadata": {},
   "source": [
    "# Input Function\n",
    "\n",
    "getting values from user"
   ]
  },
  {
   "cell_type": "code",
   "execution_count": 18,
   "id": "c9496b38",
   "metadata": {},
   "outputs": [
    {
     "name": "stdout",
     "output_type": "stream",
     "text": [
      "100\n",
      "100\n"
     ]
    }
   ],
   "source": [
    "a = input()\n",
    "\n",
    "print(a)"
   ]
  },
  {
   "cell_type": "code",
   "execution_count": 19,
   "id": "fb22046a",
   "metadata": {},
   "outputs": [
    {
     "name": "stdout",
     "output_type": "stream",
     "text": [
      "Enter a number50\n",
      "50\n"
     ]
    }
   ],
   "source": [
    "a = input(\"Enter a number\")\n",
    "\n",
    "print(a)"
   ]
  },
  {
   "cell_type": "code",
   "execution_count": 20,
   "id": "da2f7b99",
   "metadata": {},
   "outputs": [
    {
     "name": "stdout",
     "output_type": "stream",
     "text": [
      "Enter your Name: Himanshu\n",
      "Hello Himanshu\n"
     ]
    }
   ],
   "source": [
    "name = input(\"Enter your Name: \")\n",
    "\n",
    "print(\"Hello\", name)"
   ]
  },
  {
   "cell_type": "markdown",
   "id": "ddb6253f",
   "metadata": {},
   "source": [
    "# Type conversion"
   ]
  },
  {
   "cell_type": "code",
   "execution_count": 21,
   "id": "dd03e108",
   "metadata": {},
   "outputs": [
    {
     "name": "stdout",
     "output_type": "stream",
     "text": [
      "10.56\n",
      "<class 'float'>\n",
      "10\n",
      "<class 'int'>\n"
     ]
    }
   ],
   "source": [
    "a = 10.56\n",
    "\n",
    "print(a)\n",
    "\n",
    "print(type(a))\n",
    "\n",
    "b = int(a)\n",
    "\n",
    "print(b)\n",
    "\n",
    "print(type(b))"
   ]
  },
  {
   "cell_type": "code",
   "execution_count": 22,
   "id": "18495657",
   "metadata": {},
   "outputs": [
    {
     "name": "stdout",
     "output_type": "stream",
     "text": [
      "10\n",
      "<class 'str'>\n",
      "10.0\n",
      "<class 'float'>\n"
     ]
    }
   ],
   "source": [
    "a = \"10\"\n",
    "\n",
    "print(a)\n",
    "\n",
    "print(type(a))\n",
    "\n",
    "b = float(a)\n",
    "\n",
    "print(b)\n",
    "\n",
    "print(type(b))"
   ]
  },
  {
   "cell_type": "markdown",
   "id": "8c4b6510",
   "metadata": {},
   "source": [
    "# Question\n",
    "\n",
    "**WAP to get 2 values from user and print addition of them.**"
   ]
  },
  {
   "cell_type": "code",
   "execution_count": 23,
   "id": "e6da6aaa",
   "metadata": {},
   "outputs": [
    {
     "name": "stdout",
     "output_type": "stream",
     "text": [
      "Enter 1st value: 10\n",
      "Enter 2nd Value: 20\n",
      "1020\n"
     ]
    }
   ],
   "source": [
    "a = input(\"Enter 1st value: \")\n",
    "b = input(\"Enter 2nd Value: \")\n",
    "\n",
    "c = a + b\n",
    "\n",
    "print(c)"
   ]
  },
  {
   "cell_type": "code",
   "execution_count": 24,
   "id": "8fe70be2",
   "metadata": {},
   "outputs": [
    {
     "data": {
      "text/plain": [
       "'1020'"
      ]
     },
     "execution_count": 24,
     "metadata": {},
     "output_type": "execute_result"
    }
   ],
   "source": [
    "\"10\" + \"20\""
   ]
  },
  {
   "cell_type": "code",
   "execution_count": 25,
   "id": "d9f4fecf",
   "metadata": {},
   "outputs": [
    {
     "data": {
      "text/plain": [
       "30"
      ]
     },
     "execution_count": 25,
     "metadata": {},
     "output_type": "execute_result"
    }
   ],
   "source": [
    "10 + 20"
   ]
  },
  {
   "cell_type": "code",
   "execution_count": 26,
   "id": "f100e2a8",
   "metadata": {},
   "outputs": [
    {
     "name": "stdout",
     "output_type": "stream",
     "text": [
      "<class 'str'>\n"
     ]
    }
   ],
   "source": [
    "print(type(a))"
   ]
  },
  {
   "cell_type": "code",
   "execution_count": 27,
   "id": "2bf0513f",
   "metadata": {},
   "outputs": [
    {
     "name": "stdout",
     "output_type": "stream",
     "text": [
      "Enter 1st value: 10\n",
      "Enter 2nd Value: 20\n",
      "30\n"
     ]
    }
   ],
   "source": [
    "a = int(input(\"Enter 1st value: \"))\n",
    "b = int(input(\"Enter 2nd Value: \"))\n",
    "\n",
    "c = a + b\n",
    "\n",
    "print(c)"
   ]
  },
  {
   "cell_type": "code",
   "execution_count": 28,
   "id": "eb50d7cd",
   "metadata": {},
   "outputs": [
    {
     "name": "stdout",
     "output_type": "stream",
     "text": [
      "Enter 1st value: 10\n",
      "Enter 2nd Value: 20\n",
      "Addition = 30\n"
     ]
    }
   ],
   "source": [
    "a = int(input(\"Enter 1st value: \"))\n",
    "b = int(input(\"Enter 2nd Value: \"))\n",
    "\n",
    "c = a + b\n",
    "\n",
    "print(\"Addition =\", c)"
   ]
  },
  {
   "cell_type": "markdown",
   "id": "7b7e7b95",
   "metadata": {},
   "source": [
    "**WAP to enter 2 values from user and print addition, substraction, multiplication and division with proper message**"
   ]
  },
  {
   "cell_type": "code",
   "execution_count": null,
   "id": "564bd765",
   "metadata": {},
   "outputs": [],
   "source": []
  },
  {
   "cell_type": "code",
   "execution_count": 29,
   "id": "bcd18ad2",
   "metadata": {},
   "outputs": [
    {
     "name": "stdout",
     "output_type": "stream",
     "text": [
      "Help on built-in function print in module builtins:\n",
      "\n",
      "print(...)\n",
      "    print(value, ..., sep=' ', end='\\n', file=sys.stdout, flush=False)\n",
      "    \n",
      "    Prints the values to a stream, or to sys.stdout by default.\n",
      "    Optional keyword arguments:\n",
      "    file:  a file-like object (stream); defaults to the current sys.stdout.\n",
      "    sep:   string inserted between values, default a space.\n",
      "    end:   string appended after the last value, default a newline.\n",
      "    flush: whether to forcibly flush the stream.\n",
      "\n"
     ]
    }
   ],
   "source": [
    "help(print)"
   ]
  },
  {
   "cell_type": "code",
   "execution_count": null,
   "id": "d13f4a8c",
   "metadata": {},
   "outputs": [],
   "source": []
  }
 ],
 "metadata": {
  "kernelspec": {
   "display_name": "Python 3 (ipykernel)",
   "language": "python",
   "name": "python3"
  },
  "language_info": {
   "codemirror_mode": {
    "name": "ipython",
    "version": 3
   },
   "file_extension": ".py",
   "mimetype": "text/x-python",
   "name": "python",
   "nbconvert_exporter": "python",
   "pygments_lexer": "ipython3",
   "version": "3.9.12"
  }
 },
 "nbformat": 4,
 "nbformat_minor": 5
}
