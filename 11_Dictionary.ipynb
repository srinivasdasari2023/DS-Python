{
 "cells": [
  {
   "cell_type": "markdown",
   "id": "5e38f8b4",
   "metadata": {},
   "source": [
    "# Dictionary"
   ]
  },
  {
   "cell_type": "code",
   "execution_count": null,
   "id": "053b4ed2",
   "metadata": {},
   "outputs": [],
   "source": [
    "l = [1,2,3,4,54,6,7,7,]\n",
    "#    0 1 2 3 4    \n",
    "\n",
    "hashing\n",
    "55 % 10 -> 5\n",
    "44 % 10 -> 4\n",
    "34 % 10 -> 4"
   ]
  },
  {
   "cell_type": "code",
   "execution_count": null,
   "id": "c7c16ed8",
   "metadata": {},
   "outputs": [],
   "source": [
    "key: value"
   ]
  },
  {
   "cell_type": "code",
   "execution_count": 1,
   "id": "7e23e107",
   "metadata": {},
   "outputs": [
    {
     "name": "stdout",
     "output_type": "stream",
     "text": [
      "{'ravi': 24, 'shyam': 21, 'roy': 41}\n",
      "<class 'dict'>\n"
     ]
    }
   ],
   "source": [
    "ages = {\"ravi\": 24, \"shyam\": 21, \"roy\":41}\n",
    "#        key  : value\n",
    "\n",
    "print(ages)\n",
    "\n",
    "print(type(ages))"
   ]
  },
  {
   "cell_type": "code",
   "execution_count": 2,
   "id": "8b30c383",
   "metadata": {},
   "outputs": [
    {
     "name": "stdout",
     "output_type": "stream",
     "text": [
      "24\n"
     ]
    }
   ],
   "source": [
    "print(ages[\"ravi\"])"
   ]
  },
  {
   "cell_type": "code",
   "execution_count": 3,
   "id": "e4b7b275",
   "metadata": {},
   "outputs": [
    {
     "name": "stdout",
     "output_type": "stream",
     "text": [
      "41\n"
     ]
    }
   ],
   "source": [
    "print(ages[\"roy\"])"
   ]
  },
  {
   "cell_type": "code",
   "execution_count": 4,
   "id": "3c9d9507",
   "metadata": {},
   "outputs": [
    {
     "name": "stdout",
     "output_type": "stream",
     "text": [
      "[255, 0, 0]\n"
     ]
    }
   ],
   "source": [
    "color = {\n",
    "    \"red\": [255, 0, 0],\n",
    "    \"green\": [0, 255, 0],\n",
    "    \"blue\": [0, 0, 255]\n",
    "}\n",
    "\n",
    "print(color['red'])"
   ]
  },
  {
   "cell_type": "code",
   "execution_count": 5,
   "id": "8c3ab838",
   "metadata": {},
   "outputs": [
    {
     "ename": "KeyError",
     "evalue": "'yellow'",
     "output_type": "error",
     "traceback": [
      "\u001b[1;31m---------------------------------------------------------------------------\u001b[0m",
      "\u001b[1;31mKeyError\u001b[0m                                  Traceback (most recent call last)",
      "Input \u001b[1;32mIn [5]\u001b[0m, in \u001b[0;36m<cell line: 1>\u001b[1;34m()\u001b[0m\n\u001b[1;32m----> 1\u001b[0m \u001b[38;5;28mprint\u001b[39m(\u001b[43mcolor\u001b[49m\u001b[43m[\u001b[49m\u001b[38;5;124;43m'\u001b[39;49m\u001b[38;5;124;43myellow\u001b[39;49m\u001b[38;5;124;43m'\u001b[39;49m\u001b[43m]\u001b[49m)\n",
      "\u001b[1;31mKeyError\u001b[0m: 'yellow'"
     ]
    }
   ],
   "source": [
    "print(color['yellow'])"
   ]
  },
  {
   "cell_type": "code",
   "execution_count": 6,
   "id": "a44573e4",
   "metadata": {},
   "outputs": [
    {
     "name": "stdout",
     "output_type": "stream",
     "text": [
      "{}\n",
      "<class 'dict'>\n"
     ]
    }
   ],
   "source": [
    "d = {}\n",
    "\n",
    "print(d)\n",
    "\n",
    "print(type(d))"
   ]
  },
  {
   "cell_type": "code",
   "execution_count": 7,
   "id": "0c52843e",
   "metadata": {},
   "outputs": [
    {
     "name": "stdout",
     "output_type": "stream",
     "text": [
      "1\n"
     ]
    }
   ],
   "source": [
    "d = {1:1, 2:2, 3:3}\n",
    "\n",
    "print(d[1])"
   ]
  },
  {
   "cell_type": "code",
   "execution_count": 8,
   "id": "3ff9443f",
   "metadata": {},
   "outputs": [
    {
     "ename": "TypeError",
     "evalue": "unhashable type: 'list'",
     "output_type": "error",
     "traceback": [
      "\u001b[1;31m---------------------------------------------------------------------------\u001b[0m",
      "\u001b[1;31mTypeError\u001b[0m                                 Traceback (most recent call last)",
      "Input \u001b[1;32mIn [8]\u001b[0m, in \u001b[0;36m<cell line: 1>\u001b[1;34m()\u001b[0m\n\u001b[1;32m----> 1\u001b[0m d \u001b[38;5;241m=\u001b[39m {[\u001b[38;5;241m1\u001b[39m,\u001b[38;5;241m2\u001b[39m]:\u001b[38;5;241m10\u001b[39m, \u001b[38;5;241m2\u001b[39m:\u001b[38;5;241m2\u001b[39m, \u001b[38;5;241m3\u001b[39m:\u001b[38;5;241m3\u001b[39m}\n\u001b[0;32m      3\u001b[0m \u001b[38;5;28mprint\u001b[39m(d)\n",
      "\u001b[1;31mTypeError\u001b[0m: unhashable type: 'list'"
     ]
    }
   ],
   "source": [
    "d = {[1,2]:10, 2:2, 3:3}\n",
    "\n",
    "print(d)   # key should be immutable objects"
   ]
  },
  {
   "cell_type": "markdown",
   "id": "b49b3be2",
   "metadata": {},
   "source": [
    "# Dictionary Functions"
   ]
  },
  {
   "cell_type": "code",
   "execution_count": 9,
   "id": "c86f7676",
   "metadata": {},
   "outputs": [
    {
     "name": "stdout",
     "output_type": "stream",
     "text": [
      "5\n"
     ]
    }
   ],
   "source": [
    "d = {1:1, 2:4, 3:9, 4:16, 9:81}\n",
    "\n",
    "print(len(d))"
   ]
  },
  {
   "cell_type": "code",
   "execution_count": 10,
   "id": "ff50315c",
   "metadata": {},
   "outputs": [
    {
     "data": {
      "text/plain": [
       "'{1: 1, 2: 4, 3: 9, 4: 16, 9: 81}'"
      ]
     },
     "execution_count": 10,
     "metadata": {},
     "output_type": "execute_result"
    }
   ],
   "source": [
    "str(d)"
   ]
  },
  {
   "cell_type": "code",
   "execution_count": 11,
   "id": "8c859a74",
   "metadata": {},
   "outputs": [
    {
     "name": "stdout",
     "output_type": "stream",
     "text": [
      "19\n"
     ]
    }
   ],
   "source": [
    "print(sum(d))"
   ]
  },
  {
   "cell_type": "code",
   "execution_count": 12,
   "id": "43cd1754",
   "metadata": {},
   "outputs": [
    {
     "ename": "TypeError",
     "evalue": "unsupported operand type(s) for +: 'int' and 'str'",
     "output_type": "error",
     "traceback": [
      "\u001b[1;31m---------------------------------------------------------------------------\u001b[0m",
      "\u001b[1;31mTypeError\u001b[0m                                 Traceback (most recent call last)",
      "Input \u001b[1;32mIn [12]\u001b[0m, in \u001b[0;36m<cell line: 3>\u001b[1;34m()\u001b[0m\n\u001b[0;32m      1\u001b[0m a \u001b[38;5;241m=\u001b[39m {\u001b[38;5;241m1\u001b[39m:\u001b[38;5;241m1\u001b[39m, \u001b[38;5;241m2\u001b[39m:\u001b[38;5;241m4\u001b[39m, \u001b[38;5;124m'\u001b[39m\u001b[38;5;124mhi\u001b[39m\u001b[38;5;124m'\u001b[39m:\u001b[38;5;241m16\u001b[39m}\n\u001b[1;32m----> 3\u001b[0m \u001b[38;5;28mprint\u001b[39m(\u001b[38;5;28;43msum\u001b[39;49m\u001b[43m(\u001b[49m\u001b[43ma\u001b[49m\u001b[43m)\u001b[49m)\n",
      "\u001b[1;31mTypeError\u001b[0m: unsupported operand type(s) for +: 'int' and 'str'"
     ]
    }
   ],
   "source": [
    "a = {1:1, 2:4, 'hi':16}\n",
    "\n",
    "print(sum(a))"
   ]
  },
  {
   "cell_type": "code",
   "execution_count": 13,
   "id": "d6009728",
   "metadata": {},
   "outputs": [
    {
     "data": {
      "text/plain": [
       "9"
      ]
     },
     "execution_count": 13,
     "metadata": {},
     "output_type": "execute_result"
    }
   ],
   "source": [
    "max(d)"
   ]
  },
  {
   "cell_type": "code",
   "execution_count": 14,
   "id": "7ed52533",
   "metadata": {},
   "outputs": [
    {
     "data": {
      "text/plain": [
       "1"
      ]
     },
     "execution_count": 14,
     "metadata": {},
     "output_type": "execute_result"
    }
   ],
   "source": [
    "min(d)"
   ]
  },
  {
   "cell_type": "markdown",
   "id": "0d118f96",
   "metadata": {},
   "source": [
    "# Dictionary Methods"
   ]
  },
  {
   "cell_type": "code",
   "execution_count": 16,
   "id": "e2739ee9",
   "metadata": {
    "scrolled": false
   },
   "outputs": [],
   "source": [
    "# help(dict)"
   ]
  },
  {
   "cell_type": "markdown",
   "id": "f3526e15",
   "metadata": {},
   "source": [
    "### get"
   ]
  },
  {
   "cell_type": "code",
   "execution_count": 17,
   "id": "6f7665e0",
   "metadata": {},
   "outputs": [
    {
     "name": "stdout",
     "output_type": "stream",
     "text": [
      "[2, 3, 4]\n"
     ]
    }
   ],
   "source": [
    "pair = {1: \"Apple\", \"orange\": [2,3,4], \"2\":\"3\"}\n",
    "\n",
    "print(pair.get(\"orange\"))"
   ]
  },
  {
   "cell_type": "code",
   "execution_count": 18,
   "id": "3558a9a0",
   "metadata": {},
   "outputs": [
    {
     "name": "stdout",
     "output_type": "stream",
     "text": [
      "None\n"
     ]
    }
   ],
   "source": [
    "print(pair.get(7))"
   ]
  },
  {
   "cell_type": "code",
   "execution_count": 19,
   "id": "19724e74",
   "metadata": {},
   "outputs": [
    {
     "name": "stdout",
     "output_type": "stream",
     "text": [
      "3\n"
     ]
    }
   ],
   "source": [
    "print(pair.get(\"2\", \"Not Found\"))"
   ]
  },
  {
   "cell_type": "code",
   "execution_count": 20,
   "id": "448fabf3",
   "metadata": {},
   "outputs": [
    {
     "name": "stdout",
     "output_type": "stream",
     "text": [
      "Not Found\n"
     ]
    }
   ],
   "source": [
    "print(pair.get(\"goa\", \"Not Found\"))"
   ]
  },
  {
   "cell_type": "code",
   "execution_count": 21,
   "id": "77586a84",
   "metadata": {},
   "outputs": [
    {
     "name": "stdout",
     "output_type": "stream",
     "text": [
      "Help on built-in function get:\n",
      "\n",
      "get(key, default=None, /) method of builtins.dict instance\n",
      "    Return the value for key if key is in the dictionary, else default.\n",
      "\n"
     ]
    }
   ],
   "source": [
    "help(pair.get)"
   ]
  },
  {
   "cell_type": "code",
   "execution_count": 22,
   "id": "08d4a5de",
   "metadata": {},
   "outputs": [
    {
     "ename": "TypeError",
     "evalue": "unhashable type: 'list'",
     "output_type": "error",
     "traceback": [
      "\u001b[1;31m---------------------------------------------------------------------------\u001b[0m",
      "\u001b[1;31mTypeError\u001b[0m                                 Traceback (most recent call last)",
      "Input \u001b[1;32mIn [22]\u001b[0m, in \u001b[0;36m<cell line: 1>\u001b[1;34m()\u001b[0m\n\u001b[1;32m----> 1\u001b[0m \u001b[43mpair\u001b[49m\u001b[43m[\u001b[49m\u001b[43m[\u001b[49m\u001b[38;5;241;43m1\u001b[39;49m\u001b[43m,\u001b[49m\u001b[43m \u001b[49m\u001b[38;5;124;43m\"\u001b[39;49m\u001b[38;5;124;43m2\u001b[39;49m\u001b[38;5;124;43m\"\u001b[39;49m\u001b[43m]\u001b[49m\u001b[43m]\u001b[49m\n",
      "\u001b[1;31mTypeError\u001b[0m: unhashable type: 'list'"
     ]
    }
   ],
   "source": [
    "pair[[1, \"2\"]]"
   ]
  },
  {
   "cell_type": "code",
   "execution_count": 23,
   "id": "ea2d1a8c",
   "metadata": {},
   "outputs": [
    {
     "name": "stdout",
     "output_type": "stream",
     "text": [
      "8\n"
     ]
    }
   ],
   "source": [
    "f = {1:1, 2:1, 3:2, 4:3}\n",
    "\n",
    "print(f.get(4,0) + f.get(7,5))\n",
    "#         3      +     5"
   ]
  },
  {
   "cell_type": "markdown",
   "id": "584dc440",
   "metadata": {},
   "source": [
    "### clear"
   ]
  },
  {
   "cell_type": "code",
   "execution_count": 24,
   "id": "c5403ad6",
   "metadata": {},
   "outputs": [
    {
     "data": {
      "text/plain": [
       "{1: 1, 2: 4, 3: 9, 4: 16, 9: 81}"
      ]
     },
     "execution_count": 24,
     "metadata": {},
     "output_type": "execute_result"
    }
   ],
   "source": [
    "d"
   ]
  },
  {
   "cell_type": "code",
   "execution_count": 25,
   "id": "5c75ef0a",
   "metadata": {},
   "outputs": [],
   "source": [
    "d.clear()"
   ]
  },
  {
   "cell_type": "code",
   "execution_count": 26,
   "id": "8ec0e09f",
   "metadata": {},
   "outputs": [
    {
     "data": {
      "text/plain": [
       "{}"
      ]
     },
     "execution_count": 26,
     "metadata": {},
     "output_type": "execute_result"
    }
   ],
   "source": [
    "d"
   ]
  },
  {
   "cell_type": "markdown",
   "id": "7ce101b3",
   "metadata": {},
   "source": [
    "### keys"
   ]
  },
  {
   "cell_type": "code",
   "execution_count": 27,
   "id": "86efc040",
   "metadata": {},
   "outputs": [
    {
     "name": "stdout",
     "output_type": "stream",
     "text": [
      "dict_keys([1, 2, 3])\n"
     ]
    }
   ],
   "source": [
    "r = {1:'A', 2: 'zara', 3:'maza'}\n",
    "\n",
    "print(r.keys())"
   ]
  },
  {
   "cell_type": "code",
   "execution_count": 28,
   "id": "705204c9",
   "metadata": {},
   "outputs": [
    {
     "name": "stdout",
     "output_type": "stream",
     "text": [
      "[1, 2, 3]\n"
     ]
    }
   ],
   "source": [
    "print(list(r.keys()))"
   ]
  },
  {
   "cell_type": "markdown",
   "id": "49be4790",
   "metadata": {},
   "source": [
    "### values"
   ]
  },
  {
   "cell_type": "code",
   "execution_count": 29,
   "id": "55a5a8f0",
   "metadata": {},
   "outputs": [
    {
     "name": "stdout",
     "output_type": "stream",
     "text": [
      "dict_values(['A', 'zara', 'maza'])\n"
     ]
    }
   ],
   "source": [
    "r = {1:'A', 2: 'zara', 3:'maza'}\n",
    "\n",
    "print(r.values())"
   ]
  },
  {
   "cell_type": "code",
   "execution_count": 30,
   "id": "70b58ad4",
   "metadata": {},
   "outputs": [
    {
     "name": "stdout",
     "output_type": "stream",
     "text": [
      "3\n"
     ]
    }
   ],
   "source": [
    "r = {1:'A', 2: 'zara', 3:'maza'}\n",
    "\n",
    "print(len(r))"
   ]
  },
  {
   "cell_type": "code",
   "execution_count": 31,
   "id": "f1be8de3",
   "metadata": {},
   "outputs": [
    {
     "name": "stdout",
     "output_type": "stream",
     "text": [
      "2\n"
     ]
    }
   ],
   "source": [
    "r = {3:'A', 2: 'zara', 3:'maza'}\n",
    "\n",
    "print(len(r))"
   ]
  },
  {
   "cell_type": "code",
   "execution_count": 32,
   "id": "e488e731",
   "metadata": {},
   "outputs": [
    {
     "data": {
      "text/plain": [
       "{3: 'maza', 2: 'zara'}"
      ]
     },
     "execution_count": 32,
     "metadata": {},
     "output_type": "execute_result"
    }
   ],
   "source": [
    "r"
   ]
  },
  {
   "cell_type": "markdown",
   "id": "7ea641e4",
   "metadata": {},
   "source": [
    "## dictionary is unordered and unindexed data structures\n",
    "\n",
    "\n",
    "### items"
   ]
  },
  {
   "cell_type": "code",
   "execution_count": 33,
   "id": "ea3a52db",
   "metadata": {},
   "outputs": [
    {
     "data": {
      "text/plain": [
       "dict_items([(3, 'maza'), (2, 'zara')])"
      ]
     },
     "execution_count": 33,
     "metadata": {},
     "output_type": "execute_result"
    }
   ],
   "source": [
    "r.items()"
   ]
  },
  {
   "cell_type": "code",
   "execution_count": 34,
   "id": "3905617f",
   "metadata": {},
   "outputs": [
    {
     "data": {
      "text/plain": [
       "{3: 'maza', 2: 'zara'}"
      ]
     },
     "execution_count": 34,
     "metadata": {},
     "output_type": "execute_result"
    }
   ],
   "source": [
    "r"
   ]
  },
  {
   "cell_type": "code",
   "execution_count": 35,
   "id": "035614c5",
   "metadata": {},
   "outputs": [],
   "source": [
    "# dict are mutable objects"
   ]
  },
  {
   "cell_type": "code",
   "execution_count": 36,
   "id": "46b406b3",
   "metadata": {},
   "outputs": [
    {
     "name": "stdout",
     "output_type": "stream",
     "text": [
      "{1: 10}\n"
     ]
    }
   ],
   "source": [
    "d = {1:10}\n",
    "print(d)"
   ]
  },
  {
   "cell_type": "code",
   "execution_count": 37,
   "id": "e5188658",
   "metadata": {},
   "outputs": [],
   "source": [
    "d['A'] = 1000"
   ]
  },
  {
   "cell_type": "code",
   "execution_count": 38,
   "id": "e1f5fd1d",
   "metadata": {},
   "outputs": [
    {
     "data": {
      "text/plain": [
       "{1: 10, 'A': 1000}"
      ]
     },
     "execution_count": 38,
     "metadata": {},
     "output_type": "execute_result"
    }
   ],
   "source": [
    "d"
   ]
  },
  {
   "cell_type": "code",
   "execution_count": 39,
   "id": "33d537f6",
   "metadata": {},
   "outputs": [
    {
     "ename": "IndexError",
     "evalue": "list assignment index out of range",
     "output_type": "error",
     "traceback": [
      "\u001b[1;31m---------------------------------------------------------------------------\u001b[0m",
      "\u001b[1;31mIndexError\u001b[0m                                Traceback (most recent call last)",
      "Input \u001b[1;32mIn [39]\u001b[0m, in \u001b[0;36m<cell line: 2>\u001b[1;34m()\u001b[0m\n\u001b[0;32m      1\u001b[0m l \u001b[38;5;241m=\u001b[39m [\u001b[38;5;241m1\u001b[39m,\u001b[38;5;241m2\u001b[39m,\u001b[38;5;241m4\u001b[39m]\n\u001b[1;32m----> 2\u001b[0m l[\u001b[38;5;241m3\u001b[39m] \u001b[38;5;241m=\u001b[39m \u001b[38;5;241m10\u001b[39m\n",
      "\u001b[1;31mIndexError\u001b[0m: list assignment index out of range"
     ]
    }
   ],
   "source": [
    "l = [1,2,4]\n",
    "l[3] = 10"
   ]
  },
  {
   "cell_type": "code",
   "execution_count": 40,
   "id": "29a1d436",
   "metadata": {},
   "outputs": [],
   "source": [
    "d['A'] = 2000"
   ]
  },
  {
   "cell_type": "code",
   "execution_count": 41,
   "id": "afada95c",
   "metadata": {},
   "outputs": [
    {
     "data": {
      "text/plain": [
       "{1: 10, 'A': 2000}"
      ]
     },
     "execution_count": 41,
     "metadata": {},
     "output_type": "execute_result"
    }
   ],
   "source": [
    "d"
   ]
  },
  {
   "cell_type": "markdown",
   "id": "45946717",
   "metadata": {},
   "source": [
    "**WAP to print following output ->**"
   ]
  },
  {
   "cell_type": "code",
   "execution_count": null,
   "id": "ab2f8ac8",
   "metadata": {},
   "outputs": [],
   "source": [
    "{1:1, 2:4, 3:9, 4:16, 5:25, 6:36...........10:100}"
   ]
  },
  {
   "cell_type": "code",
   "execution_count": 43,
   "id": "e34e1755",
   "metadata": {},
   "outputs": [
    {
     "name": "stdout",
     "output_type": "stream",
     "text": [
      "{1: 1, 2: 4, 3: 9, 4: 16, 5: 25, 6: 36, 7: 49, 8: 64, 9: 81, 10: 100}\n"
     ]
    }
   ],
   "source": [
    "d = {}\n",
    "\n",
    "for i in range(1,11):\n",
    "    d[i] = i * i\n",
    "\n",
    "print(d)"
   ]
  },
  {
   "cell_type": "markdown",
   "id": "a13da3c2",
   "metadata": {},
   "source": [
    "# Questions\n",
    "\n",
    "\n",
    "**WAP to merge 2 dictionary**\n",
    "\n",
    "\n",
    "**WAP to sum all the items in a dictionary**\n",
    "\n",
    "\n",
    "**WAP to check if the dictionary is empty or not.**"
   ]
  },
  {
   "cell_type": "code",
   "execution_count": null,
   "id": "44fc0c53",
   "metadata": {},
   "outputs": [],
   "source": []
  }
 ],
 "metadata": {
  "kernelspec": {
   "display_name": "Python 3 (ipykernel)",
   "language": "python",
   "name": "python3"
  },
  "language_info": {
   "codemirror_mode": {
    "name": "ipython",
    "version": 3
   },
   "file_extension": ".py",
   "mimetype": "text/x-python",
   "name": "python",
   "nbconvert_exporter": "python",
   "pygments_lexer": "ipython3",
   "version": "3.9.12"
  }
 },
 "nbformat": 4,
 "nbformat_minor": 5
}
