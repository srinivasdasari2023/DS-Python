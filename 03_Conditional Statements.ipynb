{
 "cells": [
  {
   "cell_type": "markdown",
   "id": "66974c98",
   "metadata": {},
   "source": [
    "# If"
   ]
  },
  {
   "cell_type": "code",
   "execution_count": 1,
   "id": "6e6b8fda",
   "metadata": {},
   "outputs": [
    {
     "name": "stdout",
     "output_type": "stream",
     "text": [
      "Hello\n",
      "Hi\n"
     ]
    }
   ],
   "source": [
    "a = 10\n",
    "\n",
    "if a > 5:\n",
    "    print(\"Hello\")\n",
    "    print(\"Hi\")"
   ]
  },
  {
   "cell_type": "code",
   "execution_count": 2,
   "id": "34452992",
   "metadata": {},
   "outputs": [
    {
     "name": "stdout",
     "output_type": "stream",
     "text": [
      "Bye\n"
     ]
    }
   ],
   "source": [
    "a = 10\n",
    "\n",
    "if a > 15:\n",
    "    print(\"Hello\")\n",
    "    print(\"Hi\")\n",
    "print(\"Bye\")"
   ]
  },
  {
   "cell_type": "code",
   "execution_count": 3,
   "id": "f3e7c6d8",
   "metadata": {},
   "outputs": [
    {
     "name": "stdout",
     "output_type": "stream",
     "text": [
      "Hello\n",
      "Hi\n"
     ]
    }
   ],
   "source": [
    "a = 10\n",
    "\n",
    "if a == 10:\n",
    "    print(\"Hello\")\n",
    "    print(\"Hi\")"
   ]
  },
  {
   "cell_type": "markdown",
   "id": "9a224ef7",
   "metadata": {},
   "source": [
    "# Else"
   ]
  },
  {
   "cell_type": "code",
   "execution_count": 4,
   "id": "2223bb78",
   "metadata": {},
   "outputs": [
    {
     "name": "stdout",
     "output_type": "stream",
     "text": [
      "Hello\n"
     ]
    }
   ],
   "source": [
    "a = 10\n",
    "\n",
    "if a > 5:\n",
    "    print(\"Hello\")\n",
    "else:\n",
    "    print(\"Bye\")"
   ]
  },
  {
   "cell_type": "code",
   "execution_count": 5,
   "id": "1d279246",
   "metadata": {},
   "outputs": [
    {
     "name": "stdout",
     "output_type": "stream",
     "text": [
      "Bye\n"
     ]
    }
   ],
   "source": [
    "a = 10\n",
    "\n",
    "if a > 15:\n",
    "    print(\"Hello\")\n",
    "else:\n",
    "    print(\"Bye\")"
   ]
  },
  {
   "cell_type": "code",
   "execution_count": 6,
   "id": "2dda44ed",
   "metadata": {},
   "outputs": [
    {
     "ename": "SyntaxError",
     "evalue": "invalid syntax (214556681.py, line 1)",
     "output_type": "error",
     "traceback": [
      "\u001b[1;36m  Input \u001b[1;32mIn [6]\u001b[1;36m\u001b[0m\n\u001b[1;33m    else:\u001b[0m\n\u001b[1;37m    ^\u001b[0m\n\u001b[1;31mSyntaxError\u001b[0m\u001b[1;31m:\u001b[0m invalid syntax\n"
     ]
    }
   ],
   "source": [
    "else:\n",
    "    print(\"Bye\")"
   ]
  },
  {
   "cell_type": "code",
   "execution_count": 7,
   "id": "a3d72014",
   "metadata": {},
   "outputs": [
    {
     "name": "stdout",
     "output_type": "stream",
     "text": [
      "Hello\n",
      "One\n"
     ]
    }
   ],
   "source": [
    "a = 10\n",
    "\n",
    "if a > 5:\n",
    "    print(\"Hello\")    \n",
    "if a == 10:\n",
    "    print(\"One\")"
   ]
  },
  {
   "cell_type": "code",
   "execution_count": 8,
   "id": "d18dbb9d",
   "metadata": {},
   "outputs": [
    {
     "name": "stdout",
     "output_type": "stream",
     "text": [
      "One\n"
     ]
    }
   ],
   "source": [
    "a = 10\n",
    "\n",
    "if a > 15:\n",
    "    print(\"Hello\")    \n",
    "if a == 10:\n",
    "    print(\"One\")"
   ]
  },
  {
   "cell_type": "code",
   "execution_count": 9,
   "id": "b4f7b55a",
   "metadata": {},
   "outputs": [
    {
     "name": "stdout",
     "output_type": "stream",
     "text": [
      "One\n",
      "Two\n"
     ]
    }
   ],
   "source": [
    "a = 10\n",
    "\n",
    "if a > 15:\n",
    "    print(\"Hello\")\n",
    "else:\n",
    "    print(\"One\")\n",
    "if a == 10:\n",
    "    print(\"Two\")\n",
    "else:\n",
    "    print(\"Three\")"
   ]
  },
  {
   "cell_type": "markdown",
   "id": "3568ff13",
   "metadata": {},
   "source": [
    "# elif\n",
    "\n",
    "else if"
   ]
  },
  {
   "cell_type": "code",
   "execution_count": 14,
   "id": "a4d49ef6",
   "metadata": {},
   "outputs": [
    {
     "name": "stdout",
     "output_type": "stream",
     "text": [
      "Invalid Input\n"
     ]
    }
   ],
   "source": [
    "a = 5\n",
    "\n",
    "if a == 1:\n",
    "    print(\"Change Pin\")\n",
    "elif a == 2:\n",
    "    print(\"Withdraw Cash\")\n",
    "elif a == 3:\n",
    "    print(\"Mini Statement\")\n",
    "else:\n",
    "    print(\"Invalid Input\")"
   ]
  },
  {
   "cell_type": "code",
   "execution_count": 15,
   "id": "ea704bad",
   "metadata": {},
   "outputs": [
    {
     "name": "stdout",
     "output_type": "stream",
     "text": [
      "Hello\n"
     ]
    }
   ],
   "source": [
    "a = 10\n",
    "\n",
    "if a > 5:\n",
    "    print(\"Hello\")    \n",
    "elif a == 10:\n",
    "    print(\"Hi\")"
   ]
  },
  {
   "cell_type": "code",
   "execution_count": 16,
   "id": "1d8c44b5",
   "metadata": {},
   "outputs": [
    {
     "ename": "SyntaxError",
     "evalue": "invalid syntax (3105703029.py, line 1)",
     "output_type": "error",
     "traceback": [
      "\u001b[1;36m  Input \u001b[1;32mIn [16]\u001b[1;36m\u001b[0m\n\u001b[1;33m    elif a == 10:\u001b[0m\n\u001b[1;37m    ^\u001b[0m\n\u001b[1;31mSyntaxError\u001b[0m\u001b[1;31m:\u001b[0m invalid syntax\n"
     ]
    }
   ],
   "source": [
    "elif a == 10:\n",
    "    print(\"Hi\")"
   ]
  },
  {
   "cell_type": "markdown",
   "id": "eb2d3d82",
   "metadata": {},
   "source": [
    "# Nested If and Else"
   ]
  },
  {
   "cell_type": "code",
   "execution_count": 17,
   "id": "92979d85",
   "metadata": {},
   "outputs": [
    {
     "name": "stdout",
     "output_type": "stream",
     "text": [
      "4\n",
      "5\n"
     ]
    }
   ],
   "source": [
    "a = 10\n",
    "\n",
    "if a > 10:\n",
    "    print(1)\n",
    "    if a > 5:\n",
    "        print(2)\n",
    "    else:\n",
    "        print(3)\n",
    "else:\n",
    "    print(4)\n",
    "    if a == 10:\n",
    "        print(5)\n",
    "    else:\n",
    "        print(6)"
   ]
  },
  {
   "cell_type": "code",
   "execution_count": 18,
   "id": "992c5555",
   "metadata": {},
   "outputs": [
    {
     "name": "stdout",
     "output_type": "stream",
     "text": [
      "1\n",
      "2\n"
     ]
    }
   ],
   "source": [
    "a = 10\n",
    "\n",
    "if a > 5:\n",
    "    print(1)\n",
    "    if a > 5:\n",
    "        print(2)\n",
    "    else:\n",
    "        print(3)\n",
    "else:\n",
    "    print(4)\n",
    "    if a == 10:\n",
    "        print(5)\n",
    "    else:\n",
    "        print(6)"
   ]
  },
  {
   "cell_type": "markdown",
   "id": "3677a268",
   "metadata": {},
   "source": [
    "# Ternary Expressions\n",
    "\n",
    "Python does not support unary and ternary operators but ternary expressions using if and else"
   ]
  },
  {
   "cell_type": "code",
   "execution_count": null,
   "id": "0a3eda59",
   "metadata": {},
   "outputs": [],
   "source": [
    "unary    Binary    ternary\n",
    "++       a + b       ?  : \n",
    "--"
   ]
  },
  {
   "cell_type": "code",
   "execution_count": 19,
   "id": "4885c152",
   "metadata": {},
   "outputs": [
    {
     "name": "stdout",
     "output_type": "stream",
     "text": [
      "10\n"
     ]
    }
   ],
   "source": [
    "a = 5\n",
    "\n",
    "b = 10 if a > 4 else 45\n",
    "\n",
    "print(b)"
   ]
  },
  {
   "cell_type": "code",
   "execution_count": 20,
   "id": "fea9b561",
   "metadata": {},
   "outputs": [
    {
     "name": "stdout",
     "output_type": "stream",
     "text": [
      "45\n"
     ]
    }
   ],
   "source": [
    "a = 5\n",
    "\n",
    "b = 10 if a > 14 else 45\n",
    "\n",
    "print(b)"
   ]
  },
  {
   "cell_type": "code",
   "execution_count": 21,
   "id": "93cfa881",
   "metadata": {},
   "outputs": [
    {
     "name": "stdout",
     "output_type": "stream",
     "text": [
      "Login\n"
     ]
    }
   ],
   "source": [
    "status = 1\n",
    "\n",
    "message = \"Login\" if status == 1 else \"Logout\"\n",
    "\n",
    "print(message)"
   ]
  },
  {
   "cell_type": "markdown",
   "id": "bf80b42a",
   "metadata": {},
   "source": [
    "# Questions\n",
    "\n",
    "**WAP to enter a number from user and check if it is greater than 10 or not**"
   ]
  },
  {
   "cell_type": "code",
   "execution_count": 23,
   "id": "5fc0ce7c",
   "metadata": {},
   "outputs": [
    {
     "name": "stdout",
     "output_type": "stream",
     "text": [
      "Enter a number: 3\n",
      "Smaller than 10\n"
     ]
    }
   ],
   "source": [
    "a = int(input(\"Enter a number: \"))\n",
    "\n",
    "if a > 10:\n",
    "    print(\"Greater than 10\")\n",
    "else:\n",
    "    print(\"Smaller than 10\")"
   ]
  },
  {
   "cell_type": "markdown",
   "id": "90bfc0e2",
   "metadata": {},
   "source": [
    "**WAP to enter a number from user and check if it is even or odd**"
   ]
  },
  {
   "cell_type": "code",
   "execution_count": 25,
   "id": "a9b33a6e",
   "metadata": {},
   "outputs": [
    {
     "data": {
      "text/plain": [
       "1"
      ]
     },
     "execution_count": 25,
     "metadata": {},
     "output_type": "execute_result"
    }
   ],
   "source": [
    "11%2"
   ]
  },
  {
   "cell_type": "code",
   "execution_count": 30,
   "id": "a123ab4a",
   "metadata": {},
   "outputs": [
    {
     "name": "stdout",
     "output_type": "stream",
     "text": [
      "Enter a number: 1000\n",
      "The number is even\n"
     ]
    }
   ],
   "source": [
    "a = int(input(\"Enter a number: \"))\n",
    "\n",
    "if a%2 == 0:\n",
    "    print(\"The number is even\")\n",
    "else:\n",
    "    print(\"The number is odd\")"
   ]
  },
  {
   "cell_type": "markdown",
   "id": "a3149b01",
   "metadata": {},
   "source": [
    "**WAP to enter a number from user and print its absolute value**\n",
    "\n",
    "|-1| = 1\n",
    "\n",
    "|-5| = 5\n",
    "\n",
    "|6| = 6"
   ]
  },
  {
   "cell_type": "code",
   "execution_count": null,
   "id": "aded7225",
   "metadata": {},
   "outputs": [],
   "source": [
    "_________|____________\n",
    " -2  -1  0  1   2   3"
   ]
  },
  {
   "cell_type": "code",
   "execution_count": 34,
   "id": "c500611e",
   "metadata": {},
   "outputs": [
    {
     "name": "stdout",
     "output_type": "stream",
     "text": [
      "Enter a number: -101\n",
      "Absolute Value = 101\n"
     ]
    }
   ],
   "source": [
    "a = int(input(\"Enter a number: \"))\n",
    "\n",
    "if a < 0:\n",
    "    print(\"Absolute Value =\",a * (-1))\n",
    "else:\n",
    "    print(\"Absolute Value =\", a)"
   ]
  },
  {
   "cell_type": "markdown",
   "id": "f6447d04",
   "metadata": {},
   "source": [
    "**WAP to enter a number from user between 0 to 9 and print its character format**"
   ]
  },
  {
   "cell_type": "code",
   "execution_count": null,
   "id": "0bba124b",
   "metadata": {},
   "outputs": [],
   "source": [
    "1 -> One\n",
    "\n",
    "5 -> Five"
   ]
  },
  {
   "cell_type": "code",
   "execution_count": 39,
   "id": "2c59e6df",
   "metadata": {},
   "outputs": [
    {
     "name": "stdout",
     "output_type": "stream",
     "text": [
      "Enter a number between 0 to 9:4\n",
      "Four\n"
     ]
    }
   ],
   "source": [
    "a= int(input(\"Enter a number between 0 to 9:\"))\n",
    "\n",
    "if (a== 0):\n",
    "    print(\"Zero\")\n",
    "elif (a== 1):\n",
    "    print(\"One\")\n",
    "elif (a== 2):\n",
    "    print(\"Two\")\n",
    "elif (a== 3):\n",
    "    print(\"Three\")\n",
    "elif (a== 4):\n",
    "    print(\"Four\")\n",
    "elif (a== 5):\n",
    "    print(\"Five\")\n",
    "elif (a== 6):\n",
    "    print(\"Six\")\n",
    "elif (a== 7):\n",
    "    print(\"Seven\")\n",
    "elif (a== 8):\n",
    "    print(\"Eight\")\n",
    "elif (a== 9):\n",
    "    print(\"Nine\")\n",
    "else:\n",
    "    print(\"not in range \")\n",
    "\n",
    "# solution is by rohit"
   ]
  },
  {
   "cell_type": "markdown",
   "id": "1e3a4035",
   "metadata": {},
   "source": [
    "**WAP to enter a character from user and check if it vowel or consonant**"
   ]
  },
  {
   "cell_type": "code",
   "execution_count": 42,
   "id": "3f0c573d",
   "metadata": {},
   "outputs": [
    {
     "name": "stdout",
     "output_type": "stream",
     "text": [
      "give a vowel : o\n",
      "its a vowel\n"
     ]
    }
   ],
   "source": [
    "a = input(\"give a vowel : \")\n",
    "\n",
    "if a==\"a\":\n",
    "    print(\"its a vowel\")\n",
    "elif a==\"e\":\n",
    "    print(\"its a vowel\")\n",
    "elif a==\"i\":\n",
    "    print(\"its a vowel\")\n",
    "elif a==\"o\":\n",
    "    print(\"its a vowel\")\n",
    "elif a==\"u\":\n",
    "    print(\"its a vowel\")\n",
    "else:\n",
    "    print(\"Consonant\")\n",
    "\n",
    "# solution by Sunil"
   ]
  },
  {
   "cell_type": "code",
   "execution_count": 43,
   "id": "389c61a0",
   "metadata": {},
   "outputs": [],
   "source": [
    "# how to solve the same problem using one if and one else"
   ]
  },
  {
   "cell_type": "code",
   "execution_count": 44,
   "id": "8ab52462",
   "metadata": {},
   "outputs": [],
   "source": [
    "# or -> Short-circuit OR"
   ]
  },
  {
   "cell_type": "code",
   "execution_count": 48,
   "id": "58243b19",
   "metadata": {},
   "outputs": [
    {
     "name": "stdout",
     "output_type": "stream",
     "text": [
      "Enter a character: A\n",
      "Vowel\n"
     ]
    }
   ],
   "source": [
    "a = input(\"Enter a character: \")\n",
    "\n",
    "if a == 'a' or a == 'e' or a == 'i' or a == 'o' or a == 'u' or a == 'A':\n",
    "    print(\"Vowel\")\n",
    "else:\n",
    "    print(\"Consonant\")"
   ]
  },
  {
   "cell_type": "code",
   "execution_count": null,
   "id": "a38758d1",
   "metadata": {},
   "outputs": [],
   "source": [
    "a.lower()\n",
    "\n",
    "a.upper()"
   ]
  },
  {
   "cell_type": "code",
   "execution_count": 51,
   "id": "9b5202e1",
   "metadata": {},
   "outputs": [
    {
     "name": "stdout",
     "output_type": "stream",
     "text": [
      "Enter a character: K\n",
      "User input:  k\n",
      "Consonant\n"
     ]
    }
   ],
   "source": [
    "a = input(\"Enter a character: \").lower()\n",
    "\n",
    "print(\"User input: \", a)\n",
    "\n",
    "if a == 'a' or a == 'e' or a == 'i' or a == 'o' or a == 'u':\n",
    "    print(\"Vowel\")\n",
    "else:\n",
    "    print(\"Consonant\")"
   ]
  },
  {
   "cell_type": "code",
   "execution_count": 54,
   "id": "962e3d2f",
   "metadata": {},
   "outputs": [
    {
     "name": "stdout",
     "output_type": "stream",
     "text": [
      "Enter a character: U\n",
      "User input:  u\n",
      "Vowel\n"
     ]
    }
   ],
   "source": [
    "a = input(\"Enter a character: \")\n",
    "\n",
    "print(\"User input: \", a.lower())\n",
    "\n",
    "a = a.lower()\n",
    "\n",
    "if a == 'a' or a == 'e' or a == 'i' or a == 'o' or a == 'u':\n",
    "    print(\"Vowel\")\n",
    "else:\n",
    "    print(\"Consonant\")"
   ]
  },
  {
   "cell_type": "code",
   "execution_count": null,
   "id": "273413fa",
   "metadata": {},
   "outputs": [],
   "source": []
  }
 ],
 "metadata": {
  "kernelspec": {
   "display_name": "Python 3 (ipykernel)",
   "language": "python",
   "name": "python3"
  },
  "language_info": {
   "codemirror_mode": {
    "name": "ipython",
    "version": 3
   },
   "file_extension": ".py",
   "mimetype": "text/x-python",
   "name": "python",
   "nbconvert_exporter": "python",
   "pygments_lexer": "ipython3",
   "version": "3.9.12"
  }
 },
 "nbformat": 4,
 "nbformat_minor": 5
}
