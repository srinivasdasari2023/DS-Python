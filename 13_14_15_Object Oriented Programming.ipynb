{
 "cells": [
  {
   "cell_type": "markdown",
   "id": "aed69046",
   "metadata": {},
   "source": [
    "# Object Oriented Programming\n",
    "\n",
    "7 properties - \n",
    "\n",
    "1. Class - \n",
    "            Updated version of structure (struct in C programming)\n",
    "            Collection of variables and methods.\n",
    "            class is a blueprint.\n",
    "2. Object -\n",
    "            run time or real time entity.\n",
    "            hash code - (id)\n",
    "\n",
    "3. Abstraction and encapsulation\n",
    "            Abstraction - showing only essential features without showing any background details.\n",
    "            Encapsulation - wrapping up of data in a single unit.\n",
    "            \n",
    "4. Inheritance\n",
    "            Acquiring properies of one class into another.\n",
    "            code reuse\n",
    "            - single level\n",
    "            - multilevel\n",
    "            - Hierarchical\n",
    "            - Multiple\n",
    "            - Hybrid\n",
    "5. Polymorphism\n",
    "            same name multiple functionalities.\n",
    "            - Method Overloading\n",
    "            - Method Overriding\n",
    "6. Dynamic Memory Allocation\n",
    "            - Run time memory allocation/late binding/dynamic binding\n",
    "7. Message Passing\n",
    "            Communication between objects"
   ]
  },
  {
   "cell_type": "code",
   "execution_count": null,
   "id": "ec2e07ca",
   "metadata": {},
   "outputs": [],
   "source": [
    "c programming\n",
    "\n",
    "int a = 10;  # 2 bytes\n",
    "\n",
    "sturct student{\n",
    "    int rollno;\n",
    "    char name[10];\n",
    "    float per;\n",
    "}\n",
    "\n",
    "struct student s;\n",
    "#          int a;"
   ]
  },
  {
   "cell_type": "code",
   "execution_count": null,
   "id": "e2a6f563",
   "metadata": {},
   "outputs": [],
   "source": [
    "import math"
   ]
  },
  {
   "cell_type": "code",
   "execution_count": null,
   "id": "f78c5ac9",
   "metadata": {},
   "outputs": [],
   "source": [
    "bits>numbers>characters>instrctions>functions>programmes>modules>packages>library>framework"
   ]
  },
  {
   "cell_type": "code",
   "execution_count": null,
   "id": "33b3a366",
   "metadata": {},
   "outputs": [],
   "source": [
    "windows 7\n",
    "\n",
    "windows 11"
   ]
  },
  {
   "cell_type": "code",
   "execution_count": null,
   "id": "0786ce77",
   "metadata": {},
   "outputs": [],
   "source": [
    "add()\n",
    "add(x, y)\n",
    "add(a, b, c)\n",
    "add()"
   ]
  },
  {
   "cell_type": "code",
   "execution_count": 11,
   "id": "35d43336",
   "metadata": {},
   "outputs": [
    {
     "name": "stdout",
     "output_type": "stream",
     "text": [
      "<class 'int'>\n",
      "2075338107472\n",
      "2075338107472\n"
     ]
    }
   ],
   "source": [
    "a = 10\n",
    "\n",
    "print(type(a))\n",
    "\n",
    "print(id(a))\n",
    "\n",
    "print(id(10))"
   ]
  },
  {
   "cell_type": "code",
   "execution_count": 2,
   "id": "a613deb0",
   "metadata": {},
   "outputs": [
    {
     "name": "stdout",
     "output_type": "stream",
     "text": [
      "<class 'int'>\n",
      "2075338107792\n"
     ]
    }
   ],
   "source": [
    "b = 20\n",
    "\n",
    "print(type(b))\n",
    "\n",
    "print(id(b))"
   ]
  },
  {
   "cell_type": "code",
   "execution_count": 3,
   "id": "901d69f9",
   "metadata": {},
   "outputs": [],
   "source": [
    "class Cricket:\n",
    "    \n",
    "    def bat():\n",
    "        print(\"Batting\")\n",
    "    \n"
   ]
  },
  {
   "cell_type": "code",
   "execution_count": 4,
   "id": "a98488a7",
   "metadata": {},
   "outputs": [],
   "source": [
    "c = Cricket()"
   ]
  },
  {
   "cell_type": "code",
   "execution_count": 5,
   "id": "bdc10886",
   "metadata": {},
   "outputs": [
    {
     "ename": "TypeError",
     "evalue": "bat() takes 0 positional arguments but 1 was given",
     "output_type": "error",
     "traceback": [
      "\u001b[1;31m---------------------------------------------------------------------------\u001b[0m",
      "\u001b[1;31mTypeError\u001b[0m                                 Traceback (most recent call last)",
      "Input \u001b[1;32mIn [5]\u001b[0m, in \u001b[0;36m<cell line: 1>\u001b[1;34m()\u001b[0m\n\u001b[1;32m----> 1\u001b[0m \u001b[43mc\u001b[49m\u001b[38;5;241;43m.\u001b[39;49m\u001b[43mbat\u001b[49m\u001b[43m(\u001b[49m\u001b[43m)\u001b[49m\n",
      "\u001b[1;31mTypeError\u001b[0m: bat() takes 0 positional arguments but 1 was given"
     ]
    }
   ],
   "source": [
    "c.bat()"
   ]
  },
  {
   "cell_type": "code",
   "execution_count": null,
   "id": "669999f5",
   "metadata": {},
   "outputs": [],
   "source": [
    "# self -> current object"
   ]
  },
  {
   "cell_type": "code",
   "execution_count": 6,
   "id": "49e7f4da",
   "metadata": {},
   "outputs": [
    {
     "name": "stdout",
     "output_type": "stream",
     "text": [
      "Batting\n"
     ]
    }
   ],
   "source": [
    "class Cricket:\n",
    "    \n",
    "    def bat(self):        # self = c\n",
    "        print(\"Batting\")\n",
    "    \n",
    "\n",
    "c = Cricket()\n",
    "\n",
    "c.bat()\n",
    "\n",
    "f = Cricket()\n",
    "f.bat()"
   ]
  },
  {
   "cell_type": "code",
   "execution_count": 7,
   "id": "51609b05",
   "metadata": {},
   "outputs": [
    {
     "name": "stdout",
     "output_type": "stream",
     "text": [
      "<__main__.Cricket object at 0x000001E338F3B1F0>\n"
     ]
    }
   ],
   "source": [
    "print(c)"
   ]
  },
  {
   "cell_type": "code",
   "execution_count": 8,
   "id": "7b6fd5ee",
   "metadata": {},
   "outputs": [
    {
     "name": "stdout",
     "output_type": "stream",
     "text": [
      "2075424698864\n"
     ]
    }
   ],
   "source": [
    "print(id(c))"
   ]
  },
  {
   "cell_type": "code",
   "execution_count": 9,
   "id": "290d1de1",
   "metadata": {},
   "outputs": [
    {
     "name": "stdout",
     "output_type": "stream",
     "text": [
      "<__main__.Cricket object at 0x000001E33A241B50>\n"
     ]
    }
   ],
   "source": [
    "print(Cricket())"
   ]
  },
  {
   "cell_type": "code",
   "execution_count": null,
   "id": "5366fa1f",
   "metadata": {},
   "outputs": [],
   "source": [
    "t = print()"
   ]
  },
  {
   "cell_type": "code",
   "execution_count": null,
   "id": "cdf7f218",
   "metadata": {},
   "outputs": [],
   "source": [
    "def __main__():\n",
    "    class Cricket:\n",
    "    \n",
    "        def bat(self):        # self = c\n",
    "            print(\"Batting\")\n",
    "\n",
    "\n",
    "        c = Cricket()\n",
    "\n",
    "        c.bat()\n",
    "\n",
    "        f = Cricket()\n",
    "        f.bat()"
   ]
  },
  {
   "cell_type": "markdown",
   "id": "0fcb6d36",
   "metadata": {},
   "source": [
    "# Day 14"
   ]
  },
  {
   "cell_type": "markdown",
   "id": "afdc7a8d",
   "metadata": {},
   "source": [
    "### Anology"
   ]
  },
  {
   "cell_type": "code",
   "execution_count": null,
   "id": "6a756b41",
   "metadata": {},
   "outputs": [],
   "source": [
    "TV blueprint - Class\n",
    "- smart tv\n",
    "- colors\n",
    "- usb\n",
    "- hdmi\n",
    "\n",
    "Actual TV    - Object\n",
    "- product ID\n",
    "\n",
    "\n",
    "Remote       - reference"
   ]
  },
  {
   "cell_type": "code",
   "execution_count": 1,
   "id": "684e5bed",
   "metadata": {},
   "outputs": [],
   "source": [
    "class Football:\n",
    "    \n",
    "    def goal(self, x):    # self = f, x = 4\n",
    "        self.a = x\n",
    "    \n",
    "    def display(self):\n",
    "        print(self.a)\n",
    "        #        f.a\n",
    "    \n",
    "\n",
    "f = Football()"
   ]
  },
  {
   "cell_type": "code",
   "execution_count": 2,
   "id": "4f23c0e0",
   "metadata": {},
   "outputs": [],
   "source": [
    "f.goal(4)"
   ]
  },
  {
   "cell_type": "code",
   "execution_count": 3,
   "id": "44e789e8",
   "metadata": {},
   "outputs": [
    {
     "name": "stdout",
     "output_type": "stream",
     "text": [
      "4\n"
     ]
    }
   ],
   "source": [
    "f.display()"
   ]
  },
  {
   "cell_type": "code",
   "execution_count": 4,
   "id": "a81b3a44",
   "metadata": {},
   "outputs": [
    {
     "ename": "NameError",
     "evalue": "name 'a' is not defined",
     "output_type": "error",
     "traceback": [
      "\u001b[1;31m---------------------------------------------------------------------------\u001b[0m",
      "\u001b[1;31mNameError\u001b[0m                                 Traceback (most recent call last)",
      "Input \u001b[1;32mIn [4]\u001b[0m, in \u001b[0;36m<cell line: 1>\u001b[1;34m()\u001b[0m\n\u001b[1;32m----> 1\u001b[0m \u001b[38;5;28mprint\u001b[39m(\u001b[43ma\u001b[49m)\n",
      "\u001b[1;31mNameError\u001b[0m: name 'a' is not defined"
     ]
    }
   ],
   "source": [
    "print(a)"
   ]
  },
  {
   "cell_type": "code",
   "execution_count": 5,
   "id": "d6967234",
   "metadata": {},
   "outputs": [
    {
     "name": "stdout",
     "output_type": "stream",
     "text": [
      "4\n"
     ]
    }
   ],
   "source": [
    "print(f.a)"
   ]
  },
  {
   "cell_type": "code",
   "execution_count": 6,
   "id": "214eb70f",
   "metadata": {},
   "outputs": [
    {
     "name": "stdout",
     "output_type": "stream",
     "text": [
      "<class 'int'>\n"
     ]
    }
   ],
   "source": [
    "b = 10\n",
    "print(type(b))"
   ]
  },
  {
   "cell_type": "code",
   "execution_count": 7,
   "id": "ada35aaf",
   "metadata": {},
   "outputs": [
    {
     "name": "stdout",
     "output_type": "stream",
     "text": [
      "<class '__main__.Football'>\n"
     ]
    }
   ],
   "source": [
    "print(type(f))"
   ]
  },
  {
   "cell_type": "code",
   "execution_count": 8,
   "id": "ed45b361",
   "metadata": {},
   "outputs": [
    {
     "name": "stdout",
     "output_type": "stream",
     "text": [
      "2139349281360\n"
     ]
    }
   ],
   "source": [
    "print(id(b))"
   ]
  },
  {
   "cell_type": "code",
   "execution_count": 9,
   "id": "cd75a773",
   "metadata": {},
   "outputs": [
    {
     "name": "stdout",
     "output_type": "stream",
     "text": [
      "2139349281360\n"
     ]
    }
   ],
   "source": [
    "print(id(10))"
   ]
  },
  {
   "cell_type": "code",
   "execution_count": 10,
   "id": "ff0fd885",
   "metadata": {},
   "outputs": [],
   "source": [
    "class Test:\n",
    "    def add(self):\n",
    "        print(self)\n",
    "        print(\"Finish\")\n",
    "    \n"
   ]
  },
  {
   "cell_type": "code",
   "execution_count": 11,
   "id": "a5479e68",
   "metadata": {},
   "outputs": [
    {
     "name": "stdout",
     "output_type": "stream",
     "text": [
      "<__main__.Test object at 0x000001F22079CA00>\n",
      "\n",
      "<__main__.Test object at 0x000001F22079CA00>\n",
      "Finish\n"
     ]
    }
   ],
   "source": [
    "t = Test()\n",
    "print(t)\n",
    "print()\n",
    "t.add()"
   ]
  },
  {
   "cell_type": "code",
   "execution_count": 12,
   "id": "5df8087f",
   "metadata": {},
   "outputs": [
    {
     "name": "stdout",
     "output_type": "stream",
     "text": [
      "<__main__.Test object at 0x000001F221D603A0>\n",
      "2139461387168\n",
      "\n",
      "<__main__.Test object at 0x000001F221D603A0>\n",
      "2139461387168\n",
      "Finish\n"
     ]
    }
   ],
   "source": [
    "class Test:\n",
    "    def add(self):\n",
    "        print(self)\n",
    "        print(id(self))\n",
    "        print(\"Finish\")\n",
    "    \n",
    "t = Test()\n",
    "print(t)\n",
    "print(id(t))\n",
    "print()\n",
    "t.add()"
   ]
  },
  {
   "cell_type": "code",
   "execution_count": 14,
   "id": "2a94c787",
   "metadata": {},
   "outputs": [
    {
     "name": "stdout",
     "output_type": "stream",
     "text": [
      "<__main__.Test object at 0x000001F222022820>\n",
      "2139464280096\n",
      "\n",
      "<__main__.Test object at 0x000001F222022820>\n",
      "2139464280096\n",
      "Finish\n"
     ]
    }
   ],
   "source": [
    "t2 = Test()\n",
    "print(t2)\n",
    "print(id(t2))\n",
    "print()\n",
    "t2.add()"
   ]
  },
  {
   "cell_type": "markdown",
   "id": "5cb4b461",
   "metadata": {},
   "source": [
    "# Local Variables and Class Variables"
   ]
  },
  {
   "cell_type": "code",
   "execution_count": 15,
   "id": "97cb40f6",
   "metadata": {},
   "outputs": [],
   "source": [
    "class Test:\n",
    "    \n",
    "    def add(self):\n",
    "        print(\"This is add method\")\n",
    "    \n",
    "    def sub(self, a, b):  # a and b are local variables of sub method\n",
    "        self.x = a        # t1.x=10, t2.x=11 # x and y both are class variables\n",
    "        self.y = b        # t1.y=20, t2.y=22 # or instance variables\n",
    "    \n",
    "    def show(self):\n",
    "        print(self.x)\n",
    "        print(self.y)"
   ]
  },
  {
   "cell_type": "code",
   "execution_count": 16,
   "id": "f2787820",
   "metadata": {},
   "outputs": [],
   "source": [
    "t1 = Test()\n",
    "t2 = Test()"
   ]
  },
  {
   "cell_type": "code",
   "execution_count": 17,
   "id": "79c912c9",
   "metadata": {},
   "outputs": [
    {
     "name": "stdout",
     "output_type": "stream",
     "text": [
      "This is add method\n",
      "This is add method\n"
     ]
    }
   ],
   "source": [
    "t1.add()\n",
    "t2.add()"
   ]
  },
  {
   "cell_type": "code",
   "execution_count": 18,
   "id": "fb3ac54e",
   "metadata": {},
   "outputs": [],
   "source": [
    "t1.sub(10,20)\n",
    "t2.sub(11,22)"
   ]
  },
  {
   "cell_type": "code",
   "execution_count": 19,
   "id": "e5d9415d",
   "metadata": {},
   "outputs": [
    {
     "name": "stdout",
     "output_type": "stream",
     "text": [
      "10\n",
      "20\n"
     ]
    }
   ],
   "source": [
    "t1.show()"
   ]
  },
  {
   "cell_type": "code",
   "execution_count": 20,
   "id": "55e7e0b6",
   "metadata": {},
   "outputs": [
    {
     "name": "stdout",
     "output_type": "stream",
     "text": [
      "11\n",
      "22\n"
     ]
    }
   ],
   "source": [
    "t2.show()"
   ]
  },
  {
   "cell_type": "code",
   "execution_count": 21,
   "id": "8a566d34",
   "metadata": {},
   "outputs": [
    {
     "name": "stdout",
     "output_type": "stream",
     "text": [
      "10\n",
      "11\n"
     ]
    }
   ],
   "source": [
    "print(t1.x)\n",
    "print(t2.x)"
   ]
  },
  {
   "cell_type": "code",
   "execution_count": 22,
   "id": "06fa533f",
   "metadata": {},
   "outputs": [
    {
     "ename": "AttributeError",
     "evalue": "'Test' object has no attribute 'a'",
     "output_type": "error",
     "traceback": [
      "\u001b[1;31m---------------------------------------------------------------------------\u001b[0m",
      "\u001b[1;31mAttributeError\u001b[0m                            Traceback (most recent call last)",
      "Input \u001b[1;32mIn [22]\u001b[0m, in \u001b[0;36m<cell line: 1>\u001b[1;34m()\u001b[0m\n\u001b[1;32m----> 1\u001b[0m \u001b[38;5;28mprint\u001b[39m(\u001b[43mt1\u001b[49m\u001b[38;5;241;43m.\u001b[39;49m\u001b[43ma\u001b[49m)\n",
      "\u001b[1;31mAttributeError\u001b[0m: 'Test' object has no attribute 'a'"
     ]
    }
   ],
   "source": [
    "print(t1.a)"
   ]
  },
  {
   "cell_type": "markdown",
   "id": "cb880a6c",
   "metadata": {},
   "source": [
    "# Constructor\n",
    "\n",
    "constructors are special member methods of a class.\n",
    "\n",
    "magic methods or dunders"
   ]
  },
  {
   "cell_type": "code",
   "execution_count": 23,
   "id": "0c8cc37d",
   "metadata": {},
   "outputs": [],
   "source": [
    "class Cat:\n",
    "    \n",
    "    def __init__(self):\n",
    "        print(\"Hello from constructor\") # write code that is for initialization\n",
    "    \n",
    "    "
   ]
  },
  {
   "cell_type": "code",
   "execution_count": 24,
   "id": "190926b6",
   "metadata": {},
   "outputs": [
    {
     "name": "stdout",
     "output_type": "stream",
     "text": [
      "Hello from constructor\n"
     ]
    }
   ],
   "source": [
    "f = Cat()"
   ]
  },
  {
   "cell_type": "markdown",
   "id": "80e588e5",
   "metadata": {},
   "source": [
    "## Paramatrized Constructor"
   ]
  },
  {
   "cell_type": "code",
   "execution_count": 25,
   "id": "3f5c44a5",
   "metadata": {},
   "outputs": [],
   "source": [
    "class Car:\n",
    "    def __init__(self, x):\n",
    "        self.y = x"
   ]
  },
  {
   "cell_type": "code",
   "execution_count": 26,
   "id": "cc6774c1",
   "metadata": {},
   "outputs": [
    {
     "name": "stdout",
     "output_type": "stream",
     "text": [
      "10\n"
     ]
    }
   ],
   "source": [
    "f = Car(10)\n",
    "print(f.y)"
   ]
  },
  {
   "cell_type": "code",
   "execution_count": 28,
   "id": "4c3a8aeb",
   "metadata": {},
   "outputs": [
    {
     "name": "stdout",
     "output_type": "stream",
     "text": [
      "8\n",
      "7\n",
      "15\n",
      "16\n"
     ]
    }
   ],
   "source": [
    "a = 100\n",
    "class Rectangle:\n",
    "    def __init__(self, a, b):\n",
    "        self.a = a\n",
    "        self.b = b\n",
    "    \n",
    "r = Rectangle(8,7)\n",
    "s = Rectangle(15,16)\n",
    "print(r.a)\n",
    "print(r.b)\n",
    "\n",
    "print(s.a)\n",
    "print(s.b)"
   ]
  },
  {
   "cell_type": "markdown",
   "id": "970103cb",
   "metadata": {},
   "source": [
    "# Questions\n",
    "\n",
    "**1. WAP to create a class to reverse a string word by word.**\n",
    "\n",
    "this is an apple\n",
    "\n",
    "apple an is this"
   ]
  },
  {
   "cell_type": "code",
   "execution_count": null,
   "id": "e59765bd",
   "metadata": {},
   "outputs": [],
   "source": []
  },
  {
   "cell_type": "markdown",
   "id": "4483cd9c",
   "metadata": {},
   "source": [
    "# Day 15\n",
    "\n",
    "# Inheritance\n",
    "\n",
    "1. Single Level\n",
    "2. Multi level\n",
    "3. Hierarchical\n",
    "4. Multiple\n",
    "5. Hybrid\n",
    "\n",
    "# Single Level Inheritance"
   ]
  },
  {
   "cell_type": "code",
   "execution_count": null,
   "id": "04c97593",
   "metadata": {},
   "outputs": [],
   "source": [
    "A\n",
    "|\n",
    "B"
   ]
  },
  {
   "cell_type": "code",
   "execution_count": 1,
   "id": "2585e326",
   "metadata": {},
   "outputs": [
    {
     "name": "stdout",
     "output_type": "stream",
     "text": [
      "This is add from class A\n",
      "This is add from class A\n"
     ]
    }
   ],
   "source": [
    "class A:             # parent class / super class / base class \n",
    "    def add(self):\n",
    "        print(\"This is add from class A\")\n",
    "    \n",
    "class B(A):          # child class / sub class / derived class\n",
    "    def sub(self):\n",
    "        print(\"This is sub from class B\")\n",
    "    \n",
    "x = A()\n",
    "y = B()\n",
    "\n",
    "x.add()\n",
    "y.add()"
   ]
  },
  {
   "cell_type": "code",
   "execution_count": 2,
   "id": "3c9ae35e",
   "metadata": {},
   "outputs": [
    {
     "ename": "AttributeError",
     "evalue": "'A' object has no attribute 'sub'",
     "output_type": "error",
     "traceback": [
      "\u001b[1;31m---------------------------------------------------------------------------\u001b[0m",
      "\u001b[1;31mAttributeError\u001b[0m                            Traceback (most recent call last)",
      "Input \u001b[1;32mIn [2]\u001b[0m, in \u001b[0;36m<cell line: 1>\u001b[1;34m()\u001b[0m\n\u001b[1;32m----> 1\u001b[0m \u001b[43mx\u001b[49m\u001b[38;5;241;43m.\u001b[39;49m\u001b[43msub\u001b[49m()\n",
      "\u001b[1;31mAttributeError\u001b[0m: 'A' object has no attribute 'sub'"
     ]
    }
   ],
   "source": [
    "x.sub()"
   ]
  },
  {
   "cell_type": "code",
   "execution_count": 3,
   "id": "f4247f6b",
   "metadata": {},
   "outputs": [
    {
     "name": "stdout",
     "output_type": "stream",
     "text": [
      "This is sub from class B\n"
     ]
    }
   ],
   "source": [
    "y.sub()"
   ]
  },
  {
   "cell_type": "markdown",
   "id": "1974a6f0",
   "metadata": {},
   "source": [
    "## Inheritance with constructor init method"
   ]
  },
  {
   "cell_type": "code",
   "execution_count": 5,
   "id": "56b38ac5",
   "metadata": {},
   "outputs": [
    {
     "name": "stdout",
     "output_type": "stream",
     "text": [
      "Init A\n",
      "Init B\n"
     ]
    }
   ],
   "source": [
    "class Windows7:\n",
    "    def __init__(self):\n",
    "        print(\"Init A\")\n",
    "    \n",
    "    def add(self):\n",
    "        print(\"Add A\")\n",
    "    \n",
    "class Windows10(Windows7):\n",
    "    def __init__(self):\n",
    "        print(\"Init B\")\n",
    "    \n",
    "    def sub(self):\n",
    "        print(\"Sub B\")\n",
    "    \n",
    "x = Windows7()\n",
    "y = Windows10()"
   ]
  },
  {
   "cell_type": "code",
   "execution_count": 6,
   "id": "5d7e4cb6",
   "metadata": {},
   "outputs": [
    {
     "name": "stdout",
     "output_type": "stream",
     "text": [
      "Init A\n",
      "Init A\n",
      "Init B\n"
     ]
    }
   ],
   "source": [
    "class Windows7:\n",
    "    def __init__(self):\n",
    "        print(\"Init A\")\n",
    "    \n",
    "    def add(self):\n",
    "        print(\"Add A\")\n",
    "    \n",
    "class Windows10(Windows7):\n",
    "    def __init__(self):\n",
    "        Windows7.__init__(self)\n",
    "        print(\"Init B\")\n",
    "    \n",
    "    def sub(self):\n",
    "        print(\"Sub B\")\n",
    "    \n",
    "x = Windows7()\n",
    "y = Windows10()"
   ]
  },
  {
   "cell_type": "markdown",
   "id": "039a2585",
   "metadata": {},
   "source": [
    "# Multi Level Inheritance"
   ]
  },
  {
   "cell_type": "code",
   "execution_count": null,
   "id": "37bf8f72",
   "metadata": {},
   "outputs": [],
   "source": [
    "A\n",
    "|\n",
    "B\n",
    "|\n",
    "C"
   ]
  },
  {
   "cell_type": "code",
   "execution_count": 7,
   "id": "79259cb4",
   "metadata": {},
   "outputs": [
    {
     "name": "stdout",
     "output_type": "stream",
     "text": [
      "show C\n",
      "Show B\n",
      "Add A\n"
     ]
    }
   ],
   "source": [
    "class A:\n",
    "    def add(self):\n",
    "        print(\"Add A\")\n",
    "    \n",
    "class B(A):\n",
    "    def sub(self):\n",
    "        print(\"Show B\")\n",
    "    \n",
    "class C(B):\n",
    "    def show(self):\n",
    "        print(\"show C\")\n",
    "    \n",
    "z = C()\n",
    "z.show()\n",
    "z.sub()\n",
    "z.add()"
   ]
  },
  {
   "cell_type": "markdown",
   "id": "722589b6",
   "metadata": {},
   "source": [
    "# Hierarchical Inheritance"
   ]
  },
  {
   "cell_type": "code",
   "execution_count": null,
   "id": "c814453d",
   "metadata": {},
   "outputs": [],
   "source": [
    "    A\n",
    "B       C"
   ]
  },
  {
   "cell_type": "code",
   "execution_count": 8,
   "id": "f060757b",
   "metadata": {},
   "outputs": [
    {
     "name": "stdout",
     "output_type": "stream",
     "text": [
      "show C\n"
     ]
    },
    {
     "ename": "AttributeError",
     "evalue": "'C' object has no attribute 'sub'",
     "output_type": "error",
     "traceback": [
      "\u001b[1;31m---------------------------------------------------------------------------\u001b[0m",
      "\u001b[1;31mAttributeError\u001b[0m                            Traceback (most recent call last)",
      "Input \u001b[1;32mIn [8]\u001b[0m, in \u001b[0;36m<cell line: 15>\u001b[1;34m()\u001b[0m\n\u001b[0;32m     13\u001b[0m z \u001b[38;5;241m=\u001b[39m C()\n\u001b[0;32m     14\u001b[0m z\u001b[38;5;241m.\u001b[39mshow()\n\u001b[1;32m---> 15\u001b[0m \u001b[43mz\u001b[49m\u001b[38;5;241;43m.\u001b[39;49m\u001b[43msub\u001b[49m()\n\u001b[0;32m     16\u001b[0m z\u001b[38;5;241m.\u001b[39madd()\n",
      "\u001b[1;31mAttributeError\u001b[0m: 'C' object has no attribute 'sub'"
     ]
    }
   ],
   "source": [
    "class A:\n",
    "    def add(self):\n",
    "        print(\"Add A\")\n",
    "    \n",
    "class B(A):\n",
    "    def sub(self):\n",
    "        print(\"Show B\")\n",
    "    \n",
    "class C(A):\n",
    "    def show(self):\n",
    "        print(\"show C\")\n",
    "    \n",
    "z = C()\n",
    "z.show()\n",
    "z.sub()\n",
    "z.add()"
   ]
  },
  {
   "cell_type": "code",
   "execution_count": 9,
   "id": "c9fd7839",
   "metadata": {},
   "outputs": [
    {
     "name": "stdout",
     "output_type": "stream",
     "text": [
      "Add A\n"
     ]
    }
   ],
   "source": [
    "z.add()"
   ]
  },
  {
   "cell_type": "markdown",
   "id": "8bad939e",
   "metadata": {},
   "source": [
    "# Multiple Inheritance\n",
    "\n",
    "C3 algorithm to solve ambiguty error\n",
    "\n",
    "MRO - Method Resolution Order"
   ]
  },
  {
   "cell_type": "code",
   "execution_count": null,
   "id": "0bb17bd7",
   "metadata": {},
   "outputs": [],
   "source": [
    "A       B\n",
    "    C"
   ]
  },
  {
   "cell_type": "code",
   "execution_count": 10,
   "id": "1dd3ee28",
   "metadata": {},
   "outputs": [
    {
     "name": "stdout",
     "output_type": "stream",
     "text": [
      "Show C\n",
      "Add A\n"
     ]
    }
   ],
   "source": [
    "class A:\n",
    "    def add(self):\n",
    "        print(\"Add A\")\n",
    "    \n",
    "class B:\n",
    "    def add(self):\n",
    "        print(\"Add B\")\n",
    "    \n",
    "class C(A,B):\n",
    "    def show(self):\n",
    "        print(\"Show C\")\n",
    "    \n",
    "z = C()\n",
    "z.show()\n",
    "z.add()"
   ]
  },
  {
   "cell_type": "code",
   "execution_count": 11,
   "id": "5a165292",
   "metadata": {},
   "outputs": [
    {
     "name": "stdout",
     "output_type": "stream",
     "text": [
      "(<class '__main__.C'>, <class '__main__.A'>, <class '__main__.B'>, <class 'object'>)\n"
     ]
    }
   ],
   "source": [
    "print(C.__mro__)"
   ]
  },
  {
   "cell_type": "code",
   "execution_count": 13,
   "id": "f31824b1",
   "metadata": {
    "scrolled": false
   },
   "outputs": [],
   "source": [
    "# help(str)"
   ]
  },
  {
   "cell_type": "code",
   "execution_count": 14,
   "id": "f5f21fdb",
   "metadata": {},
   "outputs": [
    {
     "name": "stdout",
     "output_type": "stream",
     "text": [
      "Show C\n",
      "Add B\n"
     ]
    }
   ],
   "source": [
    "class A:\n",
    "    def add(self):\n",
    "        print(\"Add A\")\n",
    "    \n",
    "class B:\n",
    "    def add(self):\n",
    "        print(\"Add B\")\n",
    "    \n",
    "class C(B,A):\n",
    "    def show(self):\n",
    "        print(\"Show C\")\n",
    "    \n",
    "z = C()\n",
    "z.show()\n",
    "z.add()"
   ]
  },
  {
   "cell_type": "code",
   "execution_count": 15,
   "id": "e74490d6",
   "metadata": {},
   "outputs": [
    {
     "name": "stdout",
     "output_type": "stream",
     "text": [
      "(<class '__main__.C'>, <class '__main__.B'>, <class '__main__.A'>, <class 'object'>)\n"
     ]
    }
   ],
   "source": [
    "print(C.__mro__)"
   ]
  },
  {
   "cell_type": "code",
   "execution_count": 16,
   "id": "95d825f3",
   "metadata": {},
   "outputs": [
    {
     "name": "stdout",
     "output_type": "stream",
     "text": [
      "[<class '__main__.C'>, <class '__main__.B'>, <class '__main__.A'>, <class 'object'>]\n"
     ]
    }
   ],
   "source": [
    "print(C.mro())"
   ]
  },
  {
   "cell_type": "markdown",
   "id": "a7c453c6",
   "metadata": {},
   "source": [
    "# Hybrid Interitance"
   ]
  },
  {
   "cell_type": "code",
   "execution_count": null,
   "id": "a743e5b4",
   "metadata": {},
   "outputs": [],
   "source": [
    "    A\n",
    "B       C\n",
    "    D"
   ]
  },
  {
   "cell_type": "code",
   "execution_count": null,
   "id": "c1c6ff12",
   "metadata": {},
   "outputs": [],
   "source": [
    "class A:\n",
    "    def add(self):\n",
    "        print(\"Add A\")\n",
    "class B(A):\n",
    "    def add(self):\n",
    "        print(\"Add B\")\n",
    "class C(A):\n",
    "    def add(self):\n",
    "        print(\"Add C\")\n",
    "class D(B,C):\n",
    "    def add(self):\n",
    "        print(\"Add D\")\n"
   ]
  },
  {
   "cell_type": "markdown",
   "id": "bd16ecd3",
   "metadata": {},
   "source": [
    "# Method Overloading"
   ]
  },
  {
   "cell_type": "code",
   "execution_count": 17,
   "id": "3d15c2d2",
   "metadata": {},
   "outputs": [
    {
     "name": "stdout",
     "output_type": "stream",
     "text": [
      "20\n"
     ]
    }
   ],
   "source": [
    "a = 10\n",
    "a = 20\n",
    "\n",
    "print(a)"
   ]
  },
  {
   "cell_type": "code",
   "execution_count": 19,
   "id": "e58e374a",
   "metadata": {},
   "outputs": [],
   "source": [
    "def play(a,b):\n",
    "    print(a)\n",
    "    print(b)\n",
    "\n",
    "def play(x,y,z):\n",
    "    print(x)\n",
    "    print(y)\n",
    "    print(z)"
   ]
  },
  {
   "cell_type": "code",
   "execution_count": 20,
   "id": "54c31161",
   "metadata": {},
   "outputs": [
    {
     "ename": "TypeError",
     "evalue": "play() missing 3 required positional arguments: 'x', 'y', and 'z'",
     "output_type": "error",
     "traceback": [
      "\u001b[1;31m---------------------------------------------------------------------------\u001b[0m",
      "\u001b[1;31mTypeError\u001b[0m                                 Traceback (most recent call last)",
      "Input \u001b[1;32mIn [20]\u001b[0m, in \u001b[0;36m<cell line: 1>\u001b[1;34m()\u001b[0m\n\u001b[1;32m----> 1\u001b[0m \u001b[43mplay\u001b[49m\u001b[43m(\u001b[49m\u001b[43m)\u001b[49m\n",
      "\u001b[1;31mTypeError\u001b[0m: play() missing 3 required positional arguments: 'x', 'y', and 'z'"
     ]
    }
   ],
   "source": [
    "play()"
   ]
  },
  {
   "cell_type": "code",
   "execution_count": 21,
   "id": "6fb56f6f",
   "metadata": {},
   "outputs": [
    {
     "ename": "TypeError",
     "evalue": "play() missing 1 required positional argument: 'z'",
     "output_type": "error",
     "traceback": [
      "\u001b[1;31m---------------------------------------------------------------------------\u001b[0m",
      "\u001b[1;31mTypeError\u001b[0m                                 Traceback (most recent call last)",
      "Input \u001b[1;32mIn [21]\u001b[0m, in \u001b[0;36m<cell line: 1>\u001b[1;34m()\u001b[0m\n\u001b[1;32m----> 1\u001b[0m \u001b[43mplay\u001b[49m\u001b[43m(\u001b[49m\u001b[38;5;241;43m10\u001b[39;49m\u001b[43m,\u001b[49m\u001b[38;5;241;43m20\u001b[39;49m\u001b[43m)\u001b[49m\n",
      "\u001b[1;31mTypeError\u001b[0m: play() missing 1 required positional argument: 'z'"
     ]
    }
   ],
   "source": [
    "play(10,20)"
   ]
  },
  {
   "cell_type": "code",
   "execution_count": 22,
   "id": "80aa863e",
   "metadata": {},
   "outputs": [
    {
     "name": "stdout",
     "output_type": "stream",
     "text": [
      "1\n",
      "2\n",
      "3\n"
     ]
    }
   ],
   "source": [
    "play(1,2,3)"
   ]
  },
  {
   "cell_type": "markdown",
   "id": "3f86bc48",
   "metadata": {},
   "source": [
    "# Method Overriding"
   ]
  },
  {
   "cell_type": "code",
   "execution_count": 23,
   "id": "2621b65d",
   "metadata": {},
   "outputs": [
    {
     "name": "stdout",
     "output_type": "stream",
     "text": [
      "Constructor A\n",
      "Constructor B\n"
     ]
    }
   ],
   "source": [
    "class A:\n",
    "    def __init__(self):\n",
    "        self.x = \"Constructor A\"\n",
    "    \n",
    "    def start(self):\n",
    "        print(self.x)\n",
    "    \n",
    "class B(A):\n",
    "    def __init__(self):\n",
    "        self.x = \"Constructor B\"\n",
    "    \n",
    "    def start(self):\n",
    "        print(self.x)\n",
    "    \n",
    "z1 = A()\n",
    "z2 = B()\n",
    "\n",
    "z1.start()\n",
    "z2.start()"
   ]
  },
  {
   "cell_type": "code",
   "execution_count": 24,
   "id": "ba031082",
   "metadata": {},
   "outputs": [
    {
     "name": "stdout",
     "output_type": "stream",
     "text": [
      "Class C\n"
     ]
    }
   ],
   "source": [
    "class A:\n",
    "    def start(self):\n",
    "        print(\"Class A\")\n",
    "    \n",
    "class B:\n",
    "    def start(self):\n",
    "        print(\"Class B\")\n",
    "    \n",
    "class C(A, B):\n",
    "    def start(self):\n",
    "        print(\"Class C\")\n",
    "    \n",
    "\n",
    "z = C()\n",
    "\n",
    "z.start()"
   ]
  },
  {
   "cell_type": "code",
   "execution_count": 25,
   "id": "e9c5ad2d",
   "metadata": {},
   "outputs": [
    {
     "name": "stdout",
     "output_type": "stream",
     "text": [
      "Class A\n"
     ]
    }
   ],
   "source": [
    "class A:\n",
    "    def start(self):\n",
    "        print(\"Class A\")\n",
    "    \n",
    "class B:\n",
    "    def start(self):\n",
    "        print(\"Class B\")\n",
    "    \n",
    "class C(A, B):\n",
    "    def show(self):\n",
    "        print(\"Class C\")\n",
    "    \n",
    "\n",
    "z = C()\n",
    "\n",
    "z.start()"
   ]
  },
  {
   "cell_type": "markdown",
   "id": "eadfd3f8",
   "metadata": {},
   "source": [
    "# Operator Overloading"
   ]
  },
  {
   "cell_type": "code",
   "execution_count": 26,
   "id": "d4c3a7f4",
   "metadata": {},
   "outputs": [
    {
     "name": "stdout",
     "output_type": "stream",
     "text": [
      "16\n"
     ]
    }
   ],
   "source": [
    "print(1 + 15)"
   ]
  },
  {
   "cell_type": "code",
   "execution_count": 28,
   "id": "866ece4d",
   "metadata": {},
   "outputs": [
    {
     "name": "stdout",
     "output_type": "stream",
     "text": [
      "Hello India\n"
     ]
    }
   ],
   "source": [
    "print(\"Hello\" + \" India\")"
   ]
  },
  {
   "cell_type": "code",
   "execution_count": 29,
   "id": "f9ce674d",
   "metadata": {},
   "outputs": [
    {
     "ename": "TypeError",
     "evalue": "unsupported operand type(s) for +: 'int' and 'str'",
     "output_type": "error",
     "traceback": [
      "\u001b[1;31m---------------------------------------------------------------------------\u001b[0m",
      "\u001b[1;31mTypeError\u001b[0m                                 Traceback (most recent call last)",
      "Input \u001b[1;32mIn [29]\u001b[0m, in \u001b[0;36m<cell line: 1>\u001b[1;34m()\u001b[0m\n\u001b[1;32m----> 1\u001b[0m \u001b[38;5;28mprint\u001b[39m(\u001b[38;5;241;43m6\u001b[39;49m\u001b[43m \u001b[49m\u001b[38;5;241;43m+\u001b[39;49m\u001b[43m \u001b[49m\u001b[38;5;124;43m\"\u001b[39;49m\u001b[38;5;124;43mHi\u001b[39;49m\u001b[38;5;124;43m\"\u001b[39;49m)\n",
      "\u001b[1;31mTypeError\u001b[0m: unsupported operand type(s) for +: 'int' and 'str'"
     ]
    }
   ],
   "source": [
    "print(6 + \"Hi\")"
   ]
  },
  {
   "cell_type": "code",
   "execution_count": 30,
   "id": "404246e5",
   "metadata": {},
   "outputs": [
    {
     "name": "stdout",
     "output_type": "stream",
     "text": [
      "8\n",
      "16\n"
     ]
    }
   ],
   "source": [
    "class A:\n",
    "    def __init__(self, x, y):\n",
    "        self.x = x\n",
    "        self.y = y\n",
    "    \n",
    "    #             f     s\n",
    "    def __add__(self, other):\n",
    "        return A(self.x + other.x, self.y + other.y)\n",
    "    #          A(   5   +    3   ,    7   +    9)\n",
    "    #          A(8, 16)\n",
    "    \n",
    "\n",
    "f = A(5,7)\n",
    "s = A(3,9)\n",
    "\n",
    "r = f + s   # f.__add__(s) \n",
    "\n",
    "print(r.x)\n",
    "print(r.y)"
   ]
  },
  {
   "cell_type": "code",
   "execution_count": null,
   "id": "9d293b0f",
   "metadata": {},
   "outputs": [],
   "source": [
    "object.__add__(self, other)\n",
    "object.__sub__(self, other)\n",
    "object.__mul__(self, other)\n",
    "object.__floordiv__(self, other)\n",
    "object.__truediv__(self, other)\n",
    "object.__mod__(self, other)\n",
    "object.__pow__(self, other)\n",
    "object.__lshift__(self, other)\n",
    "object.__rshift__(self, other)\n",
    "object.__and__(self, other)\n",
    "object.__or__(self, other)\n",
    "object.__xor__(self, other)\n"
   ]
  }
 ],
 "metadata": {
  "kernelspec": {
   "display_name": "Python 3 (ipykernel)",
   "language": "python",
   "name": "python3"
  },
  "language_info": {
   "codemirror_mode": {
    "name": "ipython",
    "version": 3
   },
   "file_extension": ".py",
   "mimetype": "text/x-python",
   "name": "python",
   "nbconvert_exporter": "python",
   "pygments_lexer": "ipython3",
   "version": "3.9.12"
  }
 },
 "nbformat": 4,
 "nbformat_minor": 5
}
