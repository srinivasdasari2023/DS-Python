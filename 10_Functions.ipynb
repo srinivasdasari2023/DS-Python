{
 "cells": [
  {
   "cell_type": "markdown",
   "id": "e04ba1dc",
   "metadata": {},
   "source": [
    "# Functions"
   ]
  },
  {
   "cell_type": "code",
   "execution_count": 1,
   "id": "2a234412",
   "metadata": {},
   "outputs": [],
   "source": [
    "def myfunction():            # definition of function\n",
    "    print(\"Hey!\")"
   ]
  },
  {
   "cell_type": "code",
   "execution_count": 2,
   "id": "57a8e446",
   "metadata": {},
   "outputs": [
    {
     "name": "stdout",
     "output_type": "stream",
     "text": [
      "Hey!\n"
     ]
    }
   ],
   "source": [
    "myfunction()                 # calling of function"
   ]
  },
  {
   "cell_type": "code",
   "execution_count": 3,
   "id": "db52b86c",
   "metadata": {},
   "outputs": [
    {
     "name": "stdout",
     "output_type": "stream",
     "text": [
      "1\n",
      "2\n",
      "3\n"
     ]
    }
   ],
   "source": [
    "def paint():\n",
    "    print(1)\n",
    "    print(2)\n",
    "    print(3)\n",
    "\n",
    "paint()"
   ]
  },
  {
   "cell_type": "code",
   "execution_count": 4,
   "id": "57d6166e",
   "metadata": {},
   "outputs": [
    {
     "ename": "NameError",
     "evalue": "name 'hello' is not defined",
     "output_type": "error",
     "traceback": [
      "\u001b[1;31m---------------------------------------------------------------------------\u001b[0m",
      "\u001b[1;31mNameError\u001b[0m                                 Traceback (most recent call last)",
      "Input \u001b[1;32mIn [4]\u001b[0m, in \u001b[0;36m<cell line: 1>\u001b[1;34m()\u001b[0m\n\u001b[1;32m----> 1\u001b[0m \u001b[43mhello\u001b[49m()\n\u001b[0;32m      3\u001b[0m \u001b[38;5;28;01mdef\u001b[39;00m \u001b[38;5;21mhello\u001b[39m():\n\u001b[0;32m      4\u001b[0m     \u001b[38;5;28mprint\u001b[39m(\u001b[38;5;124m\"\u001b[39m\u001b[38;5;124mHello\u001b[39m\u001b[38;5;124m\"\u001b[39m)\n",
      "\u001b[1;31mNameError\u001b[0m: name 'hello' is not defined"
     ]
    }
   ],
   "source": [
    "hello()\n",
    "\n",
    "def hello():\n",
    "    print(\"Hello\")"
   ]
  },
  {
   "cell_type": "code",
   "execution_count": null,
   "id": "e08071a5",
   "metadata": {},
   "outputs": [],
   "source": [
    "Source   ------------>  Byte    ----------->  Output\n",
    "Code       compile      code        run        .exe\n",
    ".c                      .bak\n",
    ".cpp                    .obj\n",
    ".java                   .javac\n",
    ".py                     .pyc"
   ]
  },
  {
   "cell_type": "markdown",
   "id": "63227282",
   "metadata": {},
   "source": [
    "# Function arguments"
   ]
  },
  {
   "cell_type": "code",
   "execution_count": 5,
   "id": "9aed1e51",
   "metadata": {},
   "outputs": [
    {
     "ename": "TypeError",
     "evalue": "indore() missing 1 required positional argument: 'a'",
     "output_type": "error",
     "traceback": [
      "\u001b[1;31m---------------------------------------------------------------------------\u001b[0m",
      "\u001b[1;31mTypeError\u001b[0m                                 Traceback (most recent call last)",
      "Input \u001b[1;32mIn [5]\u001b[0m, in \u001b[0;36m<cell line: 4>\u001b[1;34m()\u001b[0m\n\u001b[0;32m      1\u001b[0m \u001b[38;5;28;01mdef\u001b[39;00m \u001b[38;5;21mindore\u001b[39m(a):\n\u001b[0;32m      2\u001b[0m     \u001b[38;5;28mprint\u001b[39m(a)\n\u001b[1;32m----> 4\u001b[0m \u001b[43mindore\u001b[49m\u001b[43m(\u001b[49m\u001b[43m)\u001b[49m\n",
      "\u001b[1;31mTypeError\u001b[0m: indore() missing 1 required positional argument: 'a'"
     ]
    }
   ],
   "source": [
    "def indore(a):\n",
    "    print(a)\n",
    "\n",
    "indore()"
   ]
  },
  {
   "cell_type": "code",
   "execution_count": 6,
   "id": "b3c8a2bb",
   "metadata": {},
   "outputs": [
    {
     "name": "stdout",
     "output_type": "stream",
     "text": [
      "10\n"
     ]
    }
   ],
   "source": [
    "def indore(a):    # a = 10, a = \"right\", a = \"A\"\n",
    "    print(a)\n",
    "\n",
    "indore(10)"
   ]
  },
  {
   "cell_type": "code",
   "execution_count": 7,
   "id": "69edf274",
   "metadata": {},
   "outputs": [
    {
     "name": "stdout",
     "output_type": "stream",
     "text": [
      "right\n"
     ]
    }
   ],
   "source": [
    "indore(\"right\")"
   ]
  },
  {
   "cell_type": "code",
   "execution_count": 8,
   "id": "33febf4d",
   "metadata": {},
   "outputs": [
    {
     "name": "stdout",
     "output_type": "stream",
     "text": [
      "A\n"
     ]
    }
   ],
   "source": [
    "indore(\"A\")"
   ]
  },
  {
   "cell_type": "code",
   "execution_count": 9,
   "id": "02e79502",
   "metadata": {},
   "outputs": [
    {
     "name": "stdout",
     "output_type": "stream",
     "text": [
      "1\n",
      "One\n",
      "A\n",
      "Two\n",
      "right\n",
      "Three\n"
     ]
    }
   ],
   "source": [
    "indore(1)\n",
    "print(\"One\")\n",
    "indore(\"A\")\n",
    "print(\"Two\")\n",
    "indore(\"right\")\n",
    "print(\"Three\")"
   ]
  },
  {
   "cell_type": "code",
   "execution_count": 10,
   "id": "f05317f3",
   "metadata": {},
   "outputs": [
    {
     "name": "stdout",
     "output_type": "stream",
     "text": [
      "9\n"
     ]
    }
   ],
   "source": [
    "def add(x, y):\n",
    "    print(x + y)\n",
    "    \n",
    "add(5,4)"
   ]
  },
  {
   "cell_type": "markdown",
   "id": "ab74e26d",
   "metadata": {},
   "source": [
    "## Local Variable"
   ]
  },
  {
   "cell_type": "code",
   "execution_count": 11,
   "id": "fb0e92d4",
   "metadata": {},
   "outputs": [
    {
     "name": "stdout",
     "output_type": "stream",
     "text": [
      "8\n"
     ]
    },
    {
     "ename": "NameError",
     "evalue": "name 'v' is not defined",
     "output_type": "error",
     "traceback": [
      "\u001b[1;31m---------------------------------------------------------------------------\u001b[0m",
      "\u001b[1;31mNameError\u001b[0m                                 Traceback (most recent call last)",
      "Input \u001b[1;32mIn [11]\u001b[0m, in \u001b[0;36m<cell line: 6>\u001b[1;34m()\u001b[0m\n\u001b[0;32m      3\u001b[0m     \u001b[38;5;28mprint\u001b[39m(v)\n\u001b[0;32m      5\u001b[0m add(\u001b[38;5;241m7\u001b[39m)\n\u001b[1;32m----> 6\u001b[0m \u001b[38;5;28mprint\u001b[39m(\u001b[43mv\u001b[49m)\n",
      "\u001b[1;31mNameError\u001b[0m: name 'v' is not defined"
     ]
    }
   ],
   "source": [
    "def add(v):           # v is a local variable\n",
    "    v += 1\n",
    "    print(v)\n",
    "\n",
    "add(7)\n",
    "print(v)"
   ]
  },
  {
   "cell_type": "code",
   "execution_count": 12,
   "id": "0771d248",
   "metadata": {},
   "outputs": [
    {
     "name": "stdout",
     "output_type": "stream",
     "text": [
      "8\n",
      "3\n"
     ]
    }
   ],
   "source": [
    "x = 3             # x is a global variable\n",
    "def add(x):       # x is a local  variable\n",
    "    x += 1\n",
    "    print(x)\n",
    "\n",
    "add(7)\n",
    "print(x)"
   ]
  },
  {
   "cell_type": "markdown",
   "id": "b47c0ac8",
   "metadata": {},
   "source": [
    "# Return Statement"
   ]
  },
  {
   "cell_type": "code",
   "execution_count": 13,
   "id": "c6b906b3",
   "metadata": {},
   "outputs": [],
   "source": [
    "def play(x, y):\n",
    "    if x >= y:\n",
    "        return x\n",
    "    else:\n",
    "        return y"
   ]
  },
  {
   "cell_type": "code",
   "execution_count": 14,
   "id": "9c07850b",
   "metadata": {},
   "outputs": [
    {
     "name": "stdout",
     "output_type": "stream",
     "text": [
      "7\n"
     ]
    }
   ],
   "source": [
    "print(play(4,7))\n",
    "#        7"
   ]
  },
  {
   "cell_type": "code",
   "execution_count": 15,
   "id": "80965ed7",
   "metadata": {},
   "outputs": [
    {
     "name": "stdout",
     "output_type": "stream",
     "text": [
      "8\n"
     ]
    }
   ],
   "source": [
    "z = play(8,5)\n",
    "#      8\n",
    "\n",
    "print(z)"
   ]
  },
  {
   "cell_type": "code",
   "execution_count": 16,
   "id": "ec7cd4c4",
   "metadata": {},
   "outputs": [
    {
     "name": "stdout",
     "output_type": "stream",
     "text": [
      "9\n"
     ]
    }
   ],
   "source": [
    "def sub(x, y):\n",
    "    t = x + y\n",
    "    return t\n",
    "    print(\"Hi\")\n",
    "\n",
    "print(sub(4,5))"
   ]
  },
  {
   "cell_type": "code",
   "execution_count": 17,
   "id": "66f1fa24",
   "metadata": {},
   "outputs": [
    {
     "name": "stdout",
     "output_type": "stream",
     "text": [
      "1\n",
      "2\n"
     ]
    }
   ],
   "source": [
    "def pre():\n",
    "    print(1)\n",
    "    print(2)\n",
    "    return\n",
    "    print(3)\n",
    "    print(4)\n",
    "\n",
    "pre()"
   ]
  },
  {
   "cell_type": "code",
   "execution_count": null,
   "id": "400e8bed",
   "metadata": {},
   "outputs": [],
   "source": [
    "None => NULL"
   ]
  },
  {
   "cell_type": "code",
   "execution_count": 18,
   "id": "ecbc4e3f",
   "metadata": {},
   "outputs": [
    {
     "name": "stdout",
     "output_type": "stream",
     "text": [
      "1\n",
      "2\n",
      "None\n"
     ]
    }
   ],
   "source": [
    "print(pre())"
   ]
  },
  {
   "cell_type": "code",
   "execution_count": 19,
   "id": "6e4af0ed",
   "metadata": {},
   "outputs": [
    {
     "name": "stdout",
     "output_type": "stream",
     "text": [
      "1\n",
      "2\n",
      "None\n"
     ]
    }
   ],
   "source": [
    "x = pre()\n",
    "\n",
    "print(x)"
   ]
  },
  {
   "cell_type": "code",
   "execution_count": 20,
   "id": "4b0b9759",
   "metadata": {},
   "outputs": [
    {
     "name": "stdout",
     "output_type": "stream",
     "text": [
      "\n",
      "None\n"
     ]
    }
   ],
   "source": [
    "print(print())"
   ]
  },
  {
   "cell_type": "markdown",
   "id": "cb0caaee",
   "metadata": {},
   "source": [
    "# Default Arguments"
   ]
  },
  {
   "cell_type": "code",
   "execution_count": 21,
   "id": "e6b67594",
   "metadata": {},
   "outputs": [
    {
     "name": "stdout",
     "output_type": "stream",
     "text": [
      "Hello\n"
     ]
    }
   ],
   "source": [
    "def say(msg, time = 1):\n",
    "    print(msg * time)\n",
    "\n",
    "say(\"Hello\")"
   ]
  },
  {
   "cell_type": "code",
   "execution_count": 22,
   "id": "3abbec25",
   "metadata": {},
   "outputs": [
    {
     "data": {
      "text/plain": [
       "'HiHiHi'"
      ]
     },
     "execution_count": 22,
     "metadata": {},
     "output_type": "execute_result"
    }
   ],
   "source": [
    "\"Hi\" * 3"
   ]
  },
  {
   "cell_type": "code",
   "execution_count": 23,
   "id": "bc439339",
   "metadata": {},
   "outputs": [
    {
     "name": "stdout",
     "output_type": "stream",
     "text": [
      "ByeByeByeByeBye\n"
     ]
    }
   ],
   "source": [
    "say(\"Bye\", 5)"
   ]
  },
  {
   "cell_type": "code",
   "execution_count": 24,
   "id": "e1a3addf",
   "metadata": {},
   "outputs": [],
   "source": [
    "def said(a, b = 5, c = 10):\n",
    "    print(a)\n",
    "    print(b)\n",
    "    print(c)"
   ]
  },
  {
   "cell_type": "code",
   "execution_count": 25,
   "id": "9ec10193",
   "metadata": {},
   "outputs": [
    {
     "name": "stdout",
     "output_type": "stream",
     "text": [
      "3\n",
      "7\n",
      "10\n"
     ]
    }
   ],
   "source": [
    "said(3,7)"
   ]
  },
  {
   "cell_type": "code",
   "execution_count": 26,
   "id": "89612937",
   "metadata": {},
   "outputs": [
    {
     "name": "stdout",
     "output_type": "stream",
     "text": [
      "25\n",
      "5\n",
      "24\n"
     ]
    }
   ],
   "source": [
    "said(25, c = 24)"
   ]
  },
  {
   "cell_type": "code",
   "execution_count": 27,
   "id": "1141c49f",
   "metadata": {},
   "outputs": [
    {
     "name": "stdout",
     "output_type": "stream",
     "text": [
      "100\n",
      "5\n",
      "50\n"
     ]
    }
   ],
   "source": [
    "said(c = 50, a = 100)"
   ]
  },
  {
   "cell_type": "code",
   "execution_count": 28,
   "id": "aa627ece",
   "metadata": {},
   "outputs": [
    {
     "ename": "SyntaxError",
     "evalue": "positional argument follows keyword argument (2512390804.py, line 1)",
     "output_type": "error",
     "traceback": [
      "\u001b[1;36m  Input \u001b[1;32mIn [28]\u001b[1;36m\u001b[0m\n\u001b[1;33m    said(c = 15, 20)\u001b[0m\n\u001b[1;37m                   ^\u001b[0m\n\u001b[1;31mSyntaxError\u001b[0m\u001b[1;31m:\u001b[0m positional argument follows keyword argument\n"
     ]
    }
   ],
   "source": [
    "said(c = 15, 20)"
   ]
  },
  {
   "cell_type": "code",
   "execution_count": 2,
   "id": "32e4d6f3",
   "metadata": {},
   "outputs": [
    {
     "name": "stdout",
     "output_type": "stream",
     "text": [
      "Hello  "
     ]
    }
   ],
   "source": [
    "print(\"Hello\", end='  ')"
   ]
  },
  {
   "cell_type": "code",
   "execution_count": 29,
   "id": "8151c65d",
   "metadata": {},
   "outputs": [],
   "source": [
    "# def print(x, end='\\n'):\n",
    "#     print(x + end)"
   ]
  },
  {
   "cell_type": "code",
   "execution_count": 1,
   "id": "a3370d8b",
   "metadata": {},
   "outputs": [],
   "source": [
    "# print(\"hello\")"
   ]
  },
  {
   "cell_type": "code",
   "execution_count": 3,
   "id": "c1357d66",
   "metadata": {},
   "outputs": [
    {
     "name": "stdout",
     "output_type": "stream",
     "text": [
      "0\n"
     ]
    }
   ],
   "source": [
    "i = 0\n",
    "def change(i):\n",
    "    i += 1\n",
    "    return 1\n",
    "\n",
    "change(1)\n",
    "print(i)"
   ]
  },
  {
   "cell_type": "markdown",
   "id": "c590cefe",
   "metadata": {},
   "source": [
    "# Reference Function"
   ]
  },
  {
   "cell_type": "code",
   "execution_count": 4,
   "id": "5756bbe1",
   "metadata": {},
   "outputs": [
    {
     "name": "stdout",
     "output_type": "stream",
     "text": [
      "200\n"
     ]
    }
   ],
   "source": [
    "def multiply(x, y):\n",
    "    return x * y\n",
    "\n",
    "operation = multiply\n",
    "\n",
    "print(operation(10,20))\n",
    "#      multiply(10,20)"
   ]
  },
  {
   "cell_type": "code",
   "execution_count": 5,
   "id": "4223815b",
   "metadata": {},
   "outputs": [
    {
     "name": "stdout",
     "output_type": "stream",
     "text": [
      "10\n"
     ]
    }
   ],
   "source": [
    "print(multiply(2,5))"
   ]
  },
  {
   "cell_type": "code",
   "execution_count": 6,
   "id": "a4c5674a",
   "metadata": {},
   "outputs": [
    {
     "name": "stdout",
     "output_type": "stream",
     "text": [
      "10\n",
      "10\n"
     ]
    }
   ],
   "source": [
    "a = 10\n",
    "\n",
    "b = a\n",
    "\n",
    "print(a)\n",
    "print(b)"
   ]
  },
  {
   "cell_type": "code",
   "execution_count": 7,
   "id": "2f0689a5",
   "metadata": {},
   "outputs": [
    {
     "name": "stdout",
     "output_type": "stream",
     "text": [
      "<class 'function'>\n"
     ]
    }
   ],
   "source": [
    "print(type(multiply))"
   ]
  },
  {
   "cell_type": "markdown",
   "id": "59a6dd2e",
   "metadata": {},
   "source": [
    "# Function as an Argument"
   ]
  },
  {
   "cell_type": "code",
   "execution_count": 8,
   "id": "47489fde",
   "metadata": {},
   "outputs": [
    {
     "name": "stdout",
     "output_type": "stream",
     "text": [
      "30\n"
     ]
    }
   ],
   "source": [
    "def sub(x, y):\n",
    "    return x + y\n",
    "\n",
    "def do(red, x, y):   # red = sub\n",
    "    return red(red(x, y), red(x, y))\n",
    "#          sub(sub(5,10), sub(5, 10))\n",
    "#          sub(   15    ,     15    )\n",
    "#                      30\n",
    "\n",
    "a = 5\n",
    "b = 10\n",
    "\n",
    "print(do(sub, a, b))\n",
    "#     do(sub, 5, 10)\n",
    "#          30"
   ]
  },
  {
   "cell_type": "code",
   "execution_count": 9,
   "id": "5b02a1a3",
   "metadata": {},
   "outputs": [
    {
     "name": "stdout",
     "output_type": "stream",
     "text": [
      "81\n"
     ]
    }
   ],
   "source": [
    "def square(x):\n",
    "    return x * x\n",
    "\n",
    "def test(blue, x):\n",
    "    print(blue(x))\n",
    "\n",
    "test(square, 9)"
   ]
  },
  {
   "cell_type": "code",
   "execution_count": 10,
   "id": "673547d2",
   "metadata": {},
   "outputs": [
    {
     "name": "stdout",
     "output_type": "stream",
     "text": [
      "3\n",
      "1\n"
     ]
    }
   ],
   "source": [
    "def green(red, a): # red = max\n",
    "    print(red(a))  # max([1,2,3])\n",
    "    \n",
    "green(max, [1,2,3])\n",
    "green(min, [1,2,3])"
   ]
  },
  {
   "cell_type": "code",
   "execution_count": 11,
   "id": "44d0537c",
   "metadata": {},
   "outputs": [
    {
     "name": "stdout",
     "output_type": "stream",
     "text": [
      "0\n"
     ]
    }
   ],
   "source": [
    "def printn(x):\n",
    "    for i in range(x):\n",
    "        print(i)\n",
    "        return\n",
    "\n",
    "printn(10)"
   ]
  },
  {
   "cell_type": "code",
   "execution_count": 12,
   "id": "56877135",
   "metadata": {},
   "outputs": [
    {
     "name": "stdout",
     "output_type": "stream",
     "text": [
      "0\n",
      "1\n",
      "2\n",
      "3\n",
      "4\n",
      "5\n",
      "6\n",
      "7\n",
      "8\n",
      "9\n"
     ]
    }
   ],
   "source": [
    "def printn(x):\n",
    "    for i in range(x):\n",
    "        print(i)\n",
    "    return\n",
    "\n",
    "printn(10)"
   ]
  },
  {
   "cell_type": "markdown",
   "id": "d30dc06f",
   "metadata": {},
   "source": [
    "# Doc String\n",
    "\n",
    "Documentation"
   ]
  },
  {
   "cell_type": "code",
   "execution_count": 13,
   "id": "d22e2912",
   "metadata": {},
   "outputs": [
    {
     "name": "stdout",
     "output_type": "stream",
     "text": [
      "Help on built-in function max in module builtins:\n",
      "\n",
      "max(...)\n",
      "    max(iterable, *[, default=obj, key=func]) -> value\n",
      "    max(arg1, arg2, *args, *[, key=func]) -> value\n",
      "    \n",
      "    With a single iterable argument, return its biggest item. The\n",
      "    default keyword-only argument specifies an object to return if\n",
      "    the provided iterable is empty.\n",
      "    With two or more arguments, return the largest argument.\n",
      "\n"
     ]
    }
   ],
   "source": [
    "help(max)"
   ]
  },
  {
   "cell_type": "code",
   "execution_count": null,
   "id": "a82a3380",
   "metadata": {},
   "outputs": [],
   "source": [
    "\"\"\"thi sis something\n",
    "kjhkfjds\n",
    "ikhkgjfg\n",
    "\"\"\""
   ]
  },
  {
   "cell_type": "code",
   "execution_count": 14,
   "id": "dae94265",
   "metadata": {},
   "outputs": [],
   "source": [
    "def function_one():\n",
    "    \"\"\"This is a function that prints 10\n",
    "    Also this function will print 5\n",
    "    \"\"\"\n",
    "    print(10)\n",
    "    print(5)"
   ]
  },
  {
   "cell_type": "code",
   "execution_count": 15,
   "id": "7df581da",
   "metadata": {},
   "outputs": [
    {
     "name": "stdout",
     "output_type": "stream",
     "text": [
      "Help on function function_one in module __main__:\n",
      "\n",
      "function_one()\n",
      "    This is a function that prints 10\n",
      "    Also this function will print 5\n",
      "\n"
     ]
    }
   ],
   "source": [
    "help(function_one)"
   ]
  },
  {
   "cell_type": "code",
   "execution_count": 16,
   "id": "625d82b4",
   "metadata": {},
   "outputs": [
    {
     "name": "stdout",
     "output_type": "stream",
     "text": [
      "This is a function that prints 10\n",
      "    Also this function will print 5\n",
      "    \n"
     ]
    }
   ],
   "source": [
    "print(function_one.__doc__)   # dunders"
   ]
  },
  {
   "cell_type": "code",
   "execution_count": 17,
   "id": "8ddda92d",
   "metadata": {},
   "outputs": [
    {
     "name": "stdout",
     "output_type": "stream",
     "text": [
      "10\n",
      "5\n"
     ]
    }
   ],
   "source": [
    "function_one()"
   ]
  },
  {
   "cell_type": "markdown",
   "id": "fa06cfef",
   "metadata": {},
   "source": [
    "# Lambda Function\n",
    "\n",
    "anonymous function\n",
    "\n",
    "lambda arguments: expression"
   ]
  },
  {
   "cell_type": "code",
   "execution_count": 1,
   "id": "e5da82a1",
   "metadata": {},
   "outputs": [
    {
     "name": "stdout",
     "output_type": "stream",
     "text": [
      "343\n"
     ]
    }
   ],
   "source": [
    "def cube(y):\n",
    "    return y * y * y\n",
    "\n",
    "g = lambda x: x * x * x\n",
    "\n",
    "print(g(7))"
   ]
  },
  {
   "cell_type": "code",
   "execution_count": 2,
   "id": "d826bcf2",
   "metadata": {},
   "outputs": [
    {
     "name": "stdout",
     "output_type": "stream",
     "text": [
      "27\n"
     ]
    }
   ],
   "source": [
    "print(cube(3))"
   ]
  },
  {
   "cell_type": "markdown",
   "id": "d3f5d260",
   "metadata": {},
   "source": [
    "# Map  function\n"
   ]
  },
  {
   "cell_type": "code",
   "execution_count": 3,
   "id": "e9ee52b5",
   "metadata": {},
   "outputs": [
    {
     "name": "stdout",
     "output_type": "stream",
     "text": [
      "[6, 7, 8, 9, 10]\n"
     ]
    }
   ],
   "source": [
    "def add(x):\n",
    "    return x + 5\n",
    "\n",
    "\n",
    "n = [1,2,3,4,5]\n",
    "\n",
    "r = list(map(add, n))\n",
    "\n",
    "print(r)"
   ]
  },
  {
   "cell_type": "code",
   "execution_count": 4,
   "id": "94819e9e",
   "metadata": {},
   "outputs": [
    {
     "name": "stdout",
     "output_type": "stream",
     "text": [
      "[6, 7, 8, 9, 10]\n"
     ]
    }
   ],
   "source": [
    "n = [1,2,3,4,5]\n",
    "\n",
    "r = list(map(lambda x: x + 5 , n))\n",
    "\n",
    "print(r)"
   ]
  },
  {
   "cell_type": "code",
   "execution_count": 5,
   "id": "dc0cb893",
   "metadata": {},
   "outputs": [
    {
     "name": "stdout",
     "output_type": "stream",
     "text": [
      "[2, 4, 6, 8, 10]\n"
     ]
    }
   ],
   "source": [
    "n = [1,2,3,4,5]\n",
    "\n",
    "r = list(map(lambda x: x * 2 , n))\n",
    "\n",
    "print(r)"
   ]
  },
  {
   "cell_type": "markdown",
   "id": "fc41c5f4",
   "metadata": {},
   "source": [
    "# Filter Function"
   ]
  },
  {
   "cell_type": "code",
   "execution_count": 6,
   "id": "ded953fb",
   "metadata": {},
   "outputs": [
    {
     "name": "stdout",
     "output_type": "stream",
     "text": [
      "[22, 44]\n"
     ]
    }
   ],
   "source": [
    "n = [11,22,33,44,55]\n",
    "\n",
    "r = list(filter(lambda x: x%2 == 0 , n))\n",
    "\n",
    "print(r)"
   ]
  },
  {
   "cell_type": "code",
   "execution_count": 7,
   "id": "e8c6f683",
   "metadata": {},
   "outputs": [
    {
     "name": "stdout",
     "output_type": "stream",
     "text": [
      "Help on class filter in module builtins:\n",
      "\n",
      "class filter(object)\n",
      " |  filter(function or None, iterable) --> filter object\n",
      " |  \n",
      " |  Return an iterator yielding those items of iterable for which function(item)\n",
      " |  is true. If function is None, return the items that are true.\n",
      " |  \n",
      " |  Methods defined here:\n",
      " |  \n",
      " |  __getattribute__(self, name, /)\n",
      " |      Return getattr(self, name).\n",
      " |  \n",
      " |  __iter__(self, /)\n",
      " |      Implement iter(self).\n",
      " |  \n",
      " |  __next__(self, /)\n",
      " |      Implement next(self).\n",
      " |  \n",
      " |  __reduce__(...)\n",
      " |      Return state information for pickling.\n",
      " |  \n",
      " |  ----------------------------------------------------------------------\n",
      " |  Static methods defined here:\n",
      " |  \n",
      " |  __new__(*args, **kwargs) from builtins.type\n",
      " |      Create and return a new object.  See help(type) for accurate signature.\n",
      "\n"
     ]
    }
   ],
   "source": [
    "help(filter)"
   ]
  },
  {
   "cell_type": "code",
   "execution_count": null,
   "id": "a3054142",
   "metadata": {},
   "outputs": [],
   "source": []
  }
 ],
 "metadata": {
  "kernelspec": {
   "display_name": "Python 3 (ipykernel)",
   "language": "python",
   "name": "python3"
  },
  "language_info": {
   "codemirror_mode": {
    "name": "ipython",
    "version": 3
   },
   "file_extension": ".py",
   "mimetype": "text/x-python",
   "name": "python",
   "nbconvert_exporter": "python",
   "pygments_lexer": "ipython3",
   "version": "3.9.12"
  }
 },
 "nbformat": 4,
 "nbformat_minor": 5
}
