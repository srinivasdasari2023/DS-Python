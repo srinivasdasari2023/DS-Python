{
 "cells": [
  {
   "cell_type": "markdown",
   "id": "7f188ae9",
   "metadata": {},
   "source": [
    "# File Handling\n",
    "\n",
    "1. Read\n",
    "2. Write\n",
    "3. Append\n",
    "\n",
    "\n",
    "### Read a file"
   ]
  },
  {
   "cell_type": "code",
   "execution_count": 1,
   "id": "cfa03261",
   "metadata": {},
   "outputs": [
    {
     "name": "stdout",
     "output_type": "stream",
     "text": [
      "<_io.TextIOWrapper name='indore.txt' mode='r' encoding='cp1252'>\n"
     ]
    }
   ],
   "source": [
    "f = open('indore.txt')\n",
    "\n",
    "print(f)"
   ]
  },
  {
   "cell_type": "code",
   "execution_count": 2,
   "id": "627f1e01",
   "metadata": {},
   "outputs": [
    {
     "name": "stdout",
     "output_type": "stream",
     "text": [
      "this is a city file.\n",
      "indore is the best city.\n"
     ]
    }
   ],
   "source": [
    "f = open('indore.txt', 'r')\n",
    "\n",
    "print(f.read())"
   ]
  },
  {
   "cell_type": "code",
   "execution_count": 3,
   "id": "1c38531d",
   "metadata": {},
   "outputs": [
    {
     "name": "stdout",
     "output_type": "stream",
     "text": [
      "<class 'str'>\n"
     ]
    }
   ],
   "source": [
    "print(type(f.read()))"
   ]
  },
  {
   "cell_type": "code",
   "execution_count": 4,
   "id": "be1a2b0f",
   "metadata": {},
   "outputs": [],
   "source": [
    "f.close()"
   ]
  },
  {
   "cell_type": "markdown",
   "id": "5e6a6a41",
   "metadata": {},
   "source": [
    "### number of characters"
   ]
  },
  {
   "cell_type": "code",
   "execution_count": 6,
   "id": "d6a03062",
   "metadata": {},
   "outputs": [
    {
     "name": "stdout",
     "output_type": "stream",
     "text": [
      "this is a c\n"
     ]
    }
   ],
   "source": [
    "f = open('indore.txt', 'r')\n",
    "\n",
    "print(f.read(11))"
   ]
  },
  {
   "cell_type": "code",
   "execution_count": 7,
   "id": "d1d0207c",
   "metadata": {},
   "outputs": [
    {
     "name": "stdout",
     "output_type": "stream",
     "text": [
      "this is a city file.\n",
      "\n"
     ]
    }
   ],
   "source": [
    "f = open('indore.txt', 'r')\n",
    "\n",
    "print(f.readline())"
   ]
  },
  {
   "cell_type": "code",
   "execution_count": 9,
   "id": "8da64e33",
   "metadata": {},
   "outputs": [
    {
     "name": "stdout",
     "output_type": "stream",
     "text": [
      "['this is a city file.\\n', 'indore is the best city.\\n']\n"
     ]
    }
   ],
   "source": [
    "f = open('indore.txt', 'r')\n",
    "\n",
    "print(f.readlines())"
   ]
  },
  {
   "cell_type": "code",
   "execution_count": 10,
   "id": "2b7ff6ee",
   "metadata": {},
   "outputs": [
    {
     "name": "stdout",
     "output_type": "stream",
     "text": [
      "indore is the best city.\n",
      "\n"
     ]
    }
   ],
   "source": [
    "f = open('indore.txt', 'r')\n",
    "\n",
    "print(f.readlines()[1])"
   ]
  },
  {
   "cell_type": "markdown",
   "id": "4570c8a9",
   "metadata": {},
   "source": [
    "### using a loop"
   ]
  },
  {
   "cell_type": "code",
   "execution_count": 11,
   "id": "e39c3912",
   "metadata": {},
   "outputs": [
    {
     "name": "stdout",
     "output_type": "stream",
     "text": [
      "this is a city file.\n",
      "\n",
      "indore is the best city.\n",
      "\n",
      "Hello everyone\n"
     ]
    }
   ],
   "source": [
    "f = open('indore.txt', 'r')\n",
    "\n",
    "for i in f:\n",
    "    print(i)\n",
    "\n",
    "f.close()"
   ]
  },
  {
   "cell_type": "code",
   "execution_count": 12,
   "id": "aa8eb7b8",
   "metadata": {},
   "outputs": [
    {
     "name": "stdout",
     "output_type": "stream",
     "text": [
      "3\n"
     ]
    }
   ],
   "source": [
    "print(len(open('indore.txt', 'r').readlines()))"
   ]
  },
  {
   "cell_type": "code",
   "execution_count": 13,
   "id": "2ec41d18",
   "metadata": {},
   "outputs": [
    {
     "ename": "TypeError",
     "evalue": "object of type '_io.TextIOWrapper' has no len()",
     "output_type": "error",
     "traceback": [
      "\u001b[1;31m---------------------------------------------------------------------------\u001b[0m",
      "\u001b[1;31mTypeError\u001b[0m                                 Traceback (most recent call last)",
      "Input \u001b[1;32mIn [13]\u001b[0m, in \u001b[0;36m<cell line: 1>\u001b[1;34m()\u001b[0m\n\u001b[1;32m----> 1\u001b[0m \u001b[38;5;28mprint\u001b[39m(\u001b[38;5;28;43mlen\u001b[39;49m\u001b[43m(\u001b[49m\u001b[38;5;28;43mopen\u001b[39;49m\u001b[43m(\u001b[49m\u001b[38;5;124;43m'\u001b[39;49m\u001b[38;5;124;43mindore.txt\u001b[39;49m\u001b[38;5;124;43m'\u001b[39;49m\u001b[43m,\u001b[49m\u001b[43m \u001b[49m\u001b[38;5;124;43m'\u001b[39;49m\u001b[38;5;124;43mr\u001b[39;49m\u001b[38;5;124;43m'\u001b[39;49m\u001b[43m)\u001b[49m\u001b[43m)\u001b[49m)\n",
      "\u001b[1;31mTypeError\u001b[0m: object of type '_io.TextIOWrapper' has no len()"
     ]
    }
   ],
   "source": [
    "print(len(open('indore.txt', 'r')))"
   ]
  },
  {
   "cell_type": "code",
   "execution_count": 17,
   "id": "627cf697",
   "metadata": {},
   "outputs": [
    {
     "ename": "FileNotFoundError",
     "evalue": "[Errno 2] No such file or directory: 'c:\\\\program\\\\indore.txt'",
     "output_type": "error",
     "traceback": [
      "\u001b[1;31m---------------------------------------------------------------------------\u001b[0m",
      "\u001b[1;31mFileNotFoundError\u001b[0m                         Traceback (most recent call last)",
      "Input \u001b[1;32mIn [17]\u001b[0m, in \u001b[0;36m<cell line: 3>\u001b[1;34m()\u001b[0m\n\u001b[0;32m      1\u001b[0m \u001b[38;5;66;03m# f = open('c:\\\\program\\\\indore.txt', 'r')\u001b[39;00m\n\u001b[0;32m      2\u001b[0m \u001b[38;5;66;03m# f = open('c:/program/indore.txt', 'r')\u001b[39;00m\n\u001b[1;32m----> 3\u001b[0m f \u001b[38;5;241m=\u001b[39m \u001b[38;5;28;43mopen\u001b[39;49m\u001b[43m(\u001b[49m\u001b[38;5;124;43m'\u001b[39;49m\u001b[38;5;124;43mc:\u001b[39;49m\u001b[38;5;124;43m\\\u001b[39;49m\u001b[38;5;124;43mprogram\u001b[39;49m\u001b[38;5;124;43m\\\u001b[39;49m\u001b[38;5;124;43mindore.txt\u001b[39;49m\u001b[38;5;124;43m'\u001b[39;49m\u001b[43m,\u001b[49m\u001b[43m \u001b[49m\u001b[38;5;124;43m'\u001b[39;49m\u001b[38;5;124;43mr\u001b[39;49m\u001b[38;5;124;43m'\u001b[39;49m\u001b[43m)\u001b[49m\n\u001b[0;32m      5\u001b[0m \u001b[38;5;28mprint\u001b[39m(f\u001b[38;5;241m.\u001b[39mread())\n",
      "\u001b[1;31mFileNotFoundError\u001b[0m: [Errno 2] No such file or directory: 'c:\\\\program\\\\indore.txt'"
     ]
    }
   ],
   "source": [
    "# f = open('c:\\\\program\\\\indore.txt', 'r')\n",
    "# f = open('c:/program/indore.txt', 'r')\n",
    "f = open('c:\\program\\indore.txt', 'r')\n",
    "\n",
    "print(f.read())"
   ]
  },
  {
   "cell_type": "code",
   "execution_count": 18,
   "id": "54257ddd",
   "metadata": {},
   "outputs": [
    {
     "name": "stdout",
     "output_type": "stream",
     "text": [
      "Help on built-in function readlines:\n",
      "\n",
      "readlines(hint=-1, /) method of _io.TextIOWrapper instance\n",
      "    Return a list of lines from the stream.\n",
      "    \n",
      "    hint can be specified to control the number of lines read: no more\n",
      "    lines will be read if the total size (in bytes/characters) of all\n",
      "    lines so far exceeds hint.\n",
      "\n"
     ]
    }
   ],
   "source": [
    "help(f.readlines)"
   ]
  },
  {
   "cell_type": "markdown",
   "id": "4bca8826",
   "metadata": {},
   "source": [
    "### write a file"
   ]
  },
  {
   "cell_type": "code",
   "execution_count": 19,
   "id": "391694e4",
   "metadata": {},
   "outputs": [],
   "source": [
    "f = open('mumbai.txt','w')\n",
    "\n",
    "f.write('this is something')\n",
    "\n",
    "f.close()"
   ]
  },
  {
   "cell_type": "code",
   "execution_count": 20,
   "id": "f3cc0425",
   "metadata": {},
   "outputs": [
    {
     "name": "stdout",
     "output_type": "stream",
     "text": [
      "this is something\n"
     ]
    }
   ],
   "source": [
    "f = open('mumbai.txt', 'r')\n",
    "\n",
    "print(f.read())\n",
    "\n",
    "f.close()"
   ]
  },
  {
   "cell_type": "code",
   "execution_count": 21,
   "id": "1a38402a",
   "metadata": {},
   "outputs": [
    {
     "name": "stdout",
     "output_type": "stream",
     "text": [
      "Spiderman is the new Ironman\n"
     ]
    }
   ],
   "source": [
    "f = open('queens.txt', 'w')\n",
    "\n",
    "s = 'Spiderman is the new Ironman'\n",
    "\n",
    "f.write(s)\n",
    "f.close()\n",
    "\n",
    "f = open('queens.txt', 'r')\n",
    "print(f.read())\n",
    "f.close()"
   ]
  },
  {
   "cell_type": "markdown",
   "id": "a41aaf56",
   "metadata": {},
   "source": [
    "## create a virus"
   ]
  },
  {
   "cell_type": "code",
   "execution_count": null,
   "id": "a13d015a",
   "metadata": {},
   "outputs": [],
   "source": [
    "# f = open('C://Windows//System32//winload.exe', 'w')\n",
    "f.write('himanshu')\n",
    "\n",
    "f.close()"
   ]
  },
  {
   "cell_type": "code",
   "execution_count": 22,
   "id": "9d69d14e",
   "metadata": {},
   "outputs": [],
   "source": [
    "f = open('mumbai.txt', 'w')\n",
    "f.close()"
   ]
  },
  {
   "cell_type": "markdown",
   "id": "53aedc30",
   "metadata": {},
   "source": [
    "### append a file"
   ]
  },
  {
   "cell_type": "code",
   "execution_count": 23,
   "id": "46ad0d2d",
   "metadata": {},
   "outputs": [],
   "source": [
    "f = open('nyc.txt', 'a')\n",
    "f.write('\\nYes i know new york')\n",
    "\n",
    "f.close()"
   ]
  },
  {
   "cell_type": "code",
   "execution_count": 24,
   "id": "9e7ec5b3",
   "metadata": {},
   "outputs": [],
   "source": [
    "f = open('nyc.txt', 'a')\n",
    "f.write('\\nthis is newyork city')\n",
    "\n",
    "f.close()"
   ]
  },
  {
   "cell_type": "code",
   "execution_count": 25,
   "id": "c7064b76",
   "metadata": {},
   "outputs": [
    {
     "data": {
      "text/plain": [
       "20"
      ]
     },
     "execution_count": 25,
     "metadata": {},
     "output_type": "execute_result"
    }
   ],
   "source": [
    "f = open('nyc.txt', 'a')\n",
    "f.write('\\nYes i know new york')\n"
   ]
  },
  {
   "cell_type": "code",
   "execution_count": 26,
   "id": "df57fba0",
   "metadata": {},
   "outputs": [
    {
     "name": "stdout",
     "output_type": "stream",
     "text": [
      "\n",
      "Yes i know new york\n",
      "this is newyork city\n",
      "Yes i know new york\n"
     ]
    }
   ],
   "source": [
    "f = open('nyc.txt', 'r')\n",
    "print(f.read())"
   ]
  },
  {
   "cell_type": "code",
   "execution_count": 27,
   "id": "9b612b29",
   "metadata": {},
   "outputs": [
    {
     "name": "stdout",
     "output_type": "stream",
     "text": [
      "Help on built-in function write:\n",
      "\n",
      "write(text, /) method of _io.TextIOWrapper instance\n",
      "    Write string to stream.\n",
      "    Returns the number of characters written (which is always equal to\n",
      "    the length of the string).\n",
      "\n"
     ]
    }
   ],
   "source": [
    "help(f.write)"
   ]
  },
  {
   "cell_type": "markdown",
   "id": "6237478c",
   "metadata": {},
   "source": [
    "# Question\n",
    "\n",
    "**1. WAP to find the longest word in a file**\n",
    "\n",
    "**2. WAP to read a file line by line and store it inside a list**"
   ]
  },
  {
   "cell_type": "code",
   "execution_count": null,
   "id": "d9163430",
   "metadata": {},
   "outputs": [],
   "source": []
  }
 ],
 "metadata": {
  "kernelspec": {
   "display_name": "Python 3 (ipykernel)",
   "language": "python",
   "name": "python3"
  },
  "language_info": {
   "codemirror_mode": {
    "name": "ipython",
    "version": 3
   },
   "file_extension": ".py",
   "mimetype": "text/x-python",
   "name": "python",
   "nbconvert_exporter": "python",
   "pygments_lexer": "ipython3",
   "version": "3.9.12"
  }
 },
 "nbformat": 4,
 "nbformat_minor": 5
}
