{
 "cells": [
  {
   "cell_type": "markdown",
   "id": "2f4e9866",
   "metadata": {},
   "source": [
    "# In built modules\n",
    "\n",
    "OS\n",
    "\n",
    "sys\n",
    "\n",
    "statistics\n",
    "\n",
    "math\n",
    "\n",
    "string\n",
    "\n",
    "random\n",
    "\n"
   ]
  },
  {
   "cell_type": "markdown",
   "id": "ad778fe1",
   "metadata": {},
   "source": [
    "## OS"
   ]
  },
  {
   "cell_type": "code",
   "execution_count": 1,
   "id": "30aff70c",
   "metadata": {},
   "outputs": [],
   "source": [
    "import os"
   ]
  },
  {
   "cell_type": "code",
   "execution_count": 3,
   "id": "3101f255",
   "metadata": {
    "scrolled": false
   },
   "outputs": [],
   "source": [
    "# help(os)"
   ]
  },
  {
   "cell_type": "code",
   "execution_count": 4,
   "id": "03b22870",
   "metadata": {},
   "outputs": [],
   "source": [
    "# make directory/folder\n",
    "\n",
    "os.mkdir('indoreimages')"
   ]
  },
  {
   "cell_type": "code",
   "execution_count": 5,
   "id": "23fe6435",
   "metadata": {},
   "outputs": [
    {
     "data": {
      "text/plain": [
       "'C:\\\\Users\\\\himan\\\\Documents\\\\Himanshu Ramchandani Live\\\\Python-and-Data-Structures-for-Data-Science\\\\19_Modules and Packages'"
      ]
     },
     "execution_count": 5,
     "metadata": {},
     "output_type": "execute_result"
    }
   ],
   "source": [
    "# get current working directory\n",
    "\n",
    "os.getcwd()"
   ]
  },
  {
   "cell_type": "code",
   "execution_count": 6,
   "id": "8c4a53a4",
   "metadata": {},
   "outputs": [],
   "source": [
    "os.rmdir('indoreimages')"
   ]
  },
  {
   "cell_type": "markdown",
   "id": "2793b406",
   "metadata": {},
   "source": [
    "## sys"
   ]
  },
  {
   "cell_type": "code",
   "execution_count": 7,
   "id": "a37786fe",
   "metadata": {},
   "outputs": [],
   "source": [
    "import sys"
   ]
  },
  {
   "cell_type": "code",
   "execution_count": 8,
   "id": "d300870f",
   "metadata": {},
   "outputs": [
    {
     "data": {
      "text/plain": [
       "9223372036854775807"
      ]
     },
     "execution_count": 8,
     "metadata": {},
     "output_type": "execute_result"
    }
   ],
   "source": [
    "sys.maxsize"
   ]
  },
  {
   "cell_type": "code",
   "execution_count": 11,
   "id": "2b9f794a",
   "metadata": {
    "scrolled": false
   },
   "outputs": [],
   "source": [
    "# help(sys)"
   ]
  },
  {
   "cell_type": "code",
   "execution_count": 12,
   "id": "7fc28bc1",
   "metadata": {},
   "outputs": [
    {
     "data": {
      "text/plain": [
       "['C:\\\\Users\\\\himan\\\\Documents\\\\Himanshu Ramchandani Live\\\\Python-and-Data-Structures-for-Data-Science\\\\19_Modules and Packages',\n",
       " 'C:\\\\Users\\\\himan\\\\anaconda3\\\\python39.zip',\n",
       " 'C:\\\\Users\\\\himan\\\\anaconda3\\\\DLLs',\n",
       " 'C:\\\\Users\\\\himan\\\\anaconda3\\\\lib',\n",
       " 'C:\\\\Users\\\\himan\\\\anaconda3',\n",
       " '',\n",
       " 'C:\\\\Users\\\\himan\\\\anaconda3\\\\lib\\\\site-packages',\n",
       " 'C:\\\\Users\\\\himan\\\\anaconda3\\\\lib\\\\site-packages\\\\win32',\n",
       " 'C:\\\\Users\\\\himan\\\\anaconda3\\\\lib\\\\site-packages\\\\win32\\\\lib',\n",
       " 'C:\\\\Users\\\\himan\\\\anaconda3\\\\lib\\\\site-packages\\\\Pythonwin']"
      ]
     },
     "execution_count": 12,
     "metadata": {},
     "output_type": "execute_result"
    }
   ],
   "source": [
    "sys.path"
   ]
  },
  {
   "cell_type": "code",
   "execution_count": 13,
   "id": "4c14fdcd",
   "metadata": {},
   "outputs": [
    {
     "data": {
      "text/plain": [
       "'3.9.12 (main, Apr  4 2022, 05:22:27) [MSC v.1916 64 bit (AMD64)]'"
      ]
     },
     "execution_count": 13,
     "metadata": {},
     "output_type": "execute_result"
    }
   ],
   "source": [
    "sys.version"
   ]
  },
  {
   "cell_type": "markdown",
   "id": "1ede8ae3",
   "metadata": {},
   "source": [
    "## statistics"
   ]
  },
  {
   "cell_type": "code",
   "execution_count": 14,
   "id": "45ebb594",
   "metadata": {},
   "outputs": [],
   "source": [
    "import statistics"
   ]
  },
  {
   "cell_type": "code",
   "execution_count": 16,
   "id": "abe06422",
   "metadata": {},
   "outputs": [
    {
     "data": {
      "text/plain": [
       "2.5"
      ]
     },
     "execution_count": 16,
     "metadata": {},
     "output_type": "execute_result"
    }
   ],
   "source": [
    "statistics.mean([1,2,3,4])"
   ]
  },
  {
   "cell_type": "code",
   "execution_count": 17,
   "id": "dd494592",
   "metadata": {},
   "outputs": [
    {
     "name": "stdout",
     "output_type": "stream",
     "text": [
      "27.375\n"
     ]
    }
   ],
   "source": [
    "from statistics import *\n",
    "\n",
    "ages = [20,10,4,25,26,88,21,25]\n",
    "\n",
    "print(mean(ages))"
   ]
  },
  {
   "cell_type": "code",
   "execution_count": 18,
   "id": "2fb17b49",
   "metadata": {},
   "outputs": [
    {
     "name": "stdout",
     "output_type": "stream",
     "text": [
      "23.0\n"
     ]
    }
   ],
   "source": [
    "print(median(ages))"
   ]
  },
  {
   "cell_type": "code",
   "execution_count": 19,
   "id": "abb139dd",
   "metadata": {},
   "outputs": [
    {
     "name": "stdout",
     "output_type": "stream",
     "text": [
      "25\n"
     ]
    }
   ],
   "source": [
    "print(mode(ages))"
   ]
  },
  {
   "cell_type": "code",
   "execution_count": 20,
   "id": "9359e439",
   "metadata": {},
   "outputs": [
    {
     "name": "stdout",
     "output_type": "stream",
     "text": [
      "25.723460664759486\n"
     ]
    }
   ],
   "source": [
    "print(stdev(ages))"
   ]
  },
  {
   "cell_type": "markdown",
   "id": "00908a59",
   "metadata": {},
   "source": [
    "## math"
   ]
  },
  {
   "cell_type": "code",
   "execution_count": 21,
   "id": "ecfdc763",
   "metadata": {},
   "outputs": [
    {
     "name": "stdout",
     "output_type": "stream",
     "text": [
      "3.141592653589793\n"
     ]
    }
   ],
   "source": [
    "import math\n",
    "\n",
    "print(math.pi)"
   ]
  },
  {
   "cell_type": "code",
   "execution_count": 23,
   "id": "fb9a4f01",
   "metadata": {},
   "outputs": [
    {
     "name": "stdout",
     "output_type": "stream",
     "text": [
      "1.4142135623730951\n"
     ]
    }
   ],
   "source": [
    "print(math.sqrt(2))"
   ]
  },
  {
   "cell_type": "code",
   "execution_count": 24,
   "id": "52d9822d",
   "metadata": {},
   "outputs": [
    {
     "name": "stdout",
     "output_type": "stream",
     "text": [
      "8.0\n"
     ]
    }
   ],
   "source": [
    "print(math.pow(2,3))"
   ]
  },
  {
   "cell_type": "code",
   "execution_count": 25,
   "id": "d526914e",
   "metadata": {},
   "outputs": [
    {
     "name": "stdout",
     "output_type": "stream",
     "text": [
      "9\n"
     ]
    }
   ],
   "source": [
    "print(math.floor(9.5))"
   ]
  },
  {
   "cell_type": "code",
   "execution_count": 26,
   "id": "2469b7d6",
   "metadata": {},
   "outputs": [
    {
     "name": "stdout",
     "output_type": "stream",
     "text": [
      "10\n"
     ]
    }
   ],
   "source": [
    "print(math.ceil(9.5))"
   ]
  },
  {
   "cell_type": "code",
   "execution_count": 27,
   "id": "8c703da7",
   "metadata": {},
   "outputs": [
    {
     "name": "stdout",
     "output_type": "stream",
     "text": [
      "10\n"
     ]
    }
   ],
   "source": [
    "print(math.ceil(9.1))"
   ]
  },
  {
   "cell_type": "code",
   "execution_count": 28,
   "id": "b633360b",
   "metadata": {},
   "outputs": [
    {
     "name": "stdout",
     "output_type": "stream",
     "text": [
      "2.0\n"
     ]
    }
   ],
   "source": [
    "print(math.log10(100))"
   ]
  },
  {
   "cell_type": "code",
   "execution_count": 29,
   "id": "531d50e6",
   "metadata": {},
   "outputs": [
    {
     "name": "stdout",
     "output_type": "stream",
     "text": [
      "2.0\n"
     ]
    }
   ],
   "source": [
    "from math import pi, sqrt, pow, floor, ceil, log10\n",
    "\n",
    "print(sqrt(4))"
   ]
  },
  {
   "cell_type": "code",
   "execution_count": 30,
   "id": "19f715c4",
   "metadata": {},
   "outputs": [
    {
     "name": "stdout",
     "output_type": "stream",
     "text": [
      "2.0\n"
     ]
    }
   ],
   "source": [
    "print(math.log10(100))"
   ]
  },
  {
   "cell_type": "code",
   "execution_count": 31,
   "id": "026fd166",
   "metadata": {},
   "outputs": [
    {
     "name": "stdout",
     "output_type": "stream",
     "text": [
      "3.141592653589793\n"
     ]
    }
   ],
   "source": [
    "from math import pi as pie\n",
    "\n",
    "print(pie)"
   ]
  },
  {
   "cell_type": "markdown",
   "id": "852003f3",
   "metadata": {},
   "source": [
    "## String"
   ]
  },
  {
   "cell_type": "code",
   "execution_count": 32,
   "id": "960b3ba2",
   "metadata": {},
   "outputs": [],
   "source": [
    "import string"
   ]
  },
  {
   "cell_type": "code",
   "execution_count": 33,
   "id": "138e06ef",
   "metadata": {},
   "outputs": [
    {
     "name": "stdout",
     "output_type": "stream",
     "text": [
      "abcdefghijklmnopqrstuvwxyzABCDEFGHIJKLMNOPQRSTUVWXYZ\n"
     ]
    }
   ],
   "source": [
    "print(string.ascii_letters)"
   ]
  },
  {
   "cell_type": "code",
   "execution_count": 34,
   "id": "05661000",
   "metadata": {},
   "outputs": [
    {
     "name": "stdout",
     "output_type": "stream",
     "text": [
      "0123456789\n"
     ]
    }
   ],
   "source": [
    "print(string.digits)"
   ]
  },
  {
   "cell_type": "code",
   "execution_count": 35,
   "id": "3d66bb15",
   "metadata": {},
   "outputs": [
    {
     "name": "stdout",
     "output_type": "stream",
     "text": [
      "!\"#$%&'()*+,-./:;<=>?@[\\]^_`{|}~\n"
     ]
    }
   ],
   "source": [
    "print(string.punctuation)"
   ]
  },
  {
   "cell_type": "markdown",
   "id": "8dcb8da0",
   "metadata": {},
   "source": [
    "## Random"
   ]
  },
  {
   "cell_type": "code",
   "execution_count": 36,
   "id": "c69ec5d6",
   "metadata": {},
   "outputs": [
    {
     "name": "stdout",
     "output_type": "stream",
     "text": [
      "0.9667194108253725\n"
     ]
    }
   ],
   "source": [
    "from random import random, randint\n",
    "\n",
    "print(random())"
   ]
  },
  {
   "cell_type": "code",
   "execution_count": 39,
   "id": "6085b5ed",
   "metadata": {},
   "outputs": [
    {
     "name": "stdout",
     "output_type": "stream",
     "text": [
      "0.5687283414736181\n"
     ]
    }
   ],
   "source": [
    "print(random())"
   ]
  },
  {
   "cell_type": "code",
   "execution_count": 44,
   "id": "1fee3ce0",
   "metadata": {},
   "outputs": [
    {
     "name": "stdout",
     "output_type": "stream",
     "text": [
      "11\n"
     ]
    }
   ],
   "source": [
    "print(randint(5,20))"
   ]
  },
  {
   "cell_type": "code",
   "execution_count": null,
   "id": "5eceb8ac",
   "metadata": {},
   "outputs": [],
   "source": []
  }
 ],
 "metadata": {
  "kernelspec": {
   "display_name": "Python 3 (ipykernel)",
   "language": "python",
   "name": "python3"
  },
  "language_info": {
   "codemirror_mode": {
    "name": "ipython",
    "version": 3
   },
   "file_extension": ".py",
   "mimetype": "text/x-python",
   "name": "python",
   "nbconvert_exporter": "python",
   "pygments_lexer": "ipython3",
   "version": "3.9.12"
  }
 },
 "nbformat": 4,
 "nbformat_minor": 5
}
