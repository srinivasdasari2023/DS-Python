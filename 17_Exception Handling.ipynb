{
 "cells": [
  {
   "cell_type": "markdown",
   "id": "d347824e",
   "metadata": {},
   "source": [
    "# Exception\n",
    "\n",
    "runtime error"
   ]
  },
  {
   "cell_type": "code",
   "execution_count": 1,
   "id": "4bbef020",
   "metadata": {},
   "outputs": [
    {
     "ename": "ZeroDivisionError",
     "evalue": "division by zero",
     "output_type": "error",
     "traceback": [
      "\u001b[1;31m---------------------------------------------------------------------------\u001b[0m",
      "\u001b[1;31mZeroDivisionError\u001b[0m                         Traceback (most recent call last)",
      "Input \u001b[1;32mIn [1]\u001b[0m, in \u001b[0;36m<cell line: 4>\u001b[1;34m()\u001b[0m\n\u001b[0;32m      1\u001b[0m a \u001b[38;5;241m=\u001b[39m \u001b[38;5;241m0\u001b[39m\n\u001b[0;32m      2\u001b[0m b \u001b[38;5;241m=\u001b[39m \u001b[38;5;241m1\u001b[39m\n\u001b[1;32m----> 4\u001b[0m \u001b[38;5;28mprint\u001b[39m(\u001b[43mb\u001b[49m\u001b[38;5;241;43m/\u001b[39;49m\u001b[43ma\u001b[49m)\n",
      "\u001b[1;31mZeroDivisionError\u001b[0m: division by zero"
     ]
    }
   ],
   "source": [
    "a = 0\n",
    "b = 1\n",
    "\n",
    "print(b/a)"
   ]
  },
  {
   "cell_type": "code",
   "execution_count": 2,
   "id": "fefcea28",
   "metadata": {},
   "outputs": [
    {
     "ename": "TypeError",
     "evalue": "can only concatenate str (not \"int\") to str",
     "output_type": "error",
     "traceback": [
      "\u001b[1;31m---------------------------------------------------------------------------\u001b[0m",
      "\u001b[1;31mTypeError\u001b[0m                                 Traceback (most recent call last)",
      "Input \u001b[1;32mIn [2]\u001b[0m, in \u001b[0;36m<cell line: 1>\u001b[1;34m()\u001b[0m\n\u001b[1;32m----> 1\u001b[0m \u001b[38;5;28mprint\u001b[39m(\u001b[38;5;124;43m\"\u001b[39;49m\u001b[38;5;124;43m7\u001b[39;49m\u001b[38;5;124;43m\"\u001b[39;49m\u001b[43m \u001b[49m\u001b[38;5;241;43m+\u001b[39;49m\u001b[43m \u001b[49m\u001b[38;5;241;43m4\u001b[39;49m)\n",
      "\u001b[1;31mTypeError\u001b[0m: can only concatenate str (not \"int\") to str"
     ]
    }
   ],
   "source": [
    "print(\"7\" + 4)"
   ]
  },
  {
   "cell_type": "code",
   "execution_count": 3,
   "id": "78b227b1",
   "metadata": {},
   "outputs": [
    {
     "ename": "NameError",
     "evalue": "name 'y' is not defined",
     "output_type": "error",
     "traceback": [
      "\u001b[1;31m---------------------------------------------------------------------------\u001b[0m",
      "\u001b[1;31mNameError\u001b[0m                                 Traceback (most recent call last)",
      "Input \u001b[1;32mIn [3]\u001b[0m, in \u001b[0;36m<cell line: 1>\u001b[1;34m()\u001b[0m\n\u001b[1;32m----> 1\u001b[0m \u001b[38;5;28mprint\u001b[39m(\u001b[43my\u001b[49m)\n",
      "\u001b[1;31mNameError\u001b[0m: name 'y' is not defined"
     ]
    }
   ],
   "source": [
    "print(y)"
   ]
  },
  {
   "cell_type": "markdown",
   "id": "3b1a672d",
   "metadata": {},
   "source": [
    "# Common Exceptions\n",
    "\n",
    "1. ImportError\n",
    "2. IndexError\n",
    "3. NameError\n",
    "4. SyntaxError\n",
    "5. TypeError\n",
    "6. ValueError\n",
    "\n",
    "\n",
    "\n",
    "# Exception Handling\n",
    "\n",
    "try - a block that might contains exception\n",
    "\n",
    "except - contains the exception message or alternative code"
   ]
  },
  {
   "cell_type": "code",
   "execution_count": 4,
   "id": "32ac32de",
   "metadata": {},
   "outputs": [
    {
     "name": "stdout",
     "output_type": "stream",
     "text": [
      "An Error Occured\n"
     ]
    }
   ],
   "source": [
    "try:\n",
    "    a = 7\n",
    "    b = 0\n",
    "    print(a/b)\n",
    "    print(\"Finish\")\n",
    "except ZeroDivisionError:\n",
    "    print(\"An Error Occured\")"
   ]
  },
  {
   "cell_type": "code",
   "execution_count": 6,
   "id": "c3f2f174",
   "metadata": {},
   "outputs": [
    {
     "name": "stdout",
     "output_type": "stream",
     "text": [
      "Help on class ZeroDivisionError in module builtins:\n",
      "\n",
      "class ZeroDivisionError(ArithmeticError)\n",
      " |  Second argument to a division or modulo operation was zero.\n",
      " |  \n",
      " |  Method resolution order:\n",
      " |      ZeroDivisionError\n",
      " |      ArithmeticError\n",
      " |      Exception\n",
      " |      BaseException\n",
      " |      object\n",
      " |  \n",
      " |  Methods defined here:\n",
      " |  \n",
      " |  __init__(self, /, *args, **kwargs)\n",
      " |      Initialize self.  See help(type(self)) for accurate signature.\n",
      " |  \n",
      " |  ----------------------------------------------------------------------\n",
      " |  Static methods defined here:\n",
      " |  \n",
      " |  __new__(*args, **kwargs) from builtins.type\n",
      " |      Create and return a new object.  See help(type) for accurate signature.\n",
      " |  \n",
      " |  ----------------------------------------------------------------------\n",
      " |  Methods inherited from BaseException:\n",
      " |  \n",
      " |  __delattr__(self, name, /)\n",
      " |      Implement delattr(self, name).\n",
      " |  \n",
      " |  __getattribute__(self, name, /)\n",
      " |      Return getattr(self, name).\n",
      " |  \n",
      " |  __reduce__(...)\n",
      " |      Helper for pickle.\n",
      " |  \n",
      " |  __repr__(self, /)\n",
      " |      Return repr(self).\n",
      " |  \n",
      " |  __setattr__(self, name, value, /)\n",
      " |      Implement setattr(self, name, value).\n",
      " |  \n",
      " |  __setstate__(...)\n",
      " |  \n",
      " |  __str__(self, /)\n",
      " |      Return str(self).\n",
      " |  \n",
      " |  with_traceback(...)\n",
      " |      Exception.with_traceback(tb) --\n",
      " |      set self.__traceback__ to tb and return self.\n",
      " |  \n",
      " |  ----------------------------------------------------------------------\n",
      " |  Data descriptors inherited from BaseException:\n",
      " |  \n",
      " |  __cause__\n",
      " |      exception cause\n",
      " |  \n",
      " |  __context__\n",
      " |      exception context\n",
      " |  \n",
      " |  __dict__\n",
      " |  \n",
      " |  __suppress_context__\n",
      " |  \n",
      " |  __traceback__\n",
      " |  \n",
      " |  args\n",
      "\n"
     ]
    }
   ],
   "source": [
    "help(ZeroDivisionError)"
   ]
  },
  {
   "cell_type": "code",
   "execution_count": 7,
   "id": "3e296aa5",
   "metadata": {},
   "outputs": [
    {
     "name": "stdout",
     "output_type": "stream",
     "text": [
      "Error Occured\n"
     ]
    }
   ],
   "source": [
    "try:\n",
    "    a = 10\n",
    "    print(\"Hi\" + a)\n",
    "    print(a/2)\n",
    "except ZeroDivisionError:\n",
    "    print(\"Do not divide by zero\")\n",
    "except (ValueError, TypeError):\n",
    "    print(\"Error Occured\")"
   ]
  },
  {
   "cell_type": "code",
   "execution_count": 9,
   "id": "f358126d",
   "metadata": {},
   "outputs": [
    {
     "name": "stdout",
     "output_type": "stream",
     "text": [
      "Something went wrong TypeError\n"
     ]
    }
   ],
   "source": [
    "try:\n",
    "    a = \"string\"\n",
    "    print(a/0)\n",
    "except Exception as error:\n",
    "    print(\"Something went wrong\", type(error).__name__)"
   ]
  },
  {
   "cell_type": "code",
   "execution_count": 12,
   "id": "7a41e87f",
   "metadata": {},
   "outputs": [
    {
     "name": "stdout",
     "output_type": "stream",
     "text": [
      "<class 'NotImplementedError'> 1976238503.py 3\n",
      "No error\n"
     ]
    }
   ],
   "source": [
    "import sys, os\n",
    "try:\n",
    "    raise NotImplementedError(\"No error\")\n",
    "except Exception as e:\n",
    "    exc_type, exc_obj, exc_tb = sys.exc_info()\n",
    "    fname = os.path.split(exc_tb.tb_frame.f_code.co_filename)[1]\n",
    "    print(exc_type, fname, exc_tb.tb_lineno)\n",
    "    print(e)"
   ]
  },
  {
   "cell_type": "code",
   "execution_count": 14,
   "id": "d2de24ec",
   "metadata": {},
   "outputs": [],
   "source": [
    "# help(Exception)"
   ]
  },
  {
   "cell_type": "markdown",
   "id": "ce11be6d",
   "metadata": {},
   "source": [
    "## else"
   ]
  },
  {
   "cell_type": "code",
   "execution_count": 15,
   "id": "cc6ac2a3",
   "metadata": {},
   "outputs": [
    {
     "name": "stdout",
     "output_type": "stream",
     "text": [
      "1\n",
      "3\n"
     ]
    }
   ],
   "source": [
    "try:\n",
    "    print(1)\n",
    "except ZeroDivisionError:\n",
    "    print(2)\n",
    "else:\n",
    "    print(3)"
   ]
  },
  {
   "cell_type": "code",
   "execution_count": 16,
   "id": "4e51abdf",
   "metadata": {},
   "outputs": [
    {
     "name": "stdout",
     "output_type": "stream",
     "text": [
      "2\n"
     ]
    }
   ],
   "source": [
    "try:\n",
    "    print(1/0)\n",
    "except ZeroDivisionError:\n",
    "    print(2)\n",
    "else:\n",
    "    print(3)"
   ]
  },
  {
   "cell_type": "markdown",
   "id": "7cf7824e",
   "metadata": {},
   "source": [
    "# finally"
   ]
  },
  {
   "cell_type": "code",
   "execution_count": 17,
   "id": "b0582643",
   "metadata": {},
   "outputs": [
    {
     "name": "stdout",
     "output_type": "stream",
     "text": [
      "Hello\n",
      "Finally Block\n"
     ]
    }
   ],
   "source": [
    "try:\n",
    "    print(\"Hello\")\n",
    "except:\n",
    "    print(\"Error\")\n",
    "finally:\n",
    "    print(\"Finally Block\")"
   ]
  },
  {
   "cell_type": "code",
   "execution_count": 18,
   "id": "a172be89",
   "metadata": {},
   "outputs": [
    {
     "name": "stdout",
     "output_type": "stream",
     "text": [
      "Error\n",
      "Finally Block\n"
     ]
    }
   ],
   "source": [
    "try:\n",
    "    print(\"Hello\"+ 8)\n",
    "except:\n",
    "    print(\"Error\")\n",
    "finally:\n",
    "    print(\"Finally Block\")"
   ]
  },
  {
   "cell_type": "code",
   "execution_count": 19,
   "id": "59a55928",
   "metadata": {},
   "outputs": [
    {
     "name": "stdout",
     "output_type": "stream",
     "text": [
      "1\n",
      "4\n"
     ]
    }
   ],
   "source": [
    "try:\n",
    "    print(1)\n",
    "except:\n",
    "    print(2)\n",
    "finally:\n",
    "    print(4)"
   ]
  },
  {
   "cell_type": "code",
   "execution_count": 20,
   "id": "b6fa4752",
   "metadata": {},
   "outputs": [
    {
     "name": "stdout",
     "output_type": "stream",
     "text": [
      "1\n",
      "3\n",
      "4\n"
     ]
    }
   ],
   "source": [
    "try:\n",
    "    print(1)\n",
    "except:\n",
    "    print(2)\n",
    "else:\n",
    "    print(3)\n",
    "finally:\n",
    "    print(4)"
   ]
  },
  {
   "cell_type": "code",
   "execution_count": 21,
   "id": "01af1aa8",
   "metadata": {},
   "outputs": [
    {
     "name": "stdout",
     "output_type": "stream",
     "text": [
      "1\n",
      "7\n"
     ]
    }
   ],
   "source": [
    "try:\n",
    "    print(1)\n",
    "    print(\"hi\"+3)\n",
    "except ZeroDivisionError:\n",
    "    print(2)\n",
    "except:\n",
    "    print(7)\n",
    "else:\n",
    "    print(4)"
   ]
  },
  {
   "cell_type": "code",
   "execution_count": 22,
   "id": "55bb3df8",
   "metadata": {},
   "outputs": [
    {
     "name": "stdout",
     "output_type": "stream",
     "text": [
      "1\n",
      "3\n"
     ]
    }
   ],
   "source": [
    "try:\n",
    "    print(1)\n",
    "    print(1 + \"1\" == 2)\n",
    "    print(2)\n",
    "except TypeError:\n",
    "    print(3)\n",
    "else:\n",
    "    print(4)"
   ]
  },
  {
   "cell_type": "markdown",
   "id": "c3f20a60",
   "metadata": {},
   "source": [
    "# Raising Exception"
   ]
  },
  {
   "cell_type": "code",
   "execution_count": 23,
   "id": "96260d9f",
   "metadata": {},
   "outputs": [
    {
     "name": "stdout",
     "output_type": "stream",
     "text": [
      "1\n"
     ]
    },
    {
     "ename": "ValueError",
     "evalue": "",
     "output_type": "error",
     "traceback": [
      "\u001b[1;31m---------------------------------------------------------------------------\u001b[0m",
      "\u001b[1;31mValueError\u001b[0m                                Traceback (most recent call last)",
      "Input \u001b[1;32mIn [23]\u001b[0m, in \u001b[0;36m<cell line: 2>\u001b[1;34m()\u001b[0m\n\u001b[0;32m      1\u001b[0m \u001b[38;5;28mprint\u001b[39m(\u001b[38;5;241m1\u001b[39m)\n\u001b[1;32m----> 2\u001b[0m \u001b[38;5;28;01mraise\u001b[39;00m \u001b[38;5;167;01mValueError\u001b[39;00m\n\u001b[0;32m      3\u001b[0m \u001b[38;5;28mprint\u001b[39m(\u001b[38;5;241m2\u001b[39m)\n",
      "\u001b[1;31mValueError\u001b[0m: "
     ]
    }
   ],
   "source": [
    "print(1)\n",
    "raise ValueError\n",
    "print(2)"
   ]
  },
  {
   "cell_type": "code",
   "execution_count": 24,
   "id": "27c9f479",
   "metadata": {},
   "outputs": [
    {
     "name": "stdout",
     "output_type": "stream",
     "text": [
      "2\n"
     ]
    },
    {
     "ename": "ValueError",
     "evalue": "",
     "output_type": "error",
     "traceback": [
      "\u001b[1;31m---------------------------------------------------------------------------\u001b[0m",
      "\u001b[1;31mZeroDivisionError\u001b[0m                         Traceback (most recent call last)",
      "Input \u001b[1;32mIn [24]\u001b[0m, in \u001b[0;36m<cell line: 1>\u001b[1;34m()\u001b[0m\n\u001b[0;32m      1\u001b[0m \u001b[38;5;28;01mtry\u001b[39;00m:\n\u001b[1;32m----> 2\u001b[0m     \u001b[38;5;28mprint\u001b[39m(\u001b[38;5;241;43m1\u001b[39;49m\u001b[38;5;241;43m/\u001b[39;49m\u001b[38;5;241;43m0\u001b[39;49m)\n\u001b[0;32m      3\u001b[0m \u001b[38;5;28;01mexcept\u001b[39;00m \u001b[38;5;167;01mZeroDivisionError\u001b[39;00m:\n",
      "\u001b[1;31mZeroDivisionError\u001b[0m: division by zero",
      "\nDuring handling of the above exception, another exception occurred:\n",
      "\u001b[1;31mValueError\u001b[0m                                Traceback (most recent call last)",
      "Input \u001b[1;32mIn [24]\u001b[0m, in \u001b[0;36m<cell line: 1>\u001b[1;34m()\u001b[0m\n\u001b[0;32m      3\u001b[0m \u001b[38;5;28;01mexcept\u001b[39;00m \u001b[38;5;167;01mZeroDivisionError\u001b[39;00m:\n\u001b[0;32m      4\u001b[0m     \u001b[38;5;28mprint\u001b[39m(\u001b[38;5;241m2\u001b[39m)\n\u001b[1;32m----> 5\u001b[0m     \u001b[38;5;28;01mraise\u001b[39;00m \u001b[38;5;167;01mValueError\u001b[39;00m\n",
      "\u001b[1;31mValueError\u001b[0m: "
     ]
    }
   ],
   "source": [
    "try:\n",
    "    print(1/0)\n",
    "except ZeroDivisionError:\n",
    "    print(2)\n",
    "    raise ValueError"
   ]
  },
  {
   "cell_type": "markdown",
   "id": "c1716775",
   "metadata": {},
   "source": [
    "## pass\n",
    "\n",
    "a placeholder"
   ]
  },
  {
   "cell_type": "code",
   "execution_count": 25,
   "id": "73652e49",
   "metadata": {},
   "outputs": [],
   "source": [
    "try:\n",
    "    raise ValueError\n",
    "except:\n",
    "    pass"
   ]
  },
  {
   "cell_type": "code",
   "execution_count": 26,
   "id": "1fb16764",
   "metadata": {},
   "outputs": [
    {
     "ename": "NameError",
     "evalue": "Invalid Name",
     "output_type": "error",
     "traceback": [
      "\u001b[1;31m---------------------------------------------------------------------------\u001b[0m",
      "\u001b[1;31mNameError\u001b[0m                                 Traceback (most recent call last)",
      "Input \u001b[1;32mIn [26]\u001b[0m, in \u001b[0;36m<cell line: 3>\u001b[1;34m()\u001b[0m\n\u001b[0;32m      1\u001b[0m a \u001b[38;5;241m=\u001b[39m \u001b[38;5;124m\"\u001b[39m\u001b[38;5;124m123\u001b[39m\u001b[38;5;124m\"\u001b[39m\n\u001b[1;32m----> 3\u001b[0m \u001b[38;5;28;01mraise\u001b[39;00m \u001b[38;5;167;01mNameError\u001b[39;00m(\u001b[38;5;124m\"\u001b[39m\u001b[38;5;124mInvalid Name\u001b[39m\u001b[38;5;124m\"\u001b[39m)\n",
      "\u001b[1;31mNameError\u001b[0m: Invalid Name"
     ]
    }
   ],
   "source": [
    "a = \"123\"\n",
    "\n",
    "raise NameError(\"Invalid Name\")"
   ]
  },
  {
   "cell_type": "code",
   "execution_count": 27,
   "id": "b266712a",
   "metadata": {},
   "outputs": [
    {
     "ename": "ZeroDivisionError",
     "evalue": "division by zero",
     "output_type": "error",
     "traceback": [
      "\u001b[1;31m---------------------------------------------------------------------------\u001b[0m",
      "\u001b[1;31mZeroDivisionError\u001b[0m                         Traceback (most recent call last)",
      "Input \u001b[1;32mIn [27]\u001b[0m, in \u001b[0;36m<cell line: 1>\u001b[1;34m()\u001b[0m\n\u001b[0;32m      1\u001b[0m \u001b[38;5;28;01mtry\u001b[39;00m:\n\u001b[1;32m----> 2\u001b[0m     \u001b[38;5;28mprint\u001b[39m(\u001b[38;5;241;43m1\u001b[39;49m\u001b[38;5;241;43m/\u001b[39;49m\u001b[38;5;241;43m0\u001b[39;49m)\n\u001b[0;32m      3\u001b[0m \u001b[38;5;28;01mexcept\u001b[39;00m \u001b[38;5;167;01mZeroDivisionError\u001b[39;00m:\n\u001b[0;32m      4\u001b[0m     \u001b[38;5;28;01mraise\u001b[39;00m\n",
      "\u001b[1;31mZeroDivisionError\u001b[0m: division by zero"
     ]
    }
   ],
   "source": [
    "try:\n",
    "    print(1/0)\n",
    "except ZeroDivisionError:\n",
    "    raise"
   ]
  },
  {
   "cell_type": "markdown",
   "id": "74948ff2",
   "metadata": {},
   "source": [
    "## create our own exception"
   ]
  },
  {
   "cell_type": "code",
   "execution_count": 28,
   "id": "6e63de13",
   "metadata": {},
   "outputs": [],
   "source": [
    "class CustomError(Exception):\n",
    "    pass"
   ]
  },
  {
   "cell_type": "code",
   "execution_count": 29,
   "id": "6f9f3dc1",
   "metadata": {},
   "outputs": [
    {
     "ename": "CustomError",
     "evalue": "This is a testing error",
     "output_type": "error",
     "traceback": [
      "\u001b[1;31m---------------------------------------------------------------------------\u001b[0m",
      "\u001b[1;31mCustomError\u001b[0m                               Traceback (most recent call last)",
      "Input \u001b[1;32mIn [29]\u001b[0m, in \u001b[0;36m<cell line: 1>\u001b[1;34m()\u001b[0m\n\u001b[1;32m----> 1\u001b[0m \u001b[38;5;28;01mraise\u001b[39;00m CustomError(\u001b[38;5;124m\"\u001b[39m\u001b[38;5;124mThis is a testing error\u001b[39m\u001b[38;5;124m\"\u001b[39m)\n",
      "\u001b[1;31mCustomError\u001b[0m: This is a testing error"
     ]
    }
   ],
   "source": [
    "raise CustomError(\"This is a testing error\")"
   ]
  },
  {
   "cell_type": "markdown",
   "id": "16f7397e",
   "metadata": {},
   "source": [
    "# Assertion"
   ]
  },
  {
   "cell_type": "code",
   "execution_count": 31,
   "id": "331bdf69",
   "metadata": {},
   "outputs": [
    {
     "name": "stdout",
     "output_type": "stream",
     "text": [
      "1\n",
      "2\n"
     ]
    }
   ],
   "source": [
    "print(1)\n",
    "assert 2 + 2 == 4\n",
    "print(2)"
   ]
  },
  {
   "cell_type": "code",
   "execution_count": 32,
   "id": "7b173bee",
   "metadata": {},
   "outputs": [
    {
     "ename": "AssertionError",
     "evalue": "",
     "output_type": "error",
     "traceback": [
      "\u001b[1;31m---------------------------------------------------------------------------\u001b[0m",
      "\u001b[1;31mAssertionError\u001b[0m                            Traceback (most recent call last)",
      "Input \u001b[1;32mIn [32]\u001b[0m, in \u001b[0;36m<cell line: 1>\u001b[1;34m()\u001b[0m\n\u001b[1;32m----> 1\u001b[0m \u001b[38;5;28;01massert\u001b[39;00m \u001b[38;5;241m1\u001b[39m \u001b[38;5;241m+\u001b[39m \u001b[38;5;241m1\u001b[39m \u001b[38;5;241m==\u001b[39m \u001b[38;5;241m3\u001b[39m\n\u001b[0;32m      2\u001b[0m \u001b[38;5;28mprint\u001b[39m(\u001b[38;5;241m4\u001b[39m)\n",
      "\u001b[1;31mAssertionError\u001b[0m: "
     ]
    }
   ],
   "source": [
    "assert 1 + 1 == 3\n",
    "print(4)"
   ]
  },
  {
   "cell_type": "code",
   "execution_count": 33,
   "id": "2761b832",
   "metadata": {},
   "outputs": [
    {
     "ename": "AssertionError",
     "evalue": "Less then Zero",
     "output_type": "error",
     "traceback": [
      "\u001b[1;31m---------------------------------------------------------------------------\u001b[0m",
      "\u001b[1;31mAssertionError\u001b[0m                            Traceback (most recent call last)",
      "Input \u001b[1;32mIn [33]\u001b[0m, in \u001b[0;36m<cell line: 3>\u001b[1;34m()\u001b[0m\n\u001b[0;32m      1\u001b[0m t \u001b[38;5;241m=\u001b[39m \u001b[38;5;241m-\u001b[39m\u001b[38;5;241m10\u001b[39m\n\u001b[1;32m----> 3\u001b[0m \u001b[38;5;28;01massert\u001b[39;00m (t \u001b[38;5;241m>\u001b[39m\u001b[38;5;241m=\u001b[39m \u001b[38;5;241m0\u001b[39m), \u001b[38;5;124m\"\u001b[39m\u001b[38;5;124mLess then Zero\u001b[39m\u001b[38;5;124m\"\u001b[39m\n",
      "\u001b[1;31mAssertionError\u001b[0m: Less then Zero"
     ]
    }
   ],
   "source": [
    "t = -10\n",
    "\n",
    "assert (t >= 0), \"Less then Zero\""
   ]
  },
  {
   "cell_type": "code",
   "execution_count": null,
   "id": "a4e6e3ed",
   "metadata": {},
   "outputs": [],
   "source": []
  }
 ],
 "metadata": {
  "kernelspec": {
   "display_name": "Python 3 (ipykernel)",
   "language": "python",
   "name": "python3"
  },
  "language_info": {
   "codemirror_mode": {
    "name": "ipython",
    "version": 3
   },
   "file_extension": ".py",
   "mimetype": "text/x-python",
   "name": "python",
   "nbconvert_exporter": "python",
   "pygments_lexer": "ipython3",
   "version": "3.9.12"
  }
 },
 "nbformat": 4,
 "nbformat_minor": 5
}
