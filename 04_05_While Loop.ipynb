{
 "cells": [
  {
   "cell_type": "markdown",
   "id": "ba90e3ae",
   "metadata": {},
   "source": [
    "# While Loop"
   ]
  },
  {
   "cell_type": "code",
   "execution_count": 1,
   "id": "ba038d55",
   "metadata": {},
   "outputs": [
    {
     "name": "stdout",
     "output_type": "stream",
     "text": [
      "Himanshu\n"
     ]
    }
   ],
   "source": [
    "print(\"Himanshu\")"
   ]
  },
  {
   "cell_type": "code",
   "execution_count": 2,
   "id": "059c461f",
   "metadata": {},
   "outputs": [
    {
     "name": "stdout",
     "output_type": "stream",
     "text": [
      "Himanshu\n",
      "Himanshu\n",
      "Himanshu\n"
     ]
    }
   ],
   "source": [
    "print(\"Himanshu\")\n",
    "print(\"Himanshu\")\n",
    "print(\"Himanshu\")"
   ]
  },
  {
   "cell_type": "code",
   "execution_count": 3,
   "id": "7219e2b8",
   "metadata": {},
   "outputs": [
    {
     "name": "stdout",
     "output_type": "stream",
     "text": [
      "Himanshu\n",
      "Himanshu\n",
      "Himanshu\n",
      "Himanshu\n",
      "Himanshu\n",
      "Himanshu\n",
      "Himanshu\n",
      "Himanshu\n",
      "Himanshu\n",
      "Himanshu\n"
     ]
    }
   ],
   "source": [
    "i = 1\n",
    "\n",
    "while i <= 10 :\n",
    "    print(\"Himanshu\")\n",
    "    i += 1             # i = i + 1,   1, 2, 3 ....10, 11"
   ]
  },
  {
   "cell_type": "code",
   "execution_count": 4,
   "id": "da82c907",
   "metadata": {},
   "outputs": [
    {
     "name": "stdout",
     "output_type": "stream",
     "text": [
      "1\n",
      "2\n",
      "3\n",
      "4\n",
      "5\n",
      "6\n",
      "7\n",
      "8\n",
      "9\n",
      "10\n"
     ]
    }
   ],
   "source": [
    "i = 1\n",
    "\n",
    "while i <= 10:\n",
    "    print(i)\n",
    "    i += 1"
   ]
  },
  {
   "cell_type": "code",
   "execution_count": 5,
   "id": "c893da3c",
   "metadata": {},
   "outputs": [
    {
     "name": "stdout",
     "output_type": "stream",
     "text": [
      "11\n"
     ]
    }
   ],
   "source": [
    "print(i)"
   ]
  },
  {
   "cell_type": "code",
   "execution_count": 6,
   "id": "139b95b6",
   "metadata": {},
   "outputs": [
    {
     "name": "stdout",
     "output_type": "stream",
     "text": [
      "Hello\n",
      "Indore\n"
     ]
    }
   ],
   "source": [
    "print(\"Hello\\nIndore\")"
   ]
  },
  {
   "cell_type": "code",
   "execution_count": 7,
   "id": "6fbc161f",
   "metadata": {},
   "outputs": [
    {
     "name": "stdout",
     "output_type": "stream",
     "text": [
      "Hello\n",
      "Indore\n"
     ]
    }
   ],
   "source": [
    "print(\"Hello\")\n",
    "print(\"Indore\")"
   ]
  },
  {
   "cell_type": "code",
   "execution_count": 8,
   "id": "d273ba82",
   "metadata": {},
   "outputs": [
    {
     "name": "stdout",
     "output_type": "stream",
     "text": [
      "Hello\n",
      "World\n"
     ]
    }
   ],
   "source": [
    "print(\"Hello\", end='\\n')\n",
    "print(\"World\")"
   ]
  },
  {
   "cell_type": "code",
   "execution_count": 9,
   "id": "58eac98c",
   "metadata": {},
   "outputs": [
    {
     "name": "stdout",
     "output_type": "stream",
     "text": [
      "Hello\tWorld\n"
     ]
    }
   ],
   "source": [
    "print(\"Hello\", end='\\t')\n",
    "print(\"World\")"
   ]
  },
  {
   "cell_type": "code",
   "execution_count": 10,
   "id": "03c425f1",
   "metadata": {},
   "outputs": [
    {
     "name": "stdout",
     "output_type": "stream",
     "text": [
      "Hello+World\n"
     ]
    }
   ],
   "source": [
    "print(\"Hello\", end='+')\n",
    "print(\"World\")"
   ]
  },
  {
   "cell_type": "code",
   "execution_count": 11,
   "id": "dd75c39f",
   "metadata": {},
   "outputs": [
    {
     "name": "stdout",
     "output_type": "stream",
     "text": [
      "Hello World\n"
     ]
    }
   ],
   "source": [
    "print(\"Hello\", end=' ')\n",
    "print(\"World\")"
   ]
  },
  {
   "cell_type": "code",
   "execution_count": 12,
   "id": "157a899f",
   "metadata": {},
   "outputs": [
    {
     "name": "stdout",
     "output_type": "stream",
     "text": [
      "HelloWorld\n"
     ]
    }
   ],
   "source": [
    "print(\"Hello\", end='')\n",
    "print(\"World\")"
   ]
  },
  {
   "cell_type": "code",
   "execution_count": null,
   "id": "3d50554e",
   "metadata": {},
   "outputs": [],
   "source": [
    "1  2  3  4  5  6  7  8  9  10"
   ]
  },
  {
   "cell_type": "code",
   "execution_count": 13,
   "id": "8e7d39d4",
   "metadata": {},
   "outputs": [
    {
     "name": "stdout",
     "output_type": "stream",
     "text": [
      "1  2  3  4  5  6  7  8  9  10  "
     ]
    }
   ],
   "source": [
    "i = 1\n",
    "\n",
    "while i <= 10:\n",
    "    print(i, end='  ')\n",
    "    i += 1"
   ]
  },
  {
   "cell_type": "markdown",
   "id": "c31d3b7d",
   "metadata": {},
   "source": [
    "## WAP to print following series"
   ]
  },
  {
   "cell_type": "code",
   "execution_count": null,
   "id": "10358c3e",
   "metadata": {},
   "outputs": [],
   "source": [
    "1  4  9  16  25  36  49  64  81  100"
   ]
  },
  {
   "cell_type": "code",
   "execution_count": null,
   "id": "7c98594d",
   "metadata": {},
   "outputs": [],
   "source": [
    "i ** 2\n",
    "\n",
    "i * i"
   ]
  },
  {
   "cell_type": "code",
   "execution_count": 14,
   "id": "1b3989b6",
   "metadata": {},
   "outputs": [
    {
     "name": "stdout",
     "output_type": "stream",
     "text": [
      "40\n",
      "10\n"
     ]
    }
   ],
   "source": [
    "a = 10\n",
    "\n",
    "print(a * 4)\n",
    "\n",
    "print(a)"
   ]
  },
  {
   "cell_type": "code",
   "execution_count": 15,
   "id": "0f90d64e",
   "metadata": {},
   "outputs": [
    {
     "name": "stdout",
     "output_type": "stream",
     "text": [
      "1  4  9  16  25  36  49  64  81  100  "
     ]
    }
   ],
   "source": [
    "i = 1\n",
    "\n",
    "while i <= 10:\n",
    "    print(i * i, end='  ')\n",
    "    i += 1"
   ]
  },
  {
   "cell_type": "code",
   "execution_count": null,
   "id": "9fa4191c",
   "metadata": {},
   "outputs": [],
   "source": [
    "1 + 2 + 3 + 4 + 5 + 6 + 7 + 8 + 9 + 10"
   ]
  },
  {
   "cell_type": "code",
   "execution_count": 16,
   "id": "9563cc4e",
   "metadata": {},
   "outputs": [
    {
     "name": "stdout",
     "output_type": "stream",
     "text": [
      "1 + 2 + 3 + 4 + 5 + 6 + 7 + 8 + 9 + 10 + "
     ]
    }
   ],
   "source": [
    "i = 1\n",
    "\n",
    "while i <= 10:\n",
    "    print(i, end=' + ')\n",
    "    i += 1"
   ]
  },
  {
   "cell_type": "code",
   "execution_count": 17,
   "id": "8fa0e2b0",
   "metadata": {},
   "outputs": [
    {
     "name": "stdout",
     "output_type": "stream",
     "text": [
      "1 + 2 + 3 + 4 + 5 + 6 + 7 + 8 + 9 + 10\n"
     ]
    }
   ],
   "source": [
    "i = 1\n",
    "\n",
    "while i <= 10:\n",
    "    if i < 10:\n",
    "        print(i, end=' + ')\n",
    "    else:\n",
    "        print(i)\n",
    "    i += 1"
   ]
  },
  {
   "cell_type": "code",
   "execution_count": null,
   "id": "d2cd5141",
   "metadata": {},
   "outputs": [],
   "source": [
    "1/1  2/4  3/9  4/16  5/25  6/36 ........ 10/100"
   ]
  },
  {
   "cell_type": "code",
   "execution_count": 18,
   "id": "c90b36f4",
   "metadata": {},
   "outputs": [
    {
     "name": "stdout",
     "output_type": "stream",
     "text": [
      "1 / 1  2 / 4  3 / 9  4 / 16  5 / 25  6 / 36  7 / 49  8 / 64  9 / 81  10 / 100  "
     ]
    }
   ],
   "source": [
    "i = 1\n",
    "\n",
    "while i <= 10:\n",
    "    print(i,\"/\", i * i, end='  ')\n",
    "    i += 1"
   ]
  },
  {
   "cell_type": "code",
   "execution_count": 19,
   "id": "d3d357fb",
   "metadata": {},
   "outputs": [
    {
     "name": "stdout",
     "output_type": "stream",
     "text": [
      "1/1  2/4  3/9  4/16  5/25  6/36  7/49  8/64  9/81  10/100  "
     ]
    }
   ],
   "source": [
    "i = 1\n",
    "\n",
    "while i <= 10:\n",
    "    print(i, end='/')\n",
    "    print(i * i, end='  ')\n",
    "    i += 1"
   ]
  },
  {
   "cell_type": "code",
   "execution_count": 22,
   "id": "60682fa4",
   "metadata": {},
   "outputs": [
    {
     "name": "stdout",
     "output_type": "stream",
     "text": [
      "1/1  2/4  3/9  4/16  5/25  6/36  7/49  8/64  9/81  10/100  "
     ]
    }
   ],
   "source": [
    "# dani\n",
    "i = 1   \n",
    "while i <= 10:\n",
    "    print(i, end=\"/\")\n",
    "    print(i * i, end='  ')\n",
    "    i += 1"
   ]
  },
  {
   "cell_type": "markdown",
   "id": "beb2d977",
   "metadata": {},
   "source": [
    "## break statement"
   ]
  },
  {
   "cell_type": "code",
   "execution_count": 23,
   "id": "2d7078d0",
   "metadata": {},
   "outputs": [
    {
     "name": "stdout",
     "output_type": "stream",
     "text": [
      "1\n",
      "2\n",
      "3\n",
      "4\n",
      "Hi\n"
     ]
    }
   ],
   "source": [
    "i = 1\n",
    "\n",
    "while i <= 10:\n",
    "    if i == 5:\n",
    "        print(\"Hi\")\n",
    "        break\n",
    "    print(i)\n",
    "    i += 1"
   ]
  },
  {
   "cell_type": "markdown",
   "id": "6bcfeb35",
   "metadata": {},
   "source": [
    "## continue statement"
   ]
  },
  {
   "cell_type": "code",
   "execution_count": 24,
   "id": "581b710f",
   "metadata": {},
   "outputs": [
    {
     "name": "stdout",
     "output_type": "stream",
     "text": [
      "1\n",
      "3\n",
      "5\n",
      "7\n",
      "9\n",
      "11\n"
     ]
    }
   ],
   "source": [
    "i = 0\n",
    "\n",
    "while i <= 10:\n",
    "    i += 1\n",
    "    if i%2 == 0:\n",
    "        continue\n",
    "    else:\n",
    "        print(i)"
   ]
  },
  {
   "cell_type": "markdown",
   "id": "7275c390",
   "metadata": {},
   "source": [
    "# Questions\n",
    "\n",
    "**WAP to enter 5 values from user and print them.**"
   ]
  },
  {
   "cell_type": "code",
   "execution_count": 25,
   "id": "1a806377",
   "metadata": {},
   "outputs": [
    {
     "name": "stdout",
     "output_type": "stream",
     "text": [
      "Enter Number: 10\n",
      "Your Number is : 10\n",
      "Enter Number: 20\n",
      "Your Number is : 20\n",
      "Enter Number: 30\n",
      "Your Number is : 30\n",
      "Enter Number: 40\n",
      "Your Number is : 40\n",
      "Enter Number: 50\n",
      "Your Number is : 50\n"
     ]
    }
   ],
   "source": [
    "i = 1\n",
    "\n",
    "while i <= 5:\n",
    "    a = int(input(\"Enter Number: \"))\n",
    "    print(\"Your Number is :\", a)\n",
    "    \n",
    "    i += 1"
   ]
  },
  {
   "cell_type": "markdown",
   "id": "970208f9",
   "metadata": {},
   "source": [
    "**WAP to enter 5 numbers from user and print sum of them**"
   ]
  },
  {
   "cell_type": "code",
   "execution_count": null,
   "id": "17eb62de",
   "metadata": {},
   "outputs": [],
   "source": [
    "s = 0\n",
    "s = s + a"
   ]
  },
  {
   "cell_type": "code",
   "execution_count": 27,
   "id": "97ee4e2c",
   "metadata": {},
   "outputs": [
    {
     "name": "stdout",
     "output_type": "stream",
     "text": [
      "Enter Number: 10\n",
      "Enter Number: 20\n",
      "Enter Number: 30\n",
      "Enter Number: 40\n",
      "Enter Number: 50\n",
      "Summation = 150\n"
     ]
    }
   ],
   "source": [
    "i = 1\n",
    "s = 0\n",
    "\n",
    "while i <= 5:\n",
    "    a = int(input(\"Enter Number: \"))\n",
    "    s = s + a\n",
    "    i += 1\n",
    "\n",
    "print(\"Summation =\", s)"
   ]
  },
  {
   "cell_type": "markdown",
   "id": "346fb280",
   "metadata": {},
   "source": [
    "# 5 While loop\n",
    "\n",
    "**WAP to enter a number from user and print reverse of it.**\n",
    "\n",
    "153\n",
    "\n",
    "351"
   ]
  },
  {
   "cell_type": "code",
   "execution_count": null,
   "id": "b709db00",
   "metadata": {},
   "outputs": [],
   "source": [
    "153 % 10  = 3\n",
    "153 // 10 = 15\n",
    "\n",
    "15 % 10  = 5\n",
    "15 // 10 = 1\n",
    "\n",
    "1 % 10 = 1\n",
    "1 // 10 = 0"
   ]
  },
  {
   "cell_type": "code",
   "execution_count": 2,
   "id": "8e12c12a",
   "metadata": {},
   "outputs": [
    {
     "name": "stdout",
     "output_type": "stream",
     "text": [
      "Enter a Number: 12345\n",
      "54321"
     ]
    }
   ],
   "source": [
    "n = int(input(\"Enter a Number: \"))\n",
    "\n",
    "while n > 0:              # n = 153, 15, 1\n",
    "    r = n % 10            # r = 3, 5, 1\n",
    "    print(r, end='')      # 351\n",
    "    n = n // 10           # n = 15, 1, 0"
   ]
  },
  {
   "cell_type": "markdown",
   "id": "ce28eaa4",
   "metadata": {},
   "source": [
    "**WAP to enter a number from user and print sum of its individual digits**\n",
    "\n",
    "153\n",
    "\n",
    "1+5+3 = 9\n"
   ]
  },
  {
   "cell_type": "code",
   "execution_count": null,
   "id": "9610b179",
   "metadata": {},
   "outputs": [],
   "source": [
    "0\n",
    "3 = s\n",
    "5 + s = s\n",
    "1 + s = s"
   ]
  },
  {
   "cell_type": "code",
   "execution_count": 5,
   "id": "a143f963",
   "metadata": {},
   "outputs": [
    {
     "name": "stdout",
     "output_type": "stream",
     "text": [
      "Enter a Number: 121\n",
      "Sum = 4\n"
     ]
    }
   ],
   "source": [
    "n = int(input(\"Enter a Number: \"))\n",
    "s = 0\n",
    "\n",
    "while n > 0:              # n = 153, 15, 1\n",
    "    r = n % 10            # r = 3, 5, 1\n",
    "    s = s + r             # s = 0, 3, 8, 9\n",
    "    n = n // 10           # n = 15, 1, 0\n",
    "\n",
    "print(\"Sum =\", s)"
   ]
  },
  {
   "cell_type": "markdown",
   "id": "375d25b0",
   "metadata": {},
   "source": [
    "### reverse of the number"
   ]
  },
  {
   "cell_type": "code",
   "execution_count": 6,
   "id": "280d2804",
   "metadata": {},
   "outputs": [
    {
     "name": "stdout",
     "output_type": "stream",
     "text": [
      "Enter a Number: 153\n",
      "Reverse = 351\n",
      "702\n"
     ]
    }
   ],
   "source": [
    "n = int(input(\"Enter a Number: \"))\n",
    "s = 0\n",
    "\n",
    "while n > 0:              # n = 153, 15, 1\n",
    "    r = n % 10            # r = 3, 5, 1\n",
    "    s = s * 10 + r        # s = 0, 3, 35, 351\n",
    "    n = n // 10           # n = 15, 1, 0\n",
    "\n",
    "print(\"Reverse =\", s)\n",
    "print(s * 2)"
   ]
  },
  {
   "cell_type": "markdown",
   "id": "cfb33b81",
   "metadata": {},
   "source": [
    "**WAP to enter  a number form user and check if if is palindrome or not**\n",
    "\n",
    "153 <=> 351 - not a palindrome\n",
    "\n",
    "121 <=> 121 - palindrome"
   ]
  },
  {
   "cell_type": "code",
   "execution_count": 11,
   "id": "1d77a407",
   "metadata": {},
   "outputs": [
    {
     "name": "stdout",
     "output_type": "stream",
     "text": [
      "Enter a Number: 12321\n",
      "Palindrome\n"
     ]
    }
   ],
   "source": [
    "n = int(input(\"Enter a Number: \"))\n",
    "t = n\n",
    "s = 0\n",
    "\n",
    "while n > 0:              # n = 153, 15, 1\n",
    "    r = n % 10            # r = 3, 5, 1\n",
    "    s = s * 10 + r        # s = 0, 3, 35, 351\n",
    "    n = n // 10           # n = 15, 1, 0\n",
    "\n",
    "if s == t:\n",
    "    print(\"Palindrome\")\n",
    "else:\n",
    "    print(\"Not a Palindrome\")"
   ]
  },
  {
   "cell_type": "markdown",
   "id": "de262482",
   "metadata": {},
   "source": [
    "**WAP to enter a number from user and check if it is armstrong number or not**\n",
    "\n",
    "153 -> cube(1) + cube(5) + cube(3) -> 153\n",
    "\n",
    "370 -> \n",
    "\n",
    "371"
   ]
  },
  {
   "cell_type": "code",
   "execution_count": 14,
   "id": "8aa72e2f",
   "metadata": {},
   "outputs": [
    {
     "name": "stdout",
     "output_type": "stream",
     "text": [
      "Enter a Number: 370\n",
      "Armstrong\n"
     ]
    }
   ],
   "source": [
    "n = int(input(\"Enter a Number: \"))\n",
    "t = n\n",
    "s = 0\n",
    "\n",
    "while n > 0:              # n = 153, 15, 1\n",
    "    r = n % 10            # r = 3, 5, 1\n",
    "    s = s + r*r*r         # s = 0, 27, 152, 153\n",
    "    n = n // 10           # n = 15, 1, 0\n",
    "\n",
    "if s == t:\n",
    "    print(\"Armstrong\")\n",
    "else:\n",
    "    print(\"Not an Armstrong\")"
   ]
  },
  {
   "cell_type": "markdown",
   "id": "48fa0951",
   "metadata": {},
   "source": [
    "**WAP to enter a number from user and print its individual digits on seperate line**\n",
    "\n",
    "153\n",
    "\n",
    "1\n",
    "\n",
    "5\n",
    "\n",
    "3"
   ]
  },
  {
   "cell_type": "code",
   "execution_count": 15,
   "id": "a5b05c88",
   "metadata": {},
   "outputs": [
    {
     "name": "stdout",
     "output_type": "stream",
     "text": [
      "Enter a Number: 153\n",
      "3\n",
      "5\n",
      "1\n"
     ]
    }
   ],
   "source": [
    "n = int(input(\"Enter a Number: \"))\n",
    "\n",
    "while n > 0:              # n = 153, 15, 1\n",
    "    r = n % 10            # r = 3, 5, 1\n",
    "    print(r) \n",
    "    n = n // 10           # n = 15, 1, 0"
   ]
  },
  {
   "cell_type": "code",
   "execution_count": 16,
   "id": "c8be09d6",
   "metadata": {},
   "outputs": [
    {
     "name": "stdout",
     "output_type": "stream",
     "text": [
      "Enter a Number: 153\n",
      "1\n",
      "5\n",
      "3\n"
     ]
    }
   ],
   "source": [
    "n = int(input(\"Enter a Number: \"))\n",
    "s = 0\n",
    "\n",
    "while n > 0:              # n = 153, 15, 1\n",
    "    r = n % 10            # r = 3, 5, 1\n",
    "    s = s * 10 + r \n",
    "    n = n // 10           # n = 15, 1, 0\n",
    "    \n",
    "while s > 0:\n",
    "    r = s % 10\n",
    "    print(r)\n",
    "    s = s // 10"
   ]
  },
  {
   "cell_type": "markdown",
   "id": "5aaaae6c",
   "metadata": {},
   "source": [
    "**WAP to enter a number from user and print individual digits in character format**\n",
    "\n",
    "153\n",
    "\n",
    "one\n",
    "\n",
    "five\n",
    "\n",
    "three"
   ]
  },
  {
   "cell_type": "code",
   "execution_count": 18,
   "id": "8e363b17",
   "metadata": {},
   "outputs": [
    {
     "name": "stdout",
     "output_type": "stream",
     "text": [
      "Enter a Number: 123\n",
      "One\n",
      "Two\n",
      "Three\n"
     ]
    }
   ],
   "source": [
    "n = int(input(\"Enter a Number: \"))\n",
    "s = 0\n",
    "\n",
    "while n > 0:              # n = 153, 15, 1\n",
    "    r = n % 10            # r = 3, 5, 1\n",
    "    s = s * 10 + r \n",
    "    n = n // 10           # n = 15, 1, 0\n",
    "    \n",
    "while s > 0:\n",
    "    r = s % 10\n",
    "    if r == 1:\n",
    "        print(\"One\")\n",
    "    elif r == 2:\n",
    "        print(\"Two\")\n",
    "    elif r == 3:\n",
    "        print(\"Three\")\n",
    "    elif r == 4:\n",
    "        print(\"Four\")\n",
    "    elif r == 5:\n",
    "        print(\"Five\")\n",
    "    s = s // 10"
   ]
  },
  {
   "cell_type": "markdown",
   "id": "a42a4efe",
   "metadata": {},
   "source": [
    "**WAP to print factorial of a number**\n",
    "\n",
    "!3 -> 3 * 2 * 1 = 6\n",
    "\n",
    "!5 -> 5 * 4 * 3 * 2 * 1 = 120"
   ]
  },
  {
   "cell_type": "code",
   "execution_count": null,
   "id": "e5525a1c",
   "metadata": {},
   "outputs": [],
   "source": []
  }
 ],
 "metadata": {
  "kernelspec": {
   "display_name": "Python 3 (ipykernel)",
   "language": "python",
   "name": "python3"
  },
  "language_info": {
   "codemirror_mode": {
    "name": "ipython",
    "version": 3
   },
   "file_extension": ".py",
   "mimetype": "text/x-python",
   "name": "python",
   "nbconvert_exporter": "python",
   "pygments_lexer": "ipython3",
   "version": "3.9.12"
  }
 },
 "nbformat": 4,
 "nbformat_minor": 5
}
