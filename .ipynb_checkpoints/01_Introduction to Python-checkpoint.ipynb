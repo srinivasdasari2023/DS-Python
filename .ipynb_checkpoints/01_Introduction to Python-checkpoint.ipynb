{
 "cells": [
  {
   "cell_type": "code",
   "execution_count": null,
   "id": "f0db9246",
   "metadata": {},
   "outputs": [],
   "source": [
    "session structure\n",
    "- work on topics/sub-topics\n",
    "- practice questions\n",
    "    - concept based questions\n",
    "    - basic sheets/warmup questions\n",
    "    - algorithm based questions\n",
    "- discussions/enritchment"
   ]
  },
  {
   "cell_type": "markdown",
   "id": "cb80f6ca",
   "metadata": {},
   "source": [
    "# Python Basics"
   ]
  },
  {
   "cell_type": "code",
   "execution_count": 1,
   "id": "baa99f0a",
   "metadata": {},
   "outputs": [
    {
     "name": "stdout",
     "output_type": "stream",
     "text": [
      "Hello World\n"
     ]
    }
   ],
   "source": [
    "print(\"Hello World\")"
   ]
  },
  {
   "cell_type": "code",
   "execution_count": 2,
   "id": "ced1ee16",
   "metadata": {},
   "outputs": [
    {
     "name": "stdout",
     "output_type": "stream",
     "text": [
      "Hello\n",
      "World\n"
     ]
    }
   ],
   "source": [
    "print(\"Hello\")\n",
    "print(\"World\")"
   ]
  },
  {
   "cell_type": "code",
   "execution_count": 3,
   "id": "7ee63fba",
   "metadata": {},
   "outputs": [
    {
     "name": "stdout",
     "output_type": "stream",
     "text": [
      "Hello\n",
      "World\n"
     ]
    }
   ],
   "source": [
    "# new line character - \\n\n",
    "\n",
    "print(\"Hello\\nWorld\")"
   ]
  },
  {
   "cell_type": "code",
   "execution_count": 4,
   "id": "91cf8b64",
   "metadata": {},
   "outputs": [
    {
     "name": "stdout",
     "output_type": "stream",
     "text": [
      "Hello\tWorld\n"
     ]
    }
   ],
   "source": [
    "# horizontal tab - \\t\n",
    "\n",
    "print(\"Hello\\tWorld\")"
   ]
  },
  {
   "cell_type": "markdown",
   "id": "ba0cacfd",
   "metadata": {},
   "source": [
    "# Questions\n",
    "\n",
    "**WAP to print following output**"
   ]
  },
  {
   "cell_type": "code",
   "execution_count": null,
   "id": "72427f79",
   "metadata": {},
   "outputs": [],
   "source": [
    "name\n",
    "    company name\n",
    "                country"
   ]
  },
  {
   "cell_type": "code",
   "execution_count": 5,
   "id": "94f434ac",
   "metadata": {},
   "outputs": [
    {
     "name": "stdout",
     "output_type": "stream",
     "text": [
      "Himanshu\n",
      "\tGoogle\n",
      "\t\tIndia\n"
     ]
    }
   ],
   "source": [
    "print(\"Himanshu\\n\\tGoogle\\n\\t\\tIndia\")"
   ]
  },
  {
   "cell_type": "code",
   "execution_count": null,
   "id": "2365cd55",
   "metadata": {},
   "outputs": [],
   "source": [
    "*\n",
    "**\n",
    "***"
   ]
  },
  {
   "cell_type": "code",
   "execution_count": 6,
   "id": "19c97bfe",
   "metadata": {},
   "outputs": [
    {
     "name": "stdout",
     "output_type": "stream",
     "text": [
      "*\n",
      "**\n",
      "***\n"
     ]
    }
   ],
   "source": [
    "print(\"*\\n**\\n***\")"
   ]
  },
  {
   "cell_type": "code",
   "execution_count": null,
   "id": "e00eea87",
   "metadata": {},
   "outputs": [],
   "source": [
    "--4--*\n",
    "*----8----*\n",
    "--4--*"
   ]
  },
  {
   "cell_type": "code",
   "execution_count": 7,
   "id": "c8f7d924",
   "metadata": {},
   "outputs": [
    {
     "name": "stdout",
     "output_type": "stream",
     "text": [
      "\t/2\n"
     ]
    }
   ],
   "source": [
    "print(\"\\t/2\")"
   ]
  },
  {
   "cell_type": "code",
   "execution_count": 8,
   "id": "7f03e602",
   "metadata": {},
   "outputs": [
    {
     "name": "stdout",
     "output_type": "stream",
     "text": [
      "    *\n",
      "*\t*\n",
      "    *\n"
     ]
    }
   ],
   "source": [
    "print(\"    *\\n*\\t*\\n    *\")"
   ]
  },
  {
   "cell_type": "markdown",
   "id": "9b46414d",
   "metadata": {},
   "source": [
    "# Variables and Data Types"
   ]
  },
  {
   "cell_type": "code",
   "execution_count": 10,
   "id": "c781db95",
   "metadata": {},
   "outputs": [
    {
     "name": "stdout",
     "output_type": "stream",
     "text": [
      "10\n"
     ]
    }
   ],
   "source": [
    "a = 10\n",
    "\n",
    "print(a)"
   ]
  },
  {
   "cell_type": "code",
   "execution_count": 11,
   "id": "3f706634",
   "metadata": {},
   "outputs": [],
   "source": [
    "# int a = 10;"
   ]
  },
  {
   "cell_type": "code",
   "execution_count": 12,
   "id": "5245d98a",
   "metadata": {},
   "outputs": [
    {
     "name": "stdout",
     "output_type": "stream",
     "text": [
      "15\n",
      "10\n"
     ]
    }
   ],
   "source": [
    "a = 10\n",
    "\n",
    "print(a + 5)\n",
    "\n",
    "print(a)"
   ]
  },
  {
   "cell_type": "code",
   "execution_count": 13,
   "id": "bf0d6fc0",
   "metadata": {},
   "outputs": [
    {
     "name": "stdout",
     "output_type": "stream",
     "text": [
      "20\n"
     ]
    }
   ],
   "source": [
    "a = 10\n",
    "\n",
    "a = 20\n",
    "\n",
    "print(a)"
   ]
  },
  {
   "cell_type": "code",
   "execution_count": 14,
   "id": "be4f787f",
   "metadata": {},
   "outputs": [
    {
     "name": "stdout",
     "output_type": "stream",
     "text": [
      "10\n",
      "<class 'int'>\n"
     ]
    }
   ],
   "source": [
    "a = 10\n",
    "\n",
    "print(a)\n",
    "\n",
    "print(type(a))"
   ]
  },
  {
   "cell_type": "code",
   "execution_count": 15,
   "id": "5aa838e7",
   "metadata": {},
   "outputs": [
    {
     "name": "stdout",
     "output_type": "stream",
     "text": [
      "10.65\n",
      "<class 'float'>\n"
     ]
    }
   ],
   "source": [
    "b = 10.65\n",
    "\n",
    "print(b)\n",
    "\n",
    "print(type(b))"
   ]
  },
  {
   "cell_type": "code",
   "execution_count": 16,
   "id": "d727f7ef",
   "metadata": {},
   "outputs": [
    {
     "name": "stdout",
     "output_type": "stream",
     "text": [
      "India\n",
      "<class 'str'>\n"
     ]
    }
   ],
   "source": [
    "c = \"India\"\n",
    "\n",
    "print(c)\n",
    "\n",
    "print(type(c))"
   ]
  },
  {
   "cell_type": "code",
   "execution_count": 17,
   "id": "678e07c7",
   "metadata": {},
   "outputs": [
    {
     "name": "stdout",
     "output_type": "stream",
     "text": [
      "<class 'str'>\n"
     ]
    }
   ],
   "source": [
    "d = \"A\"\n",
    "\n",
    "print(type(d))"
   ]
  },
  {
   "cell_type": "markdown",
   "id": "b9d87137",
   "metadata": {},
   "source": [
    "# Input Function\n",
    "\n",
    "getting values from user"
   ]
  },
  {
   "cell_type": "code",
   "execution_count": 18,
   "id": "6ff60820",
   "metadata": {},
   "outputs": [
    {
     "name": "stdout",
     "output_type": "stream",
     "text": [
      "100\n",
      "100\n"
     ]
    }
   ],
   "source": [
    "a = input()\n",
    "\n",
    "print(a)"
   ]
  },
  {
   "cell_type": "code",
   "execution_count": 19,
   "id": "eed562be",
   "metadata": {},
   "outputs": [
    {
     "name": "stdout",
     "output_type": "stream",
     "text": [
      "Enter a number50\n",
      "50\n"
     ]
    }
   ],
   "source": [
    "a = input(\"Enter a number\")\n",
    "\n",
    "print(a)"
   ]
  },
  {
   "cell_type": "code",
   "execution_count": 20,
   "id": "71d34a09",
   "metadata": {},
   "outputs": [
    {
     "name": "stdout",
     "output_type": "stream",
     "text": [
      "Enter your Name: Himanshu\n",
      "Hello Himanshu\n"
     ]
    }
   ],
   "source": [
    "name = input(\"Enter your Name: \")\n",
    "\n",
    "print(\"Hello\", name)"
   ]
  },
  {
   "cell_type": "markdown",
   "id": "6871570c",
   "metadata": {},
   "source": [
    "# Type conversion"
   ]
  },
  {
   "cell_type": "code",
   "execution_count": 21,
   "id": "8b20c936",
   "metadata": {},
   "outputs": [
    {
     "name": "stdout",
     "output_type": "stream",
     "text": [
      "10.56\n",
      "<class 'float'>\n",
      "10\n",
      "<class 'int'>\n"
     ]
    }
   ],
   "source": [
    "a = 10.56\n",
    "\n",
    "print(a)\n",
    "\n",
    "print(type(a))\n",
    "\n",
    "b = int(a)\n",
    "\n",
    "print(b)\n",
    "\n",
    "print(type(b))"
   ]
  },
  {
   "cell_type": "code",
   "execution_count": 22,
   "id": "3160f98d",
   "metadata": {},
   "outputs": [
    {
     "name": "stdout",
     "output_type": "stream",
     "text": [
      "10\n",
      "<class 'str'>\n",
      "10.0\n",
      "<class 'float'>\n"
     ]
    }
   ],
   "source": [
    "a = \"10\"\n",
    "\n",
    "print(a)\n",
    "\n",
    "print(type(a))\n",
    "\n",
    "b = float(a)\n",
    "\n",
    "print(b)\n",
    "\n",
    "print(type(b))"
   ]
  },
  {
   "cell_type": "markdown",
   "id": "6aa08d19",
   "metadata": {},
   "source": [
    "# Question\n",
    "\n",
    "**WAP to get 2 values from user and print addition of them.**"
   ]
  },
  {
   "cell_type": "code",
   "execution_count": 23,
   "id": "59db447a",
   "metadata": {},
   "outputs": [
    {
     "name": "stdout",
     "output_type": "stream",
     "text": [
      "Enter 1st value: 10\n",
      "Enter 2nd Value: 20\n",
      "1020\n"
     ]
    }
   ],
   "source": [
    "a = input(\"Enter 1st value: \")\n",
    "b = input(\"Enter 2nd Value: \")\n",
    "\n",
    "c = a + b\n",
    "\n",
    "print(c)"
   ]
  },
  {
   "cell_type": "code",
   "execution_count": 24,
   "id": "af4e38d6",
   "metadata": {},
   "outputs": [
    {
     "data": {
      "text/plain": [
       "'1020'"
      ]
     },
     "execution_count": 24,
     "metadata": {},
     "output_type": "execute_result"
    }
   ],
   "source": [
    "\"10\" + \"20\""
   ]
  },
  {
   "cell_type": "code",
   "execution_count": 25,
   "id": "9794ef6b",
   "metadata": {},
   "outputs": [
    {
     "data": {
      "text/plain": [
       "30"
      ]
     },
     "execution_count": 25,
     "metadata": {},
     "output_type": "execute_result"
    }
   ],
   "source": [
    "10 + 20"
   ]
  },
  {
   "cell_type": "code",
   "execution_count": 26,
   "id": "72a14331",
   "metadata": {},
   "outputs": [
    {
     "name": "stdout",
     "output_type": "stream",
     "text": [
      "<class 'str'>\n"
     ]
    }
   ],
   "source": [
    "print(type(a))"
   ]
  },
  {
   "cell_type": "code",
   "execution_count": 27,
   "id": "18e38566",
   "metadata": {},
   "outputs": [
    {
     "name": "stdout",
     "output_type": "stream",
     "text": [
      "Enter 1st value: 10\n",
      "Enter 2nd Value: 20\n",
      "30\n"
     ]
    }
   ],
   "source": [
    "a = int(input(\"Enter 1st value: \"))\n",
    "b = int(input(\"Enter 2nd Value: \"))\n",
    "\n",
    "c = a + b\n",
    "\n",
    "print(c)"
   ]
  },
  {
   "cell_type": "code",
   "execution_count": 28,
   "id": "69430910",
   "metadata": {},
   "outputs": [
    {
     "name": "stdout",
     "output_type": "stream",
     "text": [
      "Enter 1st value: 10\n",
      "Enter 2nd Value: 20\n",
      "Addition = 30\n"
     ]
    }
   ],
   "source": [
    "a = int(input(\"Enter 1st value: \"))\n",
    "b = int(input(\"Enter 2nd Value: \"))\n",
    "\n",
    "c = a + b\n",
    "\n",
    "print(\"Addition =\", c)"
   ]
  },
  {
   "cell_type": "markdown",
   "id": "c619ff33",
   "metadata": {},
   "source": [
    "**WAP to enter 2 values from user and print addition, substraction, multiplication and division with proper message**"
   ]
  },
  {
   "cell_type": "code",
   "execution_count": null,
   "id": "a61ebced",
   "metadata": {},
   "outputs": [],
   "source": []
  },
  {
   "cell_type": "code",
   "execution_count": null,
   "id": "7420be61",
   "metadata": {},
   "outputs": [],
   "source": []
  }
 ],
 "metadata": {
  "kernelspec": {
   "display_name": "Python 3 (ipykernel)",
   "language": "python",
   "name": "python3"
  },
  "language_info": {
   "codemirror_mode": {
    "name": "ipython",
    "version": 3
   },
   "file_extension": ".py",
   "mimetype": "text/x-python",
   "name": "python",
   "nbconvert_exporter": "python",
   "pygments_lexer": "ipython3",
   "version": "3.9.12"
  }
 },
 "nbformat": 4,
 "nbformat_minor": 5
}
