{
 "cells": [
  {
   "cell_type": "markdown",
   "id": "e7b312e7",
   "metadata": {},
   "source": [
    "# Operators"
   ]
  },
  {
   "cell_type": "code",
   "execution_count": 1,
   "id": "66fb2341",
   "metadata": {},
   "outputs": [
    {
     "name": "stdout",
     "output_type": "stream",
     "text": [
      "Hello\r",
      "World\n"
     ]
    }
   ],
   "source": [
    "print(\"Hello\\rWorld\")"
   ]
  },
  {
   "cell_type": "code",
   "execution_count": 2,
   "id": "54a9ebcc",
   "metadata": {},
   "outputs": [
    {
     "name": "stdout",
     "output_type": "stream",
     "text": [
      "This is my first Hello\r",
      "World\n"
     ]
    }
   ],
   "source": [
    "print(\"This is my first Hello\\rWorld\")"
   ]
  },
  {
   "cell_type": "markdown",
   "id": "815f8f8f",
   "metadata": {},
   "source": [
    "### Arithmetic Operators"
   ]
  },
  {
   "cell_type": "code",
   "execution_count": null,
   "id": "4f9d2c06",
   "metadata": {},
   "outputs": [],
   "source": [
    "+, -, *, /, %, //, **"
   ]
  },
  {
   "cell_type": "code",
   "execution_count": 3,
   "id": "8dbd736f",
   "metadata": {},
   "outputs": [
    {
     "data": {
      "text/plain": [
       "15"
      ]
     },
     "execution_count": 3,
     "metadata": {},
     "output_type": "execute_result"
    }
   ],
   "source": [
    "10 + 5"
   ]
  },
  {
   "cell_type": "code",
   "execution_count": 4,
   "id": "65ee6695",
   "metadata": {},
   "outputs": [
    {
     "data": {
      "text/plain": [
       "1"
      ]
     },
     "execution_count": 4,
     "metadata": {},
     "output_type": "execute_result"
    }
   ],
   "source": [
    "# modulo\n",
    "# 7%2 -> reminder\n",
    "\n",
    "7 % 2"
   ]
  },
  {
   "cell_type": "code",
   "execution_count": 5,
   "id": "5c254b0a",
   "metadata": {},
   "outputs": [
    {
     "data": {
      "text/plain": [
       "3"
      ]
     },
     "execution_count": 5,
     "metadata": {},
     "output_type": "execute_result"
    }
   ],
   "source": [
    "11 % 4"
   ]
  },
  {
   "cell_type": "code",
   "execution_count": 6,
   "id": "49c520ff",
   "metadata": {},
   "outputs": [
    {
     "data": {
      "text/plain": [
       "0"
      ]
     },
     "execution_count": 6,
     "metadata": {},
     "output_type": "execute_result"
    }
   ],
   "source": [
    "15 % 3"
   ]
  },
  {
   "cell_type": "code",
   "execution_count": 7,
   "id": "aac6a1ac",
   "metadata": {},
   "outputs": [
    {
     "data": {
      "text/plain": [
       "3"
      ]
     },
     "execution_count": 7,
     "metadata": {},
     "output_type": "execute_result"
    }
   ],
   "source": [
    "52 % 7"
   ]
  },
  {
   "cell_type": "code",
   "execution_count": 9,
   "id": "3c350a1a",
   "metadata": {},
   "outputs": [
    {
     "data": {
      "text/plain": [
       "2"
      ]
     },
     "execution_count": 9,
     "metadata": {},
     "output_type": "execute_result"
    }
   ],
   "source": [
    "# floor division\n",
    "# 11 // 4 -> integer value\n",
    "\n",
    "11 // 4"
   ]
  },
  {
   "cell_type": "code",
   "execution_count": null,
   "id": "7c9f4724",
   "metadata": {},
   "outputs": [],
   "source": [
    "4\n",
    "3.9\n",
    "3.5\n",
    "3.1\n",
    "3"
   ]
  },
  {
   "cell_type": "code",
   "execution_count": 10,
   "id": "30ed568b",
   "metadata": {},
   "outputs": [
    {
     "data": {
      "text/plain": [
       "3"
      ]
     },
     "execution_count": 10,
     "metadata": {},
     "output_type": "execute_result"
    }
   ],
   "source": [
    "7 // 2"
   ]
  },
  {
   "cell_type": "code",
   "execution_count": 11,
   "id": "b10bc3a0",
   "metadata": {},
   "outputs": [
    {
     "data": {
      "text/plain": [
       "8"
      ]
     },
     "execution_count": 11,
     "metadata": {},
     "output_type": "execute_result"
    }
   ],
   "source": [
    "# exponents\n",
    "# 2 ** 3 -> 2 to the power 3\n",
    "\n",
    "2 ** 3"
   ]
  },
  {
   "cell_type": "code",
   "execution_count": 12,
   "id": "3d058b09",
   "metadata": {},
   "outputs": [
    {
     "data": {
      "text/plain": [
       "343"
      ]
     },
     "execution_count": 12,
     "metadata": {},
     "output_type": "execute_result"
    }
   ],
   "source": [
    "7 ** 3"
   ]
  },
  {
   "cell_type": "code",
   "execution_count": 13,
   "id": "66f02d81",
   "metadata": {},
   "outputs": [
    {
     "data": {
      "text/plain": [
       "343"
      ]
     },
     "execution_count": 13,
     "metadata": {},
     "output_type": "execute_result"
    }
   ],
   "source": [
    "7 * 7 * 7"
   ]
  },
  {
   "cell_type": "markdown",
   "id": "309f760e",
   "metadata": {},
   "source": [
    "### Boolean Operators"
   ]
  },
  {
   "cell_type": "code",
   "execution_count": null,
   "id": "93051d0e",
   "metadata": {},
   "outputs": [],
   "source": [
    "True   # 1, charge,  high voltage , on\n",
    "False  # 0, no charge, low voltage, off"
   ]
  },
  {
   "cell_type": "markdown",
   "id": "25798639",
   "metadata": {},
   "source": [
    "### Relational Operators"
   ]
  },
  {
   "cell_type": "code",
   "execution_count": null,
   "id": "cfe3ca14",
   "metadata": {},
   "outputs": [],
   "source": [
    ">, <, >=, <=, ==, !="
   ]
  },
  {
   "cell_type": "code",
   "execution_count": 14,
   "id": "871e33a9",
   "metadata": {},
   "outputs": [
    {
     "data": {
      "text/plain": [
       "True"
      ]
     },
     "execution_count": 14,
     "metadata": {},
     "output_type": "execute_result"
    }
   ],
   "source": [
    "10 > 5 "
   ]
  },
  {
   "cell_type": "code",
   "execution_count": 15,
   "id": "4ad179a9",
   "metadata": {},
   "outputs": [
    {
     "data": {
      "text/plain": [
       "False"
      ]
     },
     "execution_count": 15,
     "metadata": {},
     "output_type": "execute_result"
    }
   ],
   "source": [
    "11 > 66"
   ]
  },
  {
   "cell_type": "code",
   "execution_count": 16,
   "id": "02e6e254",
   "metadata": {},
   "outputs": [
    {
     "data": {
      "text/plain": [
       "True"
      ]
     },
     "execution_count": 16,
     "metadata": {},
     "output_type": "execute_result"
    }
   ],
   "source": [
    "10 >= 10"
   ]
  },
  {
   "cell_type": "code",
   "execution_count": 17,
   "id": "d7aa25d3",
   "metadata": {},
   "outputs": [
    {
     "data": {
      "text/plain": [
       "True"
      ]
     },
     "execution_count": 17,
     "metadata": {},
     "output_type": "execute_result"
    }
   ],
   "source": [
    "10 == 10"
   ]
  },
  {
   "cell_type": "code",
   "execution_count": 18,
   "id": "85a27576",
   "metadata": {},
   "outputs": [
    {
     "data": {
      "text/plain": [
       "False"
      ]
     },
     "execution_count": 18,
     "metadata": {},
     "output_type": "execute_result"
    }
   ],
   "source": [
    "11 == 10"
   ]
  },
  {
   "cell_type": "code",
   "execution_count": 19,
   "id": "09e18b8e",
   "metadata": {},
   "outputs": [
    {
     "data": {
      "text/plain": [
       "False"
      ]
     },
     "execution_count": 19,
     "metadata": {},
     "output_type": "execute_result"
    }
   ],
   "source": [
    "10 != 10"
   ]
  },
  {
   "cell_type": "code",
   "execution_count": 20,
   "id": "3ef0ac72",
   "metadata": {},
   "outputs": [
    {
     "data": {
      "text/plain": [
       "True"
      ]
     },
     "execution_count": 20,
     "metadata": {},
     "output_type": "execute_result"
    }
   ],
   "source": [
    "11 != 7"
   ]
  },
  {
   "cell_type": "markdown",
   "id": "89fb964a",
   "metadata": {},
   "source": [
    "### Logical Operators"
   ]
  },
  {
   "cell_type": "code",
   "execution_count": null,
   "id": "4f6bcadc",
   "metadata": {},
   "outputs": [],
   "source": [
    "not\n",
    "and\n",
    "or"
   ]
  },
  {
   "cell_type": "code",
   "execution_count": 21,
   "id": "48ba606c",
   "metadata": {},
   "outputs": [
    {
     "name": "stdout",
     "output_type": "stream",
     "text": [
      "False\n"
     ]
    }
   ],
   "source": [
    "print(not True)"
   ]
  },
  {
   "cell_type": "code",
   "execution_count": 22,
   "id": "e57f6017",
   "metadata": {},
   "outputs": [
    {
     "name": "stdout",
     "output_type": "stream",
     "text": [
      "True\n"
     ]
    }
   ],
   "source": [
    "print(not False)"
   ]
  },
  {
   "cell_type": "code",
   "execution_count": null,
   "id": "aff94a5d",
   "metadata": {},
   "outputs": [],
   "source": [
    "True  -> 1\n",
    "False -> 0"
   ]
  },
  {
   "cell_type": "code",
   "execution_count": null,
   "id": "743f681c",
   "metadata": {},
   "outputs": [],
   "source": [
    "Truth Table for and\n",
    "\n",
    "0 and 0 -> 0\n",
    "0 and 1 -> 0\n",
    "1 and 0 -> 0\n",
    "1 and 1 -> 1"
   ]
  },
  {
   "cell_type": "code",
   "execution_count": 23,
   "id": "6f8f4571",
   "metadata": {},
   "outputs": [
    {
     "name": "stdout",
     "output_type": "stream",
     "text": [
      "False\n"
     ]
    }
   ],
   "source": [
    "print(True and False and True and True)"
   ]
  },
  {
   "cell_type": "code",
   "execution_count": 24,
   "id": "d8581d29",
   "metadata": {},
   "outputs": [
    {
     "name": "stdout",
     "output_type": "stream",
     "text": [
      "True\n"
     ]
    }
   ],
   "source": [
    "print(True and True and True)"
   ]
  },
  {
   "cell_type": "code",
   "execution_count": null,
   "id": "2d8200a0",
   "metadata": {},
   "outputs": [],
   "source": [
    "Truth Table for or\n",
    "\n",
    "0 or 0 -> 0\n",
    "0 or 1 -> 1\n",
    "1 or 0 -> 1\n",
    "1 or 1 -> 1"
   ]
  },
  {
   "cell_type": "code",
   "execution_count": 25,
   "id": "667ce086",
   "metadata": {},
   "outputs": [
    {
     "name": "stdout",
     "output_type": "stream",
     "text": [
      "True\n"
     ]
    }
   ],
   "source": [
    "print(True or False or True)"
   ]
  },
  {
   "cell_type": "code",
   "execution_count": 26,
   "id": "3fd06445",
   "metadata": {},
   "outputs": [
    {
     "name": "stdout",
     "output_type": "stream",
     "text": [
      "False\n"
     ]
    }
   ],
   "source": [
    "print(False or False or False)"
   ]
  },
  {
   "cell_type": "code",
   "execution_count": 27,
   "id": "a278dce6",
   "metadata": {},
   "outputs": [
    {
     "name": "stdout",
     "output_type": "stream",
     "text": [
      "True\n"
     ]
    }
   ],
   "source": [
    "print(True and False and not True or not False and not False or True or False)\n",
    "#                         False        True          True\n",
    "#        False\n",
    "#                 False                      True"
   ]
  },
  {
   "cell_type": "markdown",
   "id": "33447ae0",
   "metadata": {},
   "source": [
    "### Bitwise Operators"
   ]
  },
  {
   "cell_type": "code",
   "execution_count": null,
   "id": "1064ddfc",
   "metadata": {},
   "outputs": [],
   "source": [
    "&\n",
    "|\n",
    "^\n",
    "<<\n",
    ">>"
   ]
  },
  {
   "cell_type": "markdown",
   "id": "aacf2f2c",
   "metadata": {},
   "source": [
    "#### Bitwise &"
   ]
  },
  {
   "cell_type": "code",
   "execution_count": null,
   "id": "6e2f0681",
   "metadata": {},
   "outputs": [],
   "source": [
    "Truth Table for &\n",
    "\n",
    "0 & 0 -> 0\n",
    "0 & 1 -> 0\n",
    "1 & 0 -> 0\n",
    "1 & 1 -> 1"
   ]
  },
  {
   "cell_type": "code",
   "execution_count": 28,
   "id": "ffc58d66",
   "metadata": {},
   "outputs": [
    {
     "name": "stdout",
     "output_type": "stream",
     "text": [
      "0\n"
     ]
    }
   ],
   "source": [
    "print(8 & 2)"
   ]
  },
  {
   "cell_type": "code",
   "execution_count": null,
   "id": "89e107a1",
   "metadata": {},
   "outputs": [],
   "source": [
    "# how to calculate binary\n",
    "\n",
    "1024    512    256    128    64    32    16    8    4    2    1\n",
    "                                               1    0    0    0\n",
    "                                                         1    0\n",
    "                                               1    0    1    1\n",
    "                                                    1    1    1\n",
    "                                               0    0    1    1\n",
    "                                          1    1    1    1    1"
   ]
  },
  {
   "cell_type": "code",
   "execution_count": null,
   "id": "d0ddb428",
   "metadata": {},
   "outputs": [],
   "source": [
    "  1000 -> 8\n",
    "  0010 -> 2\n",
    "& 0000 -> 0"
   ]
  },
  {
   "cell_type": "code",
   "execution_count": 29,
   "id": "e7f1aeac",
   "metadata": {},
   "outputs": [
    {
     "name": "stdout",
     "output_type": "stream",
     "text": [
      "3\n"
     ]
    }
   ],
   "source": [
    "print(11 & 7)"
   ]
  },
  {
   "cell_type": "code",
   "execution_count": null,
   "id": "b4d8645f",
   "metadata": {},
   "outputs": [],
   "source": [
    "    1011\n",
    "&   0111\n",
    "    0011 -> 3"
   ]
  },
  {
   "cell_type": "code",
   "execution_count": 30,
   "id": "6c7223ca",
   "metadata": {},
   "outputs": [
    {
     "name": "stdout",
     "output_type": "stream",
     "text": [
      "17\n"
     ]
    }
   ],
   "source": [
    "print(17 & 21)"
   ]
  },
  {
   "cell_type": "code",
   "execution_count": null,
   "id": "ccb1909d",
   "metadata": {},
   "outputs": [],
   "source": [
    "  10001\n",
    "  10101\n",
    "& 10001"
   ]
  },
  {
   "cell_type": "markdown",
   "id": "7971814f",
   "metadata": {},
   "source": [
    "#### Bitwise |"
   ]
  },
  {
   "cell_type": "code",
   "execution_count": null,
   "id": "81d578a3",
   "metadata": {},
   "outputs": [],
   "source": [
    "Truth Table for |\n",
    "\n",
    "0 | 0 -> 0\n",
    "0 | 1 -> 1\n",
    "1 | 0 -> 1\n",
    "1 | 1 -> 1"
   ]
  },
  {
   "cell_type": "code",
   "execution_count": 31,
   "id": "a35dc433",
   "metadata": {},
   "outputs": [
    {
     "name": "stdout",
     "output_type": "stream",
     "text": [
      "31\n"
     ]
    }
   ],
   "source": [
    "print(14 | 17)"
   ]
  },
  {
   "cell_type": "code",
   "execution_count": null,
   "id": "f059a6f4",
   "metadata": {},
   "outputs": [],
   "source": [
    "  01110\n",
    "  10001\n",
    "| 11111"
   ]
  },
  {
   "cell_type": "markdown",
   "id": "8c5a882d",
   "metadata": {},
   "source": [
    "#### Bitwise ^ (xor)"
   ]
  },
  {
   "cell_type": "code",
   "execution_count": null,
   "id": "9861a01d",
   "metadata": {},
   "outputs": [],
   "source": [
    "Truth Table for ^\n",
    "\n",
    "0 & 0 -> 0\n",
    "0 & 1 -> 1\n",
    "1 & 0 -> 1\n",
    "1 & 1 -> 0"
   ]
  },
  {
   "cell_type": "code",
   "execution_count": 32,
   "id": "b3a12198",
   "metadata": {},
   "outputs": [
    {
     "name": "stdout",
     "output_type": "stream",
     "text": [
      "59\n"
     ]
    }
   ],
   "source": [
    "print(27 ^ 32)"
   ]
  },
  {
   "cell_type": "code",
   "execution_count": null,
   "id": "122fc6ac",
   "metadata": {},
   "outputs": [],
   "source": [
    "  011011\n",
    "  100000\n",
    "^ 111011 -> 59"
   ]
  },
  {
   "cell_type": "markdown",
   "id": "4af5f8a7",
   "metadata": {},
   "source": [
    "#### Bitwise left shift <<"
   ]
  },
  {
   "cell_type": "code",
   "execution_count": 33,
   "id": "05097662",
   "metadata": {},
   "outputs": [
    {
     "name": "stdout",
     "output_type": "stream",
     "text": [
      "32\n"
     ]
    }
   ],
   "source": [
    "print(8 << 2)"
   ]
  },
  {
   "cell_type": "code",
   "execution_count": null,
   "id": "f08e14c5",
   "metadata": {},
   "outputs": [],
   "source": [
    "1  byte = 8 bits\n",
    "2 bytes = 16 bits\n",
    "1 kilo bytes = 1024 bytes\n",
    "1 mega bytes = 1024 kb\n",
    "1 gb = 1024 mb\n",
    "1 tb = 1024 gb"
   ]
  },
  {
   "cell_type": "code",
   "execution_count": null,
   "id": "f1c5c0aa",
   "metadata": {},
   "outputs": [],
   "source": [
    "  00001000\n",
    "  00010000\n",
    "  00100000  -> 32"
   ]
  },
  {
   "cell_type": "code",
   "execution_count": 34,
   "id": "5a2ceb21",
   "metadata": {},
   "outputs": [
    {
     "name": "stdout",
     "output_type": "stream",
     "text": [
      "88\n"
     ]
    }
   ],
   "source": [
    "print(11 << 3)"
   ]
  },
  {
   "cell_type": "code",
   "execution_count": null,
   "id": "8e99aa08",
   "metadata": {},
   "outputs": [],
   "source": [
    "  00001011\n",
    "  00010110\n",
    "  00101100\n",
    "  01011000 -> "
   ]
  },
  {
   "cell_type": "markdown",
   "id": "b230bc59",
   "metadata": {},
   "source": [
    "#### Bitwise right shift >>"
   ]
  },
  {
   "cell_type": "code",
   "execution_count": 35,
   "id": "19011e28",
   "metadata": {},
   "outputs": [
    {
     "name": "stdout",
     "output_type": "stream",
     "text": [
      "7\n"
     ]
    }
   ],
   "source": [
    "print(15 >> 1)"
   ]
  },
  {
   "cell_type": "code",
   "execution_count": null,
   "id": "ff8c5507",
   "metadata": {},
   "outputs": [],
   "source": [
    "    00001111\n",
    "    |\n",
    "    sign\n",
    "    bit"
   ]
  },
  {
   "cell_type": "code",
   "execution_count": null,
   "id": "e98a0c91",
   "metadata": {},
   "outputs": [],
   "source": [
    "    00001111\n",
    "    00000111"
   ]
  },
  {
   "cell_type": "code",
   "execution_count": 36,
   "id": "329f7be2",
   "metadata": {},
   "outputs": [
    {
     "name": "stdout",
     "output_type": "stream",
     "text": [
      "3\n"
     ]
    }
   ],
   "source": [
    "print(13 >> 2)"
   ]
  },
  {
   "cell_type": "code",
   "execution_count": null,
   "id": "ae334981",
   "metadata": {},
   "outputs": [],
   "source": [
    "      00001101\n",
    "      00000110\n",
    "      00000011"
   ]
  },
  {
   "cell_type": "markdown",
   "id": "12759b0f",
   "metadata": {},
   "source": [
    "## Compound Operators/Assignment Operators"
   ]
  },
  {
   "cell_type": "code",
   "execution_count": null,
   "id": "659b9485",
   "metadata": {},
   "outputs": [],
   "source": [
    "=,\n",
    "\n",
    "+=, -=, *=, /=, %=, //=, **="
   ]
  },
  {
   "cell_type": "code",
   "execution_count": 37,
   "id": "5166950f",
   "metadata": {},
   "outputs": [
    {
     "name": "stdout",
     "output_type": "stream",
     "text": [
      "15\n"
     ]
    }
   ],
   "source": [
    "a = 10\n",
    "\n",
    "a += 5   # a = a + 5 \n",
    "\n",
    "print(a)"
   ]
  },
  {
   "cell_type": "code",
   "execution_count": 38,
   "id": "3eb7cc6f",
   "metadata": {},
   "outputs": [
    {
     "name": "stdout",
     "output_type": "stream",
     "text": [
      "6\n"
     ]
    }
   ],
   "source": [
    "a = 10\n",
    "\n",
    "a -= 4   # a = a - 4\n",
    "\n",
    "print(a)"
   ]
  },
  {
   "cell_type": "code",
   "execution_count": 39,
   "id": "0f3e288d",
   "metadata": {},
   "outputs": [
    {
     "name": "stdout",
     "output_type": "stream",
     "text": [
      "11\n"
     ]
    }
   ],
   "source": [
    "a = 10\n",
    "\n",
    "a += 1  # a = a + 1\n",
    "\n",
    "print(a)"
   ]
  },
  {
   "cell_type": "code",
   "execution_count": 40,
   "id": "a06917dd",
   "metadata": {},
   "outputs": [
    {
     "name": "stdout",
     "output_type": "stream",
     "text": [
      "1\n"
     ]
    }
   ],
   "source": [
    "a = 7\n",
    "\n",
    "a %= 2   # a = a % 2\n",
    "\n",
    "print(a)"
   ]
  },
  {
   "cell_type": "code",
   "execution_count": 41,
   "id": "d5b061e9",
   "metadata": {},
   "outputs": [
    {
     "name": "stdout",
     "output_type": "stream",
     "text": [
      "2\n"
     ]
    }
   ],
   "source": [
    "a = 11\n",
    "\n",
    "a //= 5   # a = a // 5\n",
    "\n",
    "print(a)"
   ]
  },
  {
   "cell_type": "markdown",
   "id": "1ab3d41f",
   "metadata": {},
   "source": [
    "## membership operators"
   ]
  },
  {
   "cell_type": "code",
   "execution_count": null,
   "id": "c169bfb3",
   "metadata": {},
   "outputs": [],
   "source": [
    "in\n",
    "\n",
    "not in"
   ]
  },
  {
   "cell_type": "markdown",
   "id": "bf761c73",
   "metadata": {},
   "source": [
    "## identity operators"
   ]
  },
  {
   "cell_type": "code",
   "execution_count": null,
   "id": "14937c1d",
   "metadata": {},
   "outputs": [],
   "source": [
    "is \n",
    "\n",
    "not is"
   ]
  },
  {
   "cell_type": "code",
   "execution_count": null,
   "id": "a2425801",
   "metadata": {},
   "outputs": [],
   "source": [
    "a = 10"
   ]
  }
 ],
 "metadata": {
  "kernelspec": {
   "display_name": "Python 3 (ipykernel)",
   "language": "python",
   "name": "python3"
  },
  "language_info": {
   "codemirror_mode": {
    "name": "ipython",
    "version": 3
   },
   "file_extension": ".py",
   "mimetype": "text/x-python",
   "name": "python",
   "nbconvert_exporter": "python",
   "pygments_lexer": "ipython3",
   "version": "3.9.12"
  }
 },
 "nbformat": 4,
 "nbformat_minor": 5
}
